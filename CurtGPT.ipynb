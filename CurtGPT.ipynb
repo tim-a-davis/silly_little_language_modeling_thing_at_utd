{
  "cells": [
    {
      "cell_type": "markdown",
      "metadata": {
        "id": "view-in-github",
        "colab_type": "text"
      },
      "source": [
        "<a href=\"https://colab.research.google.com/github/tim-a-davis/silly_little_language_modeling_thing_at_utd/blob/main/CurtGPT.ipynb\" target=\"_parent\"><img src=\"https://colab.research.google.com/assets/colab-badge.svg\" alt=\"Open In Colab\"/></a>"
      ]
    },
    {
      "cell_type": "markdown",
      "source": [
        "# What is a language model"
      ],
      "metadata": {
        "id": "yAShZEifWVAV"
      }
    },
    {
      "cell_type": "markdown",
      "source": [
        "*italicized text*# New Section"
      ],
      "metadata": {
        "id": "2ux4R7erWT4B"
      }
    },
    {
      "cell_type": "code",
      "source": [
        "#@title Installing dependencies\n",
        "!pip install -q trl transformers accelerate peft datasets bitsandbytes einops"
      ],
      "metadata": {
        "colab": {
          "base_uri": "https://localhost:8080/",
          "height": 17
        },
        "cellView": "form",
        "id": "eJQmTHR3dIrL",
        "outputId": "29cb36ab-1595-4f24-b3ba-0dfdaab0f77c"
      },
      "execution_count": 612,
      "outputs": [
        {
          "output_type": "display_data",
          "data": {
            "text/plain": [
              "<IPython.core.display.HTML object>"
            ],
            "text/html": [
              "\n",
              "  <style>\n",
              "    pre {\n",
              "        white-space: pre-wrap;\n",
              "    }\n",
              "  </style>\n",
              "  "
            ]
          },
          "metadata": {}
        },
        {
          "output_type": "display_data",
          "data": {
            "text/plain": [
              "<IPython.core.display.HTML object>"
            ],
            "text/html": [
              "\n",
              "  <style>\n",
              "    pre {\n",
              "        white-space: pre-wrap;\n",
              "    }\n",
              "  </style>\n",
              "  "
            ]
          },
          "metadata": {}
        }
      ]
    },
    {
      "cell_type": "code",
      "source": [
        "#@title Imports & setup\n",
        "import requests\n",
        "from collections import defaultdict, Counter\n",
        "import random\n",
        "import time\n",
        "import math\n",
        "from IPython.display import HTML, display, clear_output\n",
        "import ipywidgets as widgets\n",
        "from einops import rearrange\n",
        "import matplotlib.pyplot as plt\n",
        "import torch\n",
        "from transformers import AutoModelForCausalLM, AutoTokenizer, GenerationConfig\n",
        "\n",
        "def set_css():\n",
        "  display(HTML('''\n",
        "  <style>\n",
        "    pre {\n",
        "        white-space: pre-wrap;\n",
        "    }\n",
        "  </style>\n",
        "  '''))\n",
        "\n",
        "get_ipython().events.register('pre_run_cell', set_css)"
      ],
      "metadata": {
        "id": "miP5UKcBae7u",
        "colab": {
          "base_uri": "https://localhost:8080/",
          "height": 17
        },
        "cellView": "form",
        "outputId": "9e9e8f4a-560f-44eb-91ff-f8152b0568cb"
      },
      "execution_count": 614,
      "outputs": [
        {
          "output_type": "display_data",
          "data": {
            "text/plain": [
              "<IPython.core.display.HTML object>"
            ],
            "text/html": [
              "\n",
              "  <style>\n",
              "    pre {\n",
              "        white-space: pre-wrap;\n",
              "    }\n",
              "  </style>\n",
              "  "
            ]
          },
          "metadata": {}
        },
        {
          "output_type": "display_data",
          "data": {
            "text/plain": [
              "<IPython.core.display.HTML object>"
            ],
            "text/html": [
              "\n",
              "  <style>\n",
              "    pre {\n",
              "        white-space: pre-wrap;\n",
              "    }\n",
              "  </style>\n",
              "  "
            ]
          },
          "metadata": {}
        }
      ]
    },
    {
      "cell_type": "code",
      "source": [
        "class TrigramModel:\n",
        "    def __init__(self, url):\n",
        "        self.trigram_freq = defaultdict(Counter)\n",
        "        self._train(url)\n",
        "\n",
        "    def _train(self, url):\n",
        "        r = requests.get(url)\n",
        "        text = r.text.lower().split()\n",
        "\n",
        "        # Create trigrams\n",
        "        for i in range(len(text) - 2):\n",
        "            trigram = (text[i], text[i + 1], text[i + 2])\n",
        "            self.trigram_freq[(trigram[0], trigram[1])][trigram[2]] += 1\n",
        "\n",
        "    def _get_weighted_random_word(self, counter):\n",
        "        total = sum(counter.values())\n",
        "        random_choice = random.randint(1, total)\n",
        "\n",
        "        for word, freq in counter.items():\n",
        "            random_choice -= freq\n",
        "            if random_choice <= 0:\n",
        "                return word\n",
        "\n",
        "    def predict(self, text, n_words):\n",
        "        words = text.lower().split()\n",
        "        output = words.copy()\n",
        "\n",
        "        for _ in range(n_words):\n",
        "            last_bigram = tuple(output[-2:])\n",
        "            if last_bigram in self.trigram_freq:\n",
        "                next_word = self._get_weighted_random_word(\n",
        "                    self.trigram_freq[last_bigram]\n",
        "                )\n",
        "                output.append(next_word)\n",
        "            else:\n",
        "                break\n",
        "\n",
        "        return \" \".join(output)\n",
        "\n",
        "    def get_frequencies_of_bigram(self, text):\n",
        "        words = text.lower().split()\n",
        "        bigram = tuple(words[-2:])\n",
        "        return bigram, self.trigram_freq[bigram]\n"
      ],
      "metadata": {
        "id": "PTRO7WnoagbC",
        "colab": {
          "base_uri": "https://localhost:8080/",
          "height": 17
        },
        "outputId": "b4809fe9-e478-496e-8c17-2481fff50223"
      },
      "execution_count": 615,
      "outputs": [
        {
          "output_type": "display_data",
          "data": {
            "text/plain": [
              "<IPython.core.display.HTML object>"
            ],
            "text/html": [
              "\n",
              "  <style>\n",
              "    pre {\n",
              "        white-space: pre-wrap;\n",
              "    }\n",
              "  </style>\n",
              "  "
            ]
          },
          "metadata": {}
        },
        {
          "output_type": "display_data",
          "data": {
            "text/plain": [
              "<IPython.core.display.HTML object>"
            ],
            "text/html": [
              "\n",
              "  <style>\n",
              "    pre {\n",
              "        white-space: pre-wrap;\n",
              "    }\n",
              "  </style>\n",
              "  "
            ]
          },
          "metadata": {}
        },
        {
          "output_type": "display_data",
          "data": {
            "text/plain": [
              "<IPython.core.display.HTML object>"
            ],
            "text/html": [
              "\n",
              "  <style>\n",
              "    pre {\n",
              "        white-space: pre-wrap;\n",
              "    }\n",
              "  </style>\n",
              "  "
            ]
          },
          "metadata": {}
        }
      ]
    },
    {
      "cell_type": "code",
      "source": [
        "model = TrigramModel(\"http://gutenberg.net.au/ebooks06/0608511.txt\")"
      ],
      "metadata": {
        "id": "7-eYXbtwg8_m",
        "colab": {
          "base_uri": "https://localhost:8080/",
          "height": 17
        },
        "outputId": "96f0ee57-d093-487e-dfe6-305c450c8a44"
      },
      "execution_count": 616,
      "outputs": [
        {
          "output_type": "display_data",
          "data": {
            "text/plain": [
              "<IPython.core.display.HTML object>"
            ],
            "text/html": [
              "\n",
              "  <style>\n",
              "    pre {\n",
              "        white-space: pre-wrap;\n",
              "    }\n",
              "  </style>\n",
              "  "
            ]
          },
          "metadata": {}
        },
        {
          "output_type": "display_data",
          "data": {
            "text/plain": [
              "<IPython.core.display.HTML object>"
            ],
            "text/html": [
              "\n",
              "  <style>\n",
              "    pre {\n",
              "        white-space: pre-wrap;\n",
              "    }\n",
              "  </style>\n",
              "  "
            ]
          },
          "metadata": {}
        },
        {
          "output_type": "display_data",
          "data": {
            "text/plain": [
              "<IPython.core.display.HTML object>"
            ],
            "text/html": [
              "\n",
              "  <style>\n",
              "    pre {\n",
              "        white-space: pre-wrap;\n",
              "    }\n",
              "  </style>\n",
              "  "
            ]
          },
          "metadata": {}
        }
      ]
    },
    {
      "cell_type": "code",
      "source": [
        "text = \"as it started to sway, the master-at-arms\"\n",
        "n_words = 50  # Number of words ahead to predict\n",
        "\n",
        "prediction = model.predict(text, n_words)\n",
        "for i, letter in enumerate(prediction):\n",
        "    if not i % 100: print(\"\\n\")\n",
        "    print(letter, end='', flush=True)\n",
        "    time.sleep(0.003)"
      ],
      "metadata": {
        "id": "AW--CcH2hILO",
        "outputId": "9368eb5c-4712-417b-ffad-a43dc15de78e",
        "colab": {
          "base_uri": "https://localhost:8080/",
          "height": 170
        }
      },
      "execution_count": 617,
      "outputs": [
        {
          "output_type": "display_data",
          "data": {
            "text/plain": [
              "<IPython.core.display.HTML object>"
            ],
            "text/html": [
              "\n",
              "  <style>\n",
              "    pre {\n",
              "        white-space: pre-wrap;\n",
              "    }\n",
              "  </style>\n",
              "  "
            ]
          },
          "metadata": {}
        },
        {
          "output_type": "display_data",
          "data": {
            "text/plain": [
              "<IPython.core.display.HTML object>"
            ],
            "text/html": [
              "\n",
              "  <style>\n",
              "    pre {\n",
              "        white-space: pre-wrap;\n",
              "    }\n",
              "  </style>\n",
              "  "
            ]
          },
          "metadata": {}
        },
        {
          "output_type": "display_data",
          "data": {
            "text/plain": [
              "<IPython.core.display.HTML object>"
            ],
            "text/html": [
              "\n",
              "  <style>\n",
              "    pre {\n",
              "        white-space: pre-wrap;\n",
              "    }\n",
              "  </style>\n",
              "  "
            ]
          },
          "metadata": {}
        },
        {
          "output_type": "stream",
          "name": "stdout",
          "text": [
            "\n",
            "\n",
            "as it started to sway, the master-at-arms never suspected the veracity of these caprices of the man;\n",
            "\n",
            " but it was that had led up to the canine intelligence. nor was the mania of an instinct. the drum-b\n",
            "\n",
            "eat dissolved the multitude, distributing most of them would very likely brought this old man to his\n",
            "\n",
            " heroic strong man, hercules."
          ]
        }
      ]
    },
    {
      "cell_type": "code",
      "source": [
        "\n",
        "model.get_frequencies_of_bigram(text)"
      ],
      "metadata": {
        "id": "MGT9pkrthKSO",
        "outputId": "dc8ceffb-384f-4871-dd29-ab2e3cb6e4ab",
        "colab": {
          "base_uri": "https://localhost:8080/",
          "height": 272
        }
      },
      "execution_count": 6,
      "outputs": [
        {
          "output_type": "display_data",
          "data": {
            "text/plain": [
              "<IPython.core.display.HTML object>"
            ],
            "text/html": [
              "\n",
              "  <style>\n",
              "    pre {\n",
              "        white-space: pre-wrap;\n",
              "    }\n",
              "  </style>\n",
              "  "
            ]
          },
          "metadata": {}
        },
        {
          "output_type": "execute_result",
          "data": {
            "text/plain": [
              "(('the', 'master-at-arms'),\n",
              " Counter({'of': 1,\n",
              "          'was': 4,\n",
              "          'has': 1,\n",
              "          'in': 1,\n",
              "          'noticed': 1,\n",
              "          'that': 1,\n",
              "          'never': 1,\n",
              "          'being': 1,\n",
              "          'acted': 1,\n",
              "          'about': 1,\n",
              "          'said.': 1,\n",
              "          'said': 1,\n",
              "          'as': 1,\n",
              "          'and': 1}))"
            ]
          },
          "metadata": {},
          "execution_count": 6
        }
      ]
    },
    {
      "cell_type": "markdown",
      "source": [
        "![overly-complicated-diagram](http://www.phon.ox.ac.uk/jcoleman/old_SLP/Lecture_6/figure7-8.png)\n",
        "\n",
        "http://www.phon.ox.ac.uk/jcoleman/old_SLP/Lecture_6/trigram-modelling.html"
      ],
      "metadata": {
        "id": "3M4k-xVvk-b3"
      }
    },
    {
      "cell_type": "code",
      "source": [],
      "metadata": {
        "id": "cVJ-g3iUd2wh"
      },
      "execution_count": null,
      "outputs": []
    },
    {
      "cell_type": "code",
      "source": [
        "torch.set_default_device('cuda')\n",
        "model = AutoModelForCausalLM.from_pretrained(\"microsoft/phi-1_5\", trust_remote_code=True, torch_dtype=\"auto\")\n",
        "tokenizer = AutoTokenizer.from_pretrained(\"microsoft/phi-1_5\", trust_remote_code=True, torch_dtype=\"auto\")"
      ],
      "metadata": {
        "colab": {
          "base_uri": "https://localhost:8080/",
          "height": 17
        },
        "id": "IDMwICNuN3mS",
        "outputId": "01e9783b-afab-4982-b8e1-b49c6b62f4a6"
      },
      "execution_count": 618,
      "outputs": [
        {
          "output_type": "display_data",
          "data": {
            "text/plain": [
              "<IPython.core.display.HTML object>"
            ],
            "text/html": [
              "\n",
              "  <style>\n",
              "    pre {\n",
              "        white-space: pre-wrap;\n",
              "    }\n",
              "  </style>\n",
              "  "
            ]
          },
          "metadata": {}
        },
        {
          "output_type": "display_data",
          "data": {
            "text/plain": [
              "<IPython.core.display.HTML object>"
            ],
            "text/html": [
              "\n",
              "  <style>\n",
              "    pre {\n",
              "        white-space: pre-wrap;\n",
              "    }\n",
              "  </style>\n",
              "  "
            ]
          },
          "metadata": {}
        },
        {
          "output_type": "display_data",
          "data": {
            "text/plain": [
              "<IPython.core.display.HTML object>"
            ],
            "text/html": [
              "\n",
              "  <style>\n",
              "    pre {\n",
              "        white-space: pre-wrap;\n",
              "    }\n",
              "  </style>\n",
              "  "
            ]
          },
          "metadata": {}
        }
      ]
    },
    {
      "cell_type": "code",
      "source": [
        "prompt = \"For both pretraining and finetuning, we concat\"\n",
        "inputs = tokenizer(prompt, return_tensors=\"pt\", return_attention_mask=False)\n",
        "print(inputs)\n"
      ],
      "metadata": {
        "colab": {
          "base_uri": "https://localhost:8080/",
          "height": 51
        },
        "id": "5kjTm5iSWXSc",
        "outputId": "61c89bf4-9a18-476f-f03b-5101a6d333ad"
      },
      "execution_count": 619,
      "outputs": [
        {
          "output_type": "display_data",
          "data": {
            "text/plain": [
              "<IPython.core.display.HTML object>"
            ],
            "text/html": [
              "\n",
              "  <style>\n",
              "    pre {\n",
              "        white-space: pre-wrap;\n",
              "    }\n",
              "  </style>\n",
              "  "
            ]
          },
          "metadata": {}
        },
        {
          "output_type": "display_data",
          "data": {
            "text/plain": [
              "<IPython.core.display.HTML object>"
            ],
            "text/html": [
              "\n",
              "  <style>\n",
              "    pre {\n",
              "        white-space: pre-wrap;\n",
              "    }\n",
              "  </style>\n",
              "  "
            ]
          },
          "metadata": {}
        },
        {
          "output_type": "display_data",
          "data": {
            "text/plain": [
              "<IPython.core.display.HTML object>"
            ],
            "text/html": [
              "\n",
              "  <style>\n",
              "    pre {\n",
              "        white-space: pre-wrap;\n",
              "    }\n",
              "  </style>\n",
              "  "
            ]
          },
          "metadata": {}
        },
        {
          "output_type": "stream",
          "name": "stdout",
          "text": [
            "{'input_ids': tensor([[ 1890,  1111,  2181, 24674,   290,   957,   316, 46493,    11,   356,\n",
            "          1673,   265]], device='cuda:0')}\n"
          ]
        }
      ]
    },
    {
      "cell_type": "code",
      "source": [
        "for token_id in inputs[\"input_ids\"][0]:\n",
        "    id = token_id.item()\n",
        "    token = tokenizer.decode(id)\n",
        "    print(f\"{id: <5} ----> {token}\")"
      ],
      "metadata": {
        "colab": {
          "base_uri": "https://localhost:8080/",
          "height": 221
        },
        "id": "pjE2ZcWPtC3C",
        "outputId": "f0f6e038-ed46-4009-df51-3a65bb23a740"
      },
      "execution_count": 620,
      "outputs": [
        {
          "output_type": "display_data",
          "data": {
            "text/plain": [
              "<IPython.core.display.HTML object>"
            ],
            "text/html": [
              "\n",
              "  <style>\n",
              "    pre {\n",
              "        white-space: pre-wrap;\n",
              "    }\n",
              "  </style>\n",
              "  "
            ]
          },
          "metadata": {}
        },
        {
          "output_type": "display_data",
          "data": {
            "text/plain": [
              "<IPython.core.display.HTML object>"
            ],
            "text/html": [
              "\n",
              "  <style>\n",
              "    pre {\n",
              "        white-space: pre-wrap;\n",
              "    }\n",
              "  </style>\n",
              "  "
            ]
          },
          "metadata": {}
        },
        {
          "output_type": "display_data",
          "data": {
            "text/plain": [
              "<IPython.core.display.HTML object>"
            ],
            "text/html": [
              "\n",
              "  <style>\n",
              "    pre {\n",
              "        white-space: pre-wrap;\n",
              "    }\n",
              "  </style>\n",
              "  "
            ]
          },
          "metadata": {}
        },
        {
          "output_type": "stream",
          "name": "stdout",
          "text": [
            "1890  ----> For\n",
            "1111  ---->  both\n",
            "2181  ---->  pret\n",
            "24674 ----> raining\n",
            "290   ---->  and\n",
            "957   ---->  fin\n",
            "316   ----> et\n",
            "46493 ----> uning\n",
            "11    ----> ,\n",
            "356   ---->  we\n",
            "1673  ---->  conc\n",
            "265   ----> at\n"
          ]
        }
      ]
    },
    {
      "cell_type": "code",
      "source": [
        "outputs = model.generate(**inputs, max_new_tokens=11)\n",
        "output_tokens = [tokenizer.decode(id) for id in outputs[0]]"
      ],
      "metadata": {
        "colab": {
          "base_uri": "https://localhost:8080/",
          "height": 17
        },
        "id": "LCNfBF_0WXUX",
        "outputId": "4eaa6428-2525-4740-d31e-f2b1e36588ac"
      },
      "execution_count": 621,
      "outputs": [
        {
          "output_type": "display_data",
          "data": {
            "text/plain": [
              "<IPython.core.display.HTML object>"
            ],
            "text/html": [
              "\n",
              "  <style>\n",
              "    pre {\n",
              "        white-space: pre-wrap;\n",
              "    }\n",
              "  </style>\n",
              "  "
            ]
          },
          "metadata": {}
        },
        {
          "output_type": "display_data",
          "data": {
            "text/plain": [
              "<IPython.core.display.HTML object>"
            ],
            "text/html": [
              "\n",
              "  <style>\n",
              "    pre {\n",
              "        white-space: pre-wrap;\n",
              "    }\n",
              "  </style>\n",
              "  "
            ]
          },
          "metadata": {}
        },
        {
          "output_type": "display_data",
          "data": {
            "text/plain": [
              "<IPython.core.display.HTML object>"
            ],
            "text/html": [
              "\n",
              "  <style>\n",
              "    pre {\n",
              "        white-space: pre-wrap;\n",
              "    }\n",
              "  </style>\n",
              "  "
            ]
          },
          "metadata": {}
        }
      ]
    },
    {
      "cell_type": "code",
      "source": [
        "#@title Helper function for printing token ids and tokens\n",
        "def print_tokens(ids, tokens, line_size=25):\n",
        "    tokens = [token.replace(\" \", \"·\") for token in tokens]\n",
        "    def chunk_list(lst, max_size):\n",
        "        for i in range(0, len(lst), max_size):\n",
        "            yield lst[i:i + max_size]\n",
        "    id_chunks = list(chunk_list(ids, line_size))\n",
        "    token_chunks = list(chunk_list(tokens, line_size))\n",
        "    for ids, tokens in zip(id_chunks, token_chunks):\n",
        "        max_widths = [max(len(str(id)), len(token)) for id, token in zip(ids, tokens)]\n",
        "        aligned_ids = [str(id).center(max_widths[i]) for i, id in enumerate(ids)]\n",
        "        aligned_arrows = ['↓'.center(max_widths[i]) for i in range(len(ids))]\n",
        "        aligned_tokens = [token.center(max_widths[i]) for i, token in enumerate(tokens)]\n",
        "        print(' '.join(aligned_ids))\n",
        "        print(' '.join(aligned_arrows))\n",
        "        print(repr(' '.join(aligned_tokens))[1:-1])\n",
        "        print(\"\\n\")\n",
        "\n",
        "\n"
      ],
      "metadata": {
        "colab": {
          "base_uri": "https://localhost:8080/",
          "height": 17
        },
        "cellView": "form",
        "id": "4JHmujrpqUh-",
        "outputId": "6d6a84be-8cf5-4a9d-e0fc-d457dc656bf8"
      },
      "execution_count": 622,
      "outputs": [
        {
          "output_type": "display_data",
          "data": {
            "text/plain": [
              "<IPython.core.display.HTML object>"
            ],
            "text/html": [
              "\n",
              "  <style>\n",
              "    pre {\n",
              "        white-space: pre-wrap;\n",
              "    }\n",
              "  </style>\n",
              "  "
            ]
          },
          "metadata": {}
        },
        {
          "output_type": "display_data",
          "data": {
            "text/plain": [
              "<IPython.core.display.HTML object>"
            ],
            "text/html": [
              "\n",
              "  <style>\n",
              "    pre {\n",
              "        white-space: pre-wrap;\n",
              "    }\n",
              "  </style>\n",
              "  "
            ]
          },
          "metadata": {}
        },
        {
          "output_type": "display_data",
          "data": {
            "text/plain": [
              "<IPython.core.display.HTML object>"
            ],
            "text/html": [
              "\n",
              "  <style>\n",
              "    pre {\n",
              "        white-space: pre-wrap;\n",
              "    }\n",
              "  </style>\n",
              "  "
            ]
          },
          "metadata": {}
        }
      ]
    },
    {
      "cell_type": "code",
      "source": [
        "print(\"Output:\\n\" + \"\".join(output_tokens) + \"\\n\\nToken Mapping:\")\n",
        "print_tokens(outputs.cpu().tolist()[0], output_tokens)\n",
        "\n",
        "print(\"\\n\\n* The · characters represent spaces in the token\")"
      ],
      "metadata": {
        "colab": {
          "base_uri": "https://localhost:8080/",
          "height": 221
        },
        "id": "iHZ_Zp_wcr-7",
        "outputId": "ca779b7c-1647-42eb-c04f-5b39a06f294f"
      },
      "execution_count": 623,
      "outputs": [
        {
          "output_type": "display_data",
          "data": {
            "text/plain": [
              "<IPython.core.display.HTML object>"
            ],
            "text/html": [
              "\n",
              "  <style>\n",
              "    pre {\n",
              "        white-space: pre-wrap;\n",
              "    }\n",
              "  </style>\n",
              "  "
            ]
          },
          "metadata": {}
        },
        {
          "output_type": "display_data",
          "data": {
            "text/plain": [
              "<IPython.core.display.HTML object>"
            ],
            "text/html": [
              "\n",
              "  <style>\n",
              "    pre {\n",
              "        white-space: pre-wrap;\n",
              "    }\n",
              "  </style>\n",
              "  "
            ]
          },
          "metadata": {}
        },
        {
          "output_type": "display_data",
          "data": {
            "text/plain": [
              "<IPython.core.display.HTML object>"
            ],
            "text/html": [
              "\n",
              "  <style>\n",
              "    pre {\n",
              "        white-space: pre-wrap;\n",
              "    }\n",
              "  </style>\n",
              "  "
            ]
          },
          "metadata": {}
        },
        {
          "output_type": "stream",
          "name": "stdout",
          "text": [
            "Output:\n",
            "For both pretraining and finetuning, we concat the input and output of the encoder and decoder\n",
            "\n",
            "Token Mapping:\n",
            "1890  1111  2181  24674  290  957  316 46493 11 356  1673 265 262   5128  290    5072  286 262  2207 12342 290  875  12342\n",
            " ↓     ↓     ↓      ↓     ↓    ↓    ↓    ↓   ↓   ↓    ↓    ↓   ↓     ↓     ↓      ↓     ↓   ↓    ↓     ↓    ↓    ↓     ↓  \n",
            "For  ·both ·pret raining ·and ·fin  et uning ,  ·we ·conc  at ·the ·input ·and ·output ·of ·the ·enc  oder ·and ·dec  oder\n",
            "\n",
            "\n",
            "\n",
            "\n",
            "* The · characters represent spaces in the token\n"
          ]
        }
      ]
    },
    {
      "cell_type": "code",
      "source": [
        "single_forward_pass = model.forward(**inputs)\n",
        "\n",
        "print(f\"Shape of outputs: {single_forward_pass.logits.shape}\\n\\n\")\n",
        "\n",
        "top_10_token_ids = single_forward_pass.logits[0, -1, :].cpu().argsort().tolist()[-10:][::-1]\n",
        "top_10_tokens = [tokenizer.decode(token) for token in top_10_token_ids]\n",
        "top_10_probs = single_forward_pass.logits[0, -1, :].cpu()[top_10_token_ids]\n",
        "\n",
        "print(\"Top 10 next possible tokens given our input:\\n\")\n",
        "print(\"token        ~probability\")\n",
        "print(\"-\"*25)\n",
        "for token, prob in zip(top_10_tokens, top_10_probs):\n",
        "    print(f\"{repr(token)[1:-1]: <7} ----> {prob: >11}\")"
      ],
      "metadata": {
        "colab": {
          "base_uri": "https://localhost:8080/",
          "height": 306
        },
        "id": "2SbW1CCX76AQ",
        "outputId": "75b7a6ee-f5b8-438e-882e-b8034926ec27"
      },
      "execution_count": 624,
      "outputs": [
        {
          "output_type": "display_data",
          "data": {
            "text/plain": [
              "<IPython.core.display.HTML object>"
            ],
            "text/html": [
              "\n",
              "  <style>\n",
              "    pre {\n",
              "        white-space: pre-wrap;\n",
              "    }\n",
              "  </style>\n",
              "  "
            ]
          },
          "metadata": {}
        },
        {
          "output_type": "display_data",
          "data": {
            "text/plain": [
              "<IPython.core.display.HTML object>"
            ],
            "text/html": [
              "\n",
              "  <style>\n",
              "    pre {\n",
              "        white-space: pre-wrap;\n",
              "    }\n",
              "  </style>\n",
              "  "
            ]
          },
          "metadata": {}
        },
        {
          "output_type": "display_data",
          "data": {
            "text/plain": [
              "<IPython.core.display.HTML object>"
            ],
            "text/html": [
              "\n",
              "  <style>\n",
              "    pre {\n",
              "        white-space: pre-wrap;\n",
              "    }\n",
              "  </style>\n",
              "  "
            ]
          },
          "metadata": {}
        },
        {
          "output_type": "stream",
          "name": "stdout",
          "text": [
            "Shape of outputs: torch.Size([1, 12, 51200])\n",
            "\n",
            "\n",
            "Top 10 next possible tokens given our input:\n",
            "\n",
            "token        ~probability\n",
            "-------------------------\n",
            " the    ---->   20.890625\n",
            "en      ---->   18.796875\n",
            " all    ---->   18.578125\n",
            "ent     ---->   18.453125\n",
            "\\n      ---->        18.0\n",
            " two    ---->    17.53125\n",
            " a      ---->    17.46875\n",
            " input  ---->   17.140625\n",
            " with   ---->   16.984375\n",
            " our    ---->   16.953125\n"
          ]
        }
      ]
    },
    {
      "cell_type": "code",
      "source": [
        "#@title Helper functions for getting and displaying attention weights\n",
        "\n",
        "def get_attn_weights(inputs, layer, head):\n",
        "    x = model.layers[0](**inputs)\n",
        "    for i in range(1, layer):\n",
        "        x = model.layers[i](x)\n",
        "    x = model.layers[layer].ln(x)\n",
        "    model.layers[layer].mixer\n",
        "    qkv = model.layers[layer].mixer.Wqkv(x)\n",
        "    qkv = rearrange(qkv, \"... (three h d) -> ... three h d\", three=3, d=model.layers[layer].mixer.head_dim)\n",
        "    qkv = model.layers[layer].mixer.rotary_emb(qkv)\n",
        "    batch_size, seqlen = qkv.shape[0], qkv.shape[1]\n",
        "    q, k, v = qkv.unbind(dim=2)\n",
        "    softmax_scale = 1.0 / math.sqrt(q.shape[-1])\n",
        "    scores = torch.einsum('bthd,bshd->bhts', q, k * softmax_scale)\n",
        "    causal_mask = torch.triu(torch.full(size=(seqlen, seqlen), fill_value=-10000.0, device=scores.device), 1)\n",
        "    scores = scores + causal_mask.to(dtype=scores.dtype)\n",
        "    attention = torch.softmax(scores, dim=-1, dtype=v.dtype)\n",
        "    output = torch.einsum('bhts,bshd->bthd', attention, v)\n",
        "    weights = attention[0, head].cpu()\n",
        "    return weights\n",
        "\n",
        "\n",
        "def display_attention_weights(inputs, layer, head, token_idx):\n",
        "    input_tokens = [tokenizer.decode(id) for id in inputs[\"input_ids\"][0]]\n",
        "    weights = get_attn_weights(inputs, layer, head)\n",
        "    with out:\n",
        "        fig, ax = plt.subplots(figsize=(3, 1*(len(input_tokens)//4)))\n",
        "        ax.axis('off')\n",
        "        tl = len(input_tokens)\n",
        "        ax.set_ylim(0, len(input_tokens))\n",
        "        ax.set_xlim(0, 10)\n",
        "        for i, token in enumerate(input_tokens):\n",
        "            ax.text(3, len(input_tokens)-i, token, ha='right', va='top')\n",
        "            ax.text(8, len(input_tokens)-i, token, ha='left', va='top')\n",
        "        ax.fill_between([0, 3.3], [tl-token_idx, tl-token_idx], [tl-token_idx-0.75, tl-token_idx-0.75], color='blue', alpha=0.4)\n",
        "        for i, weight in enumerate(weights[token_idx].cpu().tolist()):\n",
        "            ax.fill_between([7.7, 13], [tl-i, tl-i], [tl-i-0.75, tl-i-0.75], color='blue', alpha=math.sqrt(weight)*0.7)\n",
        "            ax.plot([3.35, 7.65], [tl-token_idx - 0.375, tl-i], c=\"blue\", alpha=math.sqrt(weight)*0.7, lw=0.5)\n",
        "        out.clear_output()\n",
        "        plt.show()\n",
        "\n",
        "\n",
        "def handler(_):\n",
        "    display_attention_weights(inputs, layer.value, head.value, token_idx.value)\n"
      ],
      "metadata": {
        "colab": {
          "base_uri": "https://localhost:8080/",
          "height": 17
        },
        "cellView": "form",
        "id": "U3N5P2plqaOX",
        "outputId": "5c2ff5ed-7e29-46d3-f7ad-fbe3d3129bdb"
      },
      "execution_count": 625,
      "outputs": [
        {
          "output_type": "display_data",
          "data": {
            "text/plain": [
              "<IPython.core.display.HTML object>"
            ],
            "text/html": [
              "\n",
              "  <style>\n",
              "    pre {\n",
              "        white-space: pre-wrap;\n",
              "    }\n",
              "  </style>\n",
              "  "
            ]
          },
          "metadata": {}
        },
        {
          "output_type": "display_data",
          "data": {
            "text/plain": [
              "<IPython.core.display.HTML object>"
            ],
            "text/html": [
              "\n",
              "  <style>\n",
              "    pre {\n",
              "        white-space: pre-wrap;\n",
              "    }\n",
              "  </style>\n",
              "  "
            ]
          },
          "metadata": {}
        },
        {
          "output_type": "display_data",
          "data": {
            "text/plain": [
              "<IPython.core.display.HTML object>"
            ],
            "text/html": [
              "\n",
              "  <style>\n",
              "    pre {\n",
              "        white-space: pre-wrap;\n",
              "    }\n",
              "  </style>\n",
              "  "
            ]
          },
          "metadata": {}
        }
      ]
    },
    {
      "cell_type": "code",
      "source": [
        "prompt = \"A man named Bob, a man named Bob, a man named\"\n",
        "inputs = tokenizer(prompt, return_tensors=\"pt\", return_attention_mask=False)"
      ],
      "metadata": {
        "colab": {
          "base_uri": "https://localhost:8080/",
          "height": 17
        },
        "id": "_1xRfJyte7cC",
        "outputId": "6c0bd6a0-92b0-4860-fd0b-03e004c87dd1"
      },
      "execution_count": 627,
      "outputs": [
        {
          "output_type": "display_data",
          "data": {
            "text/plain": [
              "<IPython.core.display.HTML object>"
            ],
            "text/html": [
              "\n",
              "  <style>\n",
              "    pre {\n",
              "        white-space: pre-wrap;\n",
              "    }\n",
              "  </style>\n",
              "  "
            ]
          },
          "metadata": {}
        },
        {
          "output_type": "display_data",
          "data": {
            "text/plain": [
              "<IPython.core.display.HTML object>"
            ],
            "text/html": [
              "\n",
              "  <style>\n",
              "    pre {\n",
              "        white-space: pre-wrap;\n",
              "    }\n",
              "  </style>\n",
              "  "
            ]
          },
          "metadata": {}
        },
        {
          "output_type": "display_data",
          "data": {
            "text/plain": [
              "<IPython.core.display.HTML object>"
            ],
            "text/html": [
              "\n",
              "  <style>\n",
              "    pre {\n",
              "        white-space: pre-wrap;\n",
              "    }\n",
              "  </style>\n",
              "  "
            ]
          },
          "metadata": {}
        }
      ]
    },
    {
      "cell_type": "code",
      "source": [
        "#@title Select the Layer, Attention Head, and Token to view the attention weights\n",
        "layer = widgets.Dropdown(options=list(range(1, 24)), description=\"Layer\")\n",
        "head = widgets.Dropdown(options=list(range(0, 32)), description=\"Attn Head:\")\n",
        "token_idx = widgets.Dropdown(options=list(zip([tokenizer.decode(id) for id in inputs[\"input_ids\"][0]], list(range(len(inputs[\"input_ids\"][0]))))), description=\"Token:\")\n",
        "button = widgets.Button(description=\"Plot\")\n",
        "button.on_click(handler)\n",
        "\n",
        "out = widgets.Output()\n",
        "\n",
        "display(layer, head, token_idx, button)\n",
        "display(out)"
      ],
      "metadata": {
        "colab": {
          "base_uri": "https://localhost:8080/",
          "height": 392,
          "referenced_widgets": [
            "2e41785f614f45dcaa0a1df5f1c6ddd6",
            "902e368533e9476286f9c4f6311e49d2",
            "15748c301b494d3884a142e0f5afb7fb",
            "a3376fbf1bb248d6ada1d5246a30c0b4",
            "408f3fd1358e4c13977266d44fa52d23",
            "646eca813ccf447496a1ec5f7dadb228",
            "9f03236548384a67837ab9f2484b6987",
            "378fd5ed5815477c8a0f057dd7d89274",
            "5cab687248194b46a7cbca9a98a0e79d",
            "2c990a3a99b64b3b81f8a27727b806ef",
            "b5c00606008644abb19dca1aff38e7d1",
            "3a525477a38d4e308cfbf828982ddcbd",
            "6f30ef8bbdd8473c86ab5eac605ecb57",
            "c4e228c694ce430a8d73b79e3ffc1d59"
          ]
        },
        "cellView": "form",
        "id": "X-w1l_PERmDv",
        "outputId": "1c4d8d86-7022-46d8-f044-75d1aaa19ce5"
      },
      "execution_count": 628,
      "outputs": [
        {
          "output_type": "display_data",
          "data": {
            "text/plain": [
              "<IPython.core.display.HTML object>"
            ],
            "text/html": [
              "\n",
              "  <style>\n",
              "    pre {\n",
              "        white-space: pre-wrap;\n",
              "    }\n",
              "  </style>\n",
              "  "
            ]
          },
          "metadata": {}
        },
        {
          "output_type": "display_data",
          "data": {
            "text/plain": [
              "<IPython.core.display.HTML object>"
            ],
            "text/html": [
              "\n",
              "  <style>\n",
              "    pre {\n",
              "        white-space: pre-wrap;\n",
              "    }\n",
              "  </style>\n",
              "  "
            ]
          },
          "metadata": {}
        },
        {
          "output_type": "display_data",
          "data": {
            "text/plain": [
              "<IPython.core.display.HTML object>"
            ],
            "text/html": [
              "\n",
              "  <style>\n",
              "    pre {\n",
              "        white-space: pre-wrap;\n",
              "    }\n",
              "  </style>\n",
              "  "
            ]
          },
          "metadata": {}
        },
        {
          "output_type": "display_data",
          "data": {
            "text/plain": [
              "Dropdown(description='Layer', options=(1, 2, 3, 4, 5, 6, 7, 8, 9, 10, 11, 12, 13, 14, 15, 16, 17, 18, 19, 20, …"
            ],
            "application/vnd.jupyter.widget-view+json": {
              "version_major": 2,
              "version_minor": 0,
              "model_id": "2e41785f614f45dcaa0a1df5f1c6ddd6"
            }
          },
          "metadata": {}
        },
        {
          "output_type": "display_data",
          "data": {
            "text/plain": [
              "Dropdown(description='Attn Head:', options=(0, 1, 2, 3, 4, 5, 6, 7, 8, 9, 10, 11, 12, 13, 14, 15, 16, 17, 18, …"
            ],
            "application/vnd.jupyter.widget-view+json": {
              "version_major": 2,
              "version_minor": 0,
              "model_id": "a3376fbf1bb248d6ada1d5246a30c0b4"
            }
          },
          "metadata": {}
        },
        {
          "output_type": "display_data",
          "data": {
            "text/plain": [
              "Dropdown(description='Token:', options=(('A', 0), (' man', 1), (' named', 2), (' Bob', 3), (',', 4), (' a', 5)…"
            ],
            "application/vnd.jupyter.widget-view+json": {
              "version_major": 2,
              "version_minor": 0,
              "model_id": "9f03236548384a67837ab9f2484b6987"
            }
          },
          "metadata": {}
        },
        {
          "output_type": "display_data",
          "data": {
            "text/plain": [
              "Button(description='Plot', style=ButtonStyle())"
            ],
            "application/vnd.jupyter.widget-view+json": {
              "version_major": 2,
              "version_minor": 0,
              "model_id": "2c990a3a99b64b3b81f8a27727b806ef"
            }
          },
          "metadata": {}
        },
        {
          "output_type": "display_data",
          "data": {
            "text/plain": [
              "Output()"
            ],
            "application/vnd.jupyter.widget-view+json": {
              "version_major": 2,
              "version_minor": 0,
              "model_id": "6f30ef8bbdd8473c86ab5eac605ecb57"
            }
          },
          "metadata": {}
        }
      ]
    },
    {
      "cell_type": "code",
      "source": [],
      "metadata": {
        "id": "wtMD3lT36vTj"
      },
      "execution_count": null,
      "outputs": []
    },
    {
      "cell_type": "code",
      "source": [],
      "metadata": {
        "id": "2hr1Fgf66tFk"
      },
      "execution_count": null,
      "outputs": []
    },
    {
      "cell_type": "code",
      "source": [],
      "metadata": {
        "id": "WN5VUfCa6ICn"
      },
      "execution_count": null,
      "outputs": []
    },
    {
      "cell_type": "code",
      "source": [],
      "metadata": {
        "id": "p5wuvj7l6EE-"
      },
      "execution_count": null,
      "outputs": []
    },
    {
      "cell_type": "code",
      "source": [],
      "metadata": {
        "id": "E0FHD_dN54VC"
      },
      "execution_count": null,
      "outputs": []
    },
    {
      "cell_type": "code",
      "source": [],
      "metadata": {
        "colab": {
          "base_uri": "https://localhost:8080/",
          "height": 34
        },
        "id": "6R1yxBAk3krS",
        "outputId": "8ea0ee5f-a386-40e1-ae1d-a8e4a75af75b"
      },
      "execution_count": 178,
      "outputs": [
        {
          "output_type": "display_data",
          "data": {
            "text/plain": [
              "<IPython.core.display.HTML object>"
            ],
            "text/html": [
              "\n",
              "  <style>\n",
              "    pre {\n",
              "        white-space: pre-wrap;\n",
              "    }\n",
              "  </style>\n",
              "  "
            ]
          },
          "metadata": {}
        },
        {
          "output_type": "execute_result",
          "data": {
            "text/plain": [
              "torch.Size([1, 12])"
            ]
          },
          "metadata": {},
          "execution_count": 178
        }
      ]
    }
  ],
  "metadata": {
    "colab": {
      "toc_visible": true,
      "provenance": [],
      "gpuType": "T4",
      "include_colab_link": true
    },
    "kernelspec": {
      "display_name": "Python 3",
      "name": "python3"
    },
    "accelerator": "GPU",
    "widgets": {
      "application/vnd.jupyter.widget-state+json": {
        "2e41785f614f45dcaa0a1df5f1c6ddd6": {
          "model_module": "@jupyter-widgets/controls",
          "model_name": "DropdownModel",
          "model_module_version": "1.5.0",
          "state": {
            "_dom_classes": [],
            "_model_module": "@jupyter-widgets/controls",
            "_model_module_version": "1.5.0",
            "_model_name": "DropdownModel",
            "_options_labels": [
              "1",
              "2",
              "3",
              "4",
              "5",
              "6",
              "7",
              "8",
              "9",
              "10",
              "11",
              "12",
              "13",
              "14",
              "15",
              "16",
              "17",
              "18",
              "19",
              "20",
              "21",
              "22",
              "23"
            ],
            "_view_count": null,
            "_view_module": "@jupyter-widgets/controls",
            "_view_module_version": "1.5.0",
            "_view_name": "DropdownView",
            "description": "Layer",
            "description_tooltip": null,
            "disabled": false,
            "index": 1,
            "layout": "IPY_MODEL_902e368533e9476286f9c4f6311e49d2",
            "style": "IPY_MODEL_15748c301b494d3884a142e0f5afb7fb"
          }
        },
        "902e368533e9476286f9c4f6311e49d2": {
          "model_module": "@jupyter-widgets/base",
          "model_name": "LayoutModel",
          "model_module_version": "1.2.0",
          "state": {
            "_model_module": "@jupyter-widgets/base",
            "_model_module_version": "1.2.0",
            "_model_name": "LayoutModel",
            "_view_count": null,
            "_view_module": "@jupyter-widgets/base",
            "_view_module_version": "1.2.0",
            "_view_name": "LayoutView",
            "align_content": null,
            "align_items": null,
            "align_self": null,
            "border": null,
            "bottom": null,
            "display": null,
            "flex": null,
            "flex_flow": null,
            "grid_area": null,
            "grid_auto_columns": null,
            "grid_auto_flow": null,
            "grid_auto_rows": null,
            "grid_column": null,
            "grid_gap": null,
            "grid_row": null,
            "grid_template_areas": null,
            "grid_template_columns": null,
            "grid_template_rows": null,
            "height": null,
            "justify_content": null,
            "justify_items": null,
            "left": null,
            "margin": null,
            "max_height": null,
            "max_width": null,
            "min_height": null,
            "min_width": null,
            "object_fit": null,
            "object_position": null,
            "order": null,
            "overflow": null,
            "overflow_x": null,
            "overflow_y": null,
            "padding": null,
            "right": null,
            "top": null,
            "visibility": null,
            "width": null
          }
        },
        "15748c301b494d3884a142e0f5afb7fb": {
          "model_module": "@jupyter-widgets/controls",
          "model_name": "DescriptionStyleModel",
          "model_module_version": "1.5.0",
          "state": {
            "_model_module": "@jupyter-widgets/controls",
            "_model_module_version": "1.5.0",
            "_model_name": "DescriptionStyleModel",
            "_view_count": null,
            "_view_module": "@jupyter-widgets/base",
            "_view_module_version": "1.2.0",
            "_view_name": "StyleView",
            "description_width": ""
          }
        },
        "a3376fbf1bb248d6ada1d5246a30c0b4": {
          "model_module": "@jupyter-widgets/controls",
          "model_name": "DropdownModel",
          "model_module_version": "1.5.0",
          "state": {
            "_dom_classes": [],
            "_model_module": "@jupyter-widgets/controls",
            "_model_module_version": "1.5.0",
            "_model_name": "DropdownModel",
            "_options_labels": [
              "0",
              "1",
              "2",
              "3",
              "4",
              "5",
              "6",
              "7",
              "8",
              "9",
              "10",
              "11",
              "12",
              "13",
              "14",
              "15",
              "16",
              "17",
              "18",
              "19",
              "20",
              "21",
              "22",
              "23",
              "24",
              "25",
              "26",
              "27",
              "28",
              "29",
              "30",
              "31"
            ],
            "_view_count": null,
            "_view_module": "@jupyter-widgets/controls",
            "_view_module_version": "1.5.0",
            "_view_name": "DropdownView",
            "description": "Attn Head:",
            "description_tooltip": null,
            "disabled": false,
            "index": 31,
            "layout": "IPY_MODEL_408f3fd1358e4c13977266d44fa52d23",
            "style": "IPY_MODEL_646eca813ccf447496a1ec5f7dadb228"
          }
        },
        "408f3fd1358e4c13977266d44fa52d23": {
          "model_module": "@jupyter-widgets/base",
          "model_name": "LayoutModel",
          "model_module_version": "1.2.0",
          "state": {
            "_model_module": "@jupyter-widgets/base",
            "_model_module_version": "1.2.0",
            "_model_name": "LayoutModel",
            "_view_count": null,
            "_view_module": "@jupyter-widgets/base",
            "_view_module_version": "1.2.0",
            "_view_name": "LayoutView",
            "align_content": null,
            "align_items": null,
            "align_self": null,
            "border": null,
            "bottom": null,
            "display": null,
            "flex": null,
            "flex_flow": null,
            "grid_area": null,
            "grid_auto_columns": null,
            "grid_auto_flow": null,
            "grid_auto_rows": null,
            "grid_column": null,
            "grid_gap": null,
            "grid_row": null,
            "grid_template_areas": null,
            "grid_template_columns": null,
            "grid_template_rows": null,
            "height": null,
            "justify_content": null,
            "justify_items": null,
            "left": null,
            "margin": null,
            "max_height": null,
            "max_width": null,
            "min_height": null,
            "min_width": null,
            "object_fit": null,
            "object_position": null,
            "order": null,
            "overflow": null,
            "overflow_x": null,
            "overflow_y": null,
            "padding": null,
            "right": null,
            "top": null,
            "visibility": null,
            "width": null
          }
        },
        "646eca813ccf447496a1ec5f7dadb228": {
          "model_module": "@jupyter-widgets/controls",
          "model_name": "DescriptionStyleModel",
          "model_module_version": "1.5.0",
          "state": {
            "_model_module": "@jupyter-widgets/controls",
            "_model_module_version": "1.5.0",
            "_model_name": "DescriptionStyleModel",
            "_view_count": null,
            "_view_module": "@jupyter-widgets/base",
            "_view_module_version": "1.2.0",
            "_view_name": "StyleView",
            "description_width": ""
          }
        },
        "9f03236548384a67837ab9f2484b6987": {
          "model_module": "@jupyter-widgets/controls",
          "model_name": "DropdownModel",
          "model_module_version": "1.5.0",
          "state": {
            "_dom_classes": [],
            "_model_module": "@jupyter-widgets/controls",
            "_model_module_version": "1.5.0",
            "_model_name": "DropdownModel",
            "_options_labels": [
              "A",
              " man",
              " named",
              " Bob",
              ",",
              " a",
              " man",
              " named",
              " Bob",
              ",",
              " a",
              " man",
              " named"
            ],
            "_view_count": null,
            "_view_module": "@jupyter-widgets/controls",
            "_view_module_version": "1.5.0",
            "_view_name": "DropdownView",
            "description": "Token:",
            "description_tooltip": null,
            "disabled": false,
            "index": 7,
            "layout": "IPY_MODEL_378fd5ed5815477c8a0f057dd7d89274",
            "style": "IPY_MODEL_5cab687248194b46a7cbca9a98a0e79d"
          }
        },
        "378fd5ed5815477c8a0f057dd7d89274": {
          "model_module": "@jupyter-widgets/base",
          "model_name": "LayoutModel",
          "model_module_version": "1.2.0",
          "state": {
            "_model_module": "@jupyter-widgets/base",
            "_model_module_version": "1.2.0",
            "_model_name": "LayoutModel",
            "_view_count": null,
            "_view_module": "@jupyter-widgets/base",
            "_view_module_version": "1.2.0",
            "_view_name": "LayoutView",
            "align_content": null,
            "align_items": null,
            "align_self": null,
            "border": null,
            "bottom": null,
            "display": null,
            "flex": null,
            "flex_flow": null,
            "grid_area": null,
            "grid_auto_columns": null,
            "grid_auto_flow": null,
            "grid_auto_rows": null,
            "grid_column": null,
            "grid_gap": null,
            "grid_row": null,
            "grid_template_areas": null,
            "grid_template_columns": null,
            "grid_template_rows": null,
            "height": null,
            "justify_content": null,
            "justify_items": null,
            "left": null,
            "margin": null,
            "max_height": null,
            "max_width": null,
            "min_height": null,
            "min_width": null,
            "object_fit": null,
            "object_position": null,
            "order": null,
            "overflow": null,
            "overflow_x": null,
            "overflow_y": null,
            "padding": null,
            "right": null,
            "top": null,
            "visibility": null,
            "width": null
          }
        },
        "5cab687248194b46a7cbca9a98a0e79d": {
          "model_module": "@jupyter-widgets/controls",
          "model_name": "DescriptionStyleModel",
          "model_module_version": "1.5.0",
          "state": {
            "_model_module": "@jupyter-widgets/controls",
            "_model_module_version": "1.5.0",
            "_model_name": "DescriptionStyleModel",
            "_view_count": null,
            "_view_module": "@jupyter-widgets/base",
            "_view_module_version": "1.2.0",
            "_view_name": "StyleView",
            "description_width": ""
          }
        },
        "2c990a3a99b64b3b81f8a27727b806ef": {
          "model_module": "@jupyter-widgets/controls",
          "model_name": "ButtonModel",
          "model_module_version": "1.5.0",
          "state": {
            "_dom_classes": [],
            "_model_module": "@jupyter-widgets/controls",
            "_model_module_version": "1.5.0",
            "_model_name": "ButtonModel",
            "_view_count": null,
            "_view_module": "@jupyter-widgets/controls",
            "_view_module_version": "1.5.0",
            "_view_name": "ButtonView",
            "button_style": "",
            "description": "Plot",
            "disabled": false,
            "icon": "",
            "layout": "IPY_MODEL_b5c00606008644abb19dca1aff38e7d1",
            "style": "IPY_MODEL_3a525477a38d4e308cfbf828982ddcbd",
            "tooltip": ""
          }
        },
        "b5c00606008644abb19dca1aff38e7d1": {
          "model_module": "@jupyter-widgets/base",
          "model_name": "LayoutModel",
          "model_module_version": "1.2.0",
          "state": {
            "_model_module": "@jupyter-widgets/base",
            "_model_module_version": "1.2.0",
            "_model_name": "LayoutModel",
            "_view_count": null,
            "_view_module": "@jupyter-widgets/base",
            "_view_module_version": "1.2.0",
            "_view_name": "LayoutView",
            "align_content": null,
            "align_items": null,
            "align_self": null,
            "border": null,
            "bottom": null,
            "display": null,
            "flex": null,
            "flex_flow": null,
            "grid_area": null,
            "grid_auto_columns": null,
            "grid_auto_flow": null,
            "grid_auto_rows": null,
            "grid_column": null,
            "grid_gap": null,
            "grid_row": null,
            "grid_template_areas": null,
            "grid_template_columns": null,
            "grid_template_rows": null,
            "height": null,
            "justify_content": null,
            "justify_items": null,
            "left": null,
            "margin": null,
            "max_height": null,
            "max_width": null,
            "min_height": null,
            "min_width": null,
            "object_fit": null,
            "object_position": null,
            "order": null,
            "overflow": null,
            "overflow_x": null,
            "overflow_y": null,
            "padding": null,
            "right": null,
            "top": null,
            "visibility": null,
            "width": null
          }
        },
        "3a525477a38d4e308cfbf828982ddcbd": {
          "model_module": "@jupyter-widgets/controls",
          "model_name": "ButtonStyleModel",
          "model_module_version": "1.5.0",
          "state": {
            "_model_module": "@jupyter-widgets/controls",
            "_model_module_version": "1.5.0",
            "_model_name": "ButtonStyleModel",
            "_view_count": null,
            "_view_module": "@jupyter-widgets/base",
            "_view_module_version": "1.2.0",
            "_view_name": "StyleView",
            "button_color": null,
            "font_weight": ""
          }
        },
        "6f30ef8bbdd8473c86ab5eac605ecb57": {
          "model_module": "@jupyter-widgets/output",
          "model_name": "OutputModel",
          "model_module_version": "1.0.0",
          "state": {
            "_dom_classes": [],
            "_model_module": "@jupyter-widgets/output",
            "_model_module_version": "1.0.0",
            "_model_name": "OutputModel",
            "_view_count": null,
            "_view_module": "@jupyter-widgets/output",
            "_view_module_version": "1.0.0",
            "_view_name": "OutputView",
            "layout": "IPY_MODEL_c4e228c694ce430a8d73b79e3ffc1d59",
            "msg_id": "",
            "outputs": [
              {
                "output_type": "display_data",
                "data": {
                  "text/plain": "<Figure size 300x300 with 1 Axes>",
                  "image/png": "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\n"
                },
                "metadata": {}
              }
            ]
          }
        },
        "c4e228c694ce430a8d73b79e3ffc1d59": {
          "model_module": "@jupyter-widgets/base",
          "model_name": "LayoutModel",
          "model_module_version": "1.2.0",
          "state": {
            "_model_module": "@jupyter-widgets/base",
            "_model_module_version": "1.2.0",
            "_model_name": "LayoutModel",
            "_view_count": null,
            "_view_module": "@jupyter-widgets/base",
            "_view_module_version": "1.2.0",
            "_view_name": "LayoutView",
            "align_content": null,
            "align_items": null,
            "align_self": null,
            "border": null,
            "bottom": null,
            "display": null,
            "flex": null,
            "flex_flow": null,
            "grid_area": null,
            "grid_auto_columns": null,
            "grid_auto_flow": null,
            "grid_auto_rows": null,
            "grid_column": null,
            "grid_gap": null,
            "grid_row": null,
            "grid_template_areas": null,
            "grid_template_columns": null,
            "grid_template_rows": null,
            "height": null,
            "justify_content": null,
            "justify_items": null,
            "left": null,
            "margin": null,
            "max_height": null,
            "max_width": null,
            "min_height": null,
            "min_width": null,
            "object_fit": null,
            "object_position": null,
            "order": null,
            "overflow": null,
            "overflow_x": null,
            "overflow_y": null,
            "padding": null,
            "right": null,
            "top": null,
            "visibility": null,
            "width": null
          }
        }
      }
    }
  },
  "nbformat": 4,
  "nbformat_minor": 0
}