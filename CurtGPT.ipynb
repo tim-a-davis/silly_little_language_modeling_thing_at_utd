{
  "cells": [
    {
      "cell_type": "markdown",
      "metadata": {
        "id": "view-in-github",
        "colab_type": "text"
      },
      "source": [
        "<a href=\"https://colab.research.google.com/github/tim-a-davis/silly_little_language_modeling_thing_at_utd/blob/main/CurtGPT.ipynb\" target=\"_parent\"><img src=\"https://colab.research.google.com/assets/colab-badge.svg\" alt=\"Open In Colab\"/></a>"
      ]
    },
    {
      "cell_type": "markdown",
      "source": [
        "# What is a language model"
      ],
      "metadata": {
        "id": "yAShZEifWVAV"
      }
    },
    {
      "cell_type": "markdown",
      "source": [
        "*italicized text*# New Section"
      ],
      "metadata": {
        "id": "2ux4R7erWT4B"
      }
    },
    {
      "cell_type": "code",
      "source": [
        "import requests\n",
        "from collections import defaultdict, Counter\n",
        "import random\n",
        "import time\n",
        "import math\n",
        "from IPython.display import HTML, display, clear_output\n",
        "import ipywidgets as widgets\n",
        "from einops import rearrange\n",
        "import matplotlib.pyplot as plt"
      ],
      "metadata": {
        "id": "miP5UKcBae7u",
        "colab": {
          "base_uri": "https://localhost:8080/",
          "height": 17
        },
        "outputId": "7b76ac79-d0c7-43fb-8fcd-5847296706f0"
      },
      "execution_count": 549,
      "outputs": [
        {
          "output_type": "display_data",
          "data": {
            "text/plain": [
              "<IPython.core.display.HTML object>"
            ],
            "text/html": [
              "\n",
              "  <style>\n",
              "    pre {\n",
              "        white-space: pre-wrap;\n",
              "    }\n",
              "  </style>\n",
              "  "
            ]
          },
          "metadata": {}
        },
        {
          "output_type": "display_data",
          "data": {
            "text/plain": [
              "<IPython.core.display.HTML object>"
            ],
            "text/html": [
              "\n",
              "  <style>\n",
              "    pre {\n",
              "        white-space: pre-wrap;\n",
              "    }\n",
              "  </style>\n",
              "  "
            ]
          },
          "metadata": {}
        }
      ]
    },
    {
      "cell_type": "code",
      "source": [
        "def set_css():\n",
        "  display(HTML('''\n",
        "  <style>\n",
        "    pre {\n",
        "        white-space: pre-wrap;\n",
        "    }\n",
        "  </style>\n",
        "  '''))\n",
        "\n",
        "get_ipython().events.register('pre_run_cell', set_css)"
      ],
      "metadata": {
        "colab": {
          "base_uri": "https://localhost:8080/",
          "height": 17
        },
        "id": "vpc7B03YLyP1",
        "outputId": "b170b0fb-33bd-473f-ce5f-1b1a976abf4e"
      },
      "execution_count": 274,
      "outputs": [
        {
          "output_type": "display_data",
          "data": {
            "text/plain": [
              "<IPython.core.display.HTML object>"
            ],
            "text/html": [
              "\n",
              "  <style>\n",
              "    pre {\n",
              "        white-space: pre-wrap;\n",
              "    }\n",
              "  </style>\n",
              "  "
            ]
          },
          "metadata": {}
        }
      ]
    },
    {
      "cell_type": "code",
      "source": [
        "class TrigramModel:\n",
        "    def __init__(self, url):\n",
        "        self.trigram_freq = defaultdict(Counter)\n",
        "        self._train(url)\n",
        "\n",
        "    def _train(self, url):\n",
        "        r = requests.get(url)\n",
        "        text = r.text.lower().split()\n",
        "\n",
        "        # Create trigrams\n",
        "        for i in range(len(text) - 2):\n",
        "            trigram = (text[i], text[i + 1], text[i + 2])\n",
        "            self.trigram_freq[(trigram[0], trigram[1])][trigram[2]] += 1\n",
        "\n",
        "    def _get_weighted_random_word(self, counter):\n",
        "        total = sum(counter.values())\n",
        "        random_choice = random.randint(1, total)\n",
        "\n",
        "        for word, freq in counter.items():\n",
        "            random_choice -= freq\n",
        "            if random_choice <= 0:\n",
        "                return word\n",
        "\n",
        "    def predict(self, text, n_words):\n",
        "        words = text.lower().split()\n",
        "        output = words.copy()\n",
        "\n",
        "        for _ in range(n_words):\n",
        "            last_bigram = tuple(output[-2:])\n",
        "            if last_bigram in self.trigram_freq:\n",
        "                next_word = self._get_weighted_random_word(\n",
        "                    self.trigram_freq[last_bigram]\n",
        "                )\n",
        "                output.append(next_word)\n",
        "            else:\n",
        "                break\n",
        "\n",
        "        return \" \".join(output)\n",
        "\n",
        "    def get_frequencies_of_bigram(self, text):\n",
        "        words = text.lower().split()\n",
        "        bigram = tuple(words[-2:])\n",
        "        return bigram, self.trigram_freq[bigram]\n"
      ],
      "metadata": {
        "id": "PTRO7WnoagbC",
        "colab": {
          "base_uri": "https://localhost:8080/",
          "height": 17
        },
        "outputId": "ffe95970-07ba-4089-833e-dfbe1cca08cc"
      },
      "execution_count": 3,
      "outputs": [
        {
          "output_type": "display_data",
          "data": {
            "text/plain": [
              "<IPython.core.display.HTML object>"
            ],
            "text/html": [
              "\n",
              "  <style>\n",
              "    pre {\n",
              "        white-space: pre-wrap;\n",
              "    }\n",
              "  </style>\n",
              "  "
            ]
          },
          "metadata": {}
        }
      ]
    },
    {
      "cell_type": "code",
      "source": [
        "model = TrigramModel(\"http://gutenberg.net.au/ebooks06/0608511.txt\")"
      ],
      "metadata": {
        "id": "7-eYXbtwg8_m",
        "colab": {
          "base_uri": "https://localhost:8080/",
          "height": 17
        },
        "outputId": "f6b1c646-64bc-4278-8168-460e453d1682"
      },
      "execution_count": 4,
      "outputs": [
        {
          "output_type": "display_data",
          "data": {
            "text/plain": [
              "<IPython.core.display.HTML object>"
            ],
            "text/html": [
              "\n",
              "  <style>\n",
              "    pre {\n",
              "        white-space: pre-wrap;\n",
              "    }\n",
              "  </style>\n",
              "  "
            ]
          },
          "metadata": {}
        }
      ]
    },
    {
      "cell_type": "code",
      "source": [
        "text = \"as it started to sway, the master-at-arms\"\n",
        "n_words = 50  # Number of words ahead to predict\n",
        "\n",
        "prediction = model.predict(text, n_words)\n",
        "for i, letter in enumerate(prediction):\n",
        "    if not i % 100: print(\"\\n\")\n",
        "    print(letter, end='', flush=True)\n",
        "    time.sleep(0.003)"
      ],
      "metadata": {
        "id": "AW--CcH2hILO",
        "outputId": "4a08b532-d4c8-49ce-8f83-186051e4c29a",
        "colab": {
          "base_uri": "https://localhost:8080/",
          "height": 170
        }
      },
      "execution_count": 5,
      "outputs": [
        {
          "output_type": "display_data",
          "data": {
            "text/plain": [
              "<IPython.core.display.HTML object>"
            ],
            "text/html": [
              "\n",
              "  <style>\n",
              "    pre {\n",
              "        white-space: pre-wrap;\n",
              "    }\n",
              "  </style>\n",
              "  "
            ]
          },
          "metadata": {}
        },
        {
          "output_type": "stream",
          "name": "stdout",
          "text": [
            "\n",
            "\n",
            "as it started to sway, the master-at-arms of a singing-bird on the victor of waterloo ventures not t\n",
            "\n",
            "o handle such breadths of heavy canvas as the handsome sailor, merrily joined in; then addressing hi\n",
            "\n",
            "s messmates exclaimed, \"there now, who says that jimmy legs is down on you.\" \"and what,\" rejoined bi\n",
            "\n",
            "lly in spilling the soup just when"
          ]
        }
      ]
    },
    {
      "cell_type": "code",
      "source": [
        "\n",
        "model.get_frequencies_of_bigram(text)"
      ],
      "metadata": {
        "id": "MGT9pkrthKSO",
        "outputId": "dc8ceffb-384f-4871-dd29-ab2e3cb6e4ab",
        "colab": {
          "base_uri": "https://localhost:8080/",
          "height": 272
        }
      },
      "execution_count": 6,
      "outputs": [
        {
          "output_type": "display_data",
          "data": {
            "text/plain": [
              "<IPython.core.display.HTML object>"
            ],
            "text/html": [
              "\n",
              "  <style>\n",
              "    pre {\n",
              "        white-space: pre-wrap;\n",
              "    }\n",
              "  </style>\n",
              "  "
            ]
          },
          "metadata": {}
        },
        {
          "output_type": "execute_result",
          "data": {
            "text/plain": [
              "(('the', 'master-at-arms'),\n",
              " Counter({'of': 1,\n",
              "          'was': 4,\n",
              "          'has': 1,\n",
              "          'in': 1,\n",
              "          'noticed': 1,\n",
              "          'that': 1,\n",
              "          'never': 1,\n",
              "          'being': 1,\n",
              "          'acted': 1,\n",
              "          'about': 1,\n",
              "          'said.': 1,\n",
              "          'said': 1,\n",
              "          'as': 1,\n",
              "          'and': 1}))"
            ]
          },
          "metadata": {},
          "execution_count": 6
        }
      ]
    },
    {
      "cell_type": "markdown",
      "source": [
        "![overly-complicated-diagram](http://www.phon.ox.ac.uk/jcoleman/old_SLP/Lecture_6/figure7-8.png)\n",
        "\n",
        "http://www.phon.ox.ac.uk/jcoleman/old_SLP/Lecture_6/trigram-modelling.html"
      ],
      "metadata": {
        "id": "3M4k-xVvk-b3"
      }
    },
    {
      "cell_type": "code",
      "source": [],
      "metadata": {
        "id": "BEs97SPLlFSt"
      },
      "execution_count": 6,
      "outputs": []
    },
    {
      "cell_type": "code",
      "source": [],
      "metadata": {
        "id": "C3rIdMD4I2XW"
      },
      "execution_count": 6,
      "outputs": []
    },
    {
      "cell_type": "code",
      "source": [],
      "metadata": {
        "id": "64t_XH5iI2ZW"
      },
      "execution_count": 6,
      "outputs": []
    },
    {
      "cell_type": "code",
      "source": [],
      "metadata": {
        "id": "sG22I_qQI2br"
      },
      "execution_count": 6,
      "outputs": []
    },
    {
      "cell_type": "code",
      "source": [],
      "metadata": {
        "id": "1OXBNjsfI2eA"
      },
      "execution_count": 6,
      "outputs": []
    },
    {
      "cell_type": "code",
      "source": [],
      "metadata": {
        "id": "hS2bqqkQI2gg"
      },
      "execution_count": 6,
      "outputs": []
    },
    {
      "cell_type": "code",
      "source": [
        "!pip install -q trl transformers accelerate peft datasets bitsandbytes einops"
      ],
      "metadata": {
        "colab": {
          "base_uri": "https://localhost:8080/",
          "height": 238
        },
        "id": "AdJ2VEOjI2if",
        "outputId": "b2933288-76ac-462f-85b0-8f0b85fc8281"
      },
      "execution_count": 7,
      "outputs": [
        {
          "output_type": "display_data",
          "data": {
            "text/plain": [
              "<IPython.core.display.HTML object>"
            ],
            "text/html": [
              "\n",
              "  <style>\n",
              "    pre {\n",
              "        white-space: pre-wrap;\n",
              "    }\n",
              "  </style>\n",
              "  "
            ]
          },
          "metadata": {}
        },
        {
          "output_type": "stream",
          "name": "stdout",
          "text": [
            "\u001b[2K     \u001b[90m━━━━━━━━━━━━━━━━━━━━━━━━━━━━━━━━━━━━━━━\u001b[0m \u001b[32m118.0/118.0 kB\u001b[0m \u001b[31m2.5 MB/s\u001b[0m eta \u001b[36m0:00:00\u001b[0m\n",
            "\u001b[2K     \u001b[90m━━━━━━━━━━━━━━━━━━━━━━━━━━━━━━━━━━━━━━━━\u001b[0m \u001b[32m7.6/7.6 MB\u001b[0m \u001b[31m18.9 MB/s\u001b[0m eta \u001b[36m0:00:00\u001b[0m\n",
            "\u001b[2K     \u001b[90m━━━━━━━━━━━━━━━━━━━━━━━━━━━━━━━━━━━━━━\u001b[0m \u001b[32m258.1/258.1 kB\u001b[0m \u001b[31m24.6 MB/s\u001b[0m eta \u001b[36m0:00:00\u001b[0m\n",
            "\u001b[2K     \u001b[90m━━━━━━━━━━━━━━━━━━━━━━━━━━━━━━━━━━━━━━━━\u001b[0m \u001b[32m85.6/85.6 kB\u001b[0m \u001b[31m10.4 MB/s\u001b[0m eta \u001b[36m0:00:00\u001b[0m\n",
            "\u001b[2K     \u001b[90m━━━━━━━━━━━━━━━━━━━━━━━━━━━━━━━━━━━━━━\u001b[0m \u001b[32m519.6/519.6 kB\u001b[0m \u001b[31m26.4 MB/s\u001b[0m eta \u001b[36m0:00:00\u001b[0m\n",
            "\u001b[2K     \u001b[90m━━━━━━━━━━━━━━━━━━━━━━━━━━━━━━━━━━━━━━━━\u001b[0m \u001b[32m92.6/92.6 MB\u001b[0m \u001b[31m5.8 MB/s\u001b[0m eta \u001b[36m0:00:00\u001b[0m\n",
            "\u001b[2K     \u001b[90m━━━━━━━━━━━━━━━━━━━━━━━━━━━━━━━━━━━━━━━━\u001b[0m \u001b[32m42.2/42.2 kB\u001b[0m \u001b[31m3.7 MB/s\u001b[0m eta \u001b[36m0:00:00\u001b[0m\n",
            "\u001b[2K     \u001b[90m━━━━━━━━━━━━━━━━━━━━━━━━━━━━━━━━━━━━━━\u001b[0m \u001b[32m294.8/294.8 kB\u001b[0m \u001b[31m30.6 MB/s\u001b[0m eta \u001b[36m0:00:00\u001b[0m\n",
            "\u001b[2K     \u001b[90m━━━━━━━━━━━━━━━━━━━━━━━━━━━━━━━━━━━━━━━━\u001b[0m \u001b[32m7.8/7.8 MB\u001b[0m \u001b[31m46.8 MB/s\u001b[0m eta \u001b[36m0:00:00\u001b[0m\n",
            "\u001b[2K     \u001b[90m━━━━━━━━━━━━━━━━━━━━━━━━━━━━━━━━━━━━━━━━\u001b[0m \u001b[32m1.3/1.3 MB\u001b[0m \u001b[31m41.7 MB/s\u001b[0m eta \u001b[36m0:00:00\u001b[0m\n",
            "\u001b[2K     \u001b[90m━━━━━━━━━━━━━━━━━━━━━━━━━━━━━━━━━━━━━━\u001b[0m \u001b[32m115.3/115.3 kB\u001b[0m \u001b[31m13.3 MB/s\u001b[0m eta \u001b[36m0:00:00\u001b[0m\n",
            "\u001b[2K     \u001b[90m━━━━━━━━━━━━━━━━━━━━━━━━━━━━━━━━━━━━━━\u001b[0m \u001b[32m194.1/194.1 kB\u001b[0m \u001b[31m22.0 MB/s\u001b[0m eta \u001b[36m0:00:00\u001b[0m\n",
            "\u001b[2K     \u001b[90m━━━━━━━━━━━━━━━━━━━━━━━━━━━━━━━━━━━━━━\u001b[0m \u001b[32m134.8/134.8 kB\u001b[0m \u001b[31m14.9 MB/s\u001b[0m eta \u001b[36m0:00:00\u001b[0m\n",
            "\u001b[?25h"
          ]
        }
      ]
    },
    {
      "cell_type": "code",
      "source": [
        "import torch\n",
        "from transformers import AutoModelForCausalLM, AutoTokenizer, GenerationConfig"
      ],
      "metadata": {
        "colab": {
          "base_uri": "https://localhost:8080/",
          "height": 17
        },
        "id": "o8ptIpRUNVul",
        "outputId": "bfed3495-40d0-4836-ac23-c0f2ddfe3ba8"
      },
      "execution_count": 43,
      "outputs": [
        {
          "output_type": "display_data",
          "data": {
            "text/plain": [
              "<IPython.core.display.HTML object>"
            ],
            "text/html": [
              "\n",
              "  <style>\n",
              "    pre {\n",
              "        white-space: pre-wrap;\n",
              "    }\n",
              "  </style>\n",
              "  "
            ]
          },
          "metadata": {}
        }
      ]
    },
    {
      "cell_type": "code",
      "source": [
        "torch.set_default_device('cuda')\n",
        "model = AutoModelForCausalLM.from_pretrained(\"microsoft/phi-1_5\", trust_remote_code=True, torch_dtype=\"auto\")\n",
        "tokenizer = AutoTokenizer.from_pretrained(\"microsoft/phi-1_5\", trust_remote_code=True, torch_dtype=\"auto\")"
      ],
      "metadata": {
        "colab": {
          "base_uri": "https://localhost:8080/",
          "height": 17
        },
        "id": "IDMwICNuN3mS",
        "outputId": "861dcfbb-3164-4a53-fa5c-838184d379b9"
      },
      "execution_count": 44,
      "outputs": [
        {
          "output_type": "display_data",
          "data": {
            "text/plain": [
              "<IPython.core.display.HTML object>"
            ],
            "text/html": [
              "\n",
              "  <style>\n",
              "    pre {\n",
              "        white-space: pre-wrap;\n",
              "    }\n",
              "  </style>\n",
              "  "
            ]
          },
          "metadata": {}
        }
      ]
    },
    {
      "cell_type": "code",
      "source": [
        "prompt = \"For both pretraining and finetuning, we concat\"\n",
        "inputs = tokenizer(prompt, return_tensors=\"pt\", return_attention_mask=False)\n",
        "print(inputs)\n"
      ],
      "metadata": {
        "colab": {
          "base_uri": "https://localhost:8080/",
          "height": 51
        },
        "id": "5kjTm5iSWXSc",
        "outputId": "37d6cea3-f2f0-4710-9d51-4c1023b57eda"
      },
      "execution_count": 567,
      "outputs": [
        {
          "output_type": "display_data",
          "data": {
            "text/plain": [
              "<IPython.core.display.HTML object>"
            ],
            "text/html": [
              "\n",
              "  <style>\n",
              "    pre {\n",
              "        white-space: pre-wrap;\n",
              "    }\n",
              "  </style>\n",
              "  "
            ]
          },
          "metadata": {}
        },
        {
          "output_type": "display_data",
          "data": {
            "text/plain": [
              "<IPython.core.display.HTML object>"
            ],
            "text/html": [
              "\n",
              "  <style>\n",
              "    pre {\n",
              "        white-space: pre-wrap;\n",
              "    }\n",
              "  </style>\n",
              "  "
            ]
          },
          "metadata": {}
        },
        {
          "output_type": "stream",
          "name": "stdout",
          "text": [
            "{'input_ids': tensor([[ 1890,  1111,  2181, 24674,   290,   957,   316, 46493,    11,   356,\n",
            "          1673,   265]], device='cuda:0')}\n"
          ]
        }
      ]
    },
    {
      "cell_type": "code",
      "source": [
        "for token_id in inputs[\"input_ids\"][0]:\n",
        "    id = token_id.item()\n",
        "    token = tokenizer.decode(id)\n",
        "    print(f\"{id: <5} ----> {token}\")"
      ],
      "metadata": {
        "colab": {
          "base_uri": "https://localhost:8080/",
          "height": 221
        },
        "id": "pjE2ZcWPtC3C",
        "outputId": "288d8099-c9a4-4dde-e711-93efdebd8523"
      },
      "execution_count": 568,
      "outputs": [
        {
          "output_type": "display_data",
          "data": {
            "text/plain": [
              "<IPython.core.display.HTML object>"
            ],
            "text/html": [
              "\n",
              "  <style>\n",
              "    pre {\n",
              "        white-space: pre-wrap;\n",
              "    }\n",
              "  </style>\n",
              "  "
            ]
          },
          "metadata": {}
        },
        {
          "output_type": "display_data",
          "data": {
            "text/plain": [
              "<IPython.core.display.HTML object>"
            ],
            "text/html": [
              "\n",
              "  <style>\n",
              "    pre {\n",
              "        white-space: pre-wrap;\n",
              "    }\n",
              "  </style>\n",
              "  "
            ]
          },
          "metadata": {}
        },
        {
          "output_type": "stream",
          "name": "stdout",
          "text": [
            "1890  ----> For\n",
            "1111  ---->  both\n",
            "2181  ---->  pret\n",
            "24674 ----> raining\n",
            "290   ---->  and\n",
            "957   ---->  fin\n",
            "316   ----> et\n",
            "46493 ----> uning\n",
            "11    ----> ,\n",
            "356   ---->  we\n",
            "1673  ---->  conc\n",
            "265   ----> at\n"
          ]
        }
      ]
    },
    {
      "cell_type": "code",
      "source": [
        "outputs = model.generate(**inputs, max_new_tokens=11)\n",
        "output_tokens = [tokenizer.decode(id) for id in outputs[0]]"
      ],
      "metadata": {
        "colab": {
          "base_uri": "https://localhost:8080/",
          "height": 17
        },
        "id": "LCNfBF_0WXUX",
        "outputId": "b09bd896-0e78-43f1-94cc-e117bfb24a56"
      },
      "execution_count": 571,
      "outputs": [
        {
          "output_type": "display_data",
          "data": {
            "text/plain": [
              "<IPython.core.display.HTML object>"
            ],
            "text/html": [
              "\n",
              "  <style>\n",
              "    pre {\n",
              "        white-space: pre-wrap;\n",
              "    }\n",
              "  </style>\n",
              "  "
            ]
          },
          "metadata": {}
        },
        {
          "output_type": "display_data",
          "data": {
            "text/plain": [
              "<IPython.core.display.HTML object>"
            ],
            "text/html": [
              "\n",
              "  <style>\n",
              "    pre {\n",
              "        white-space: pre-wrap;\n",
              "    }\n",
              "  </style>\n",
              "  "
            ]
          },
          "metadata": {}
        }
      ]
    },
    {
      "cell_type": "code",
      "source": [
        "def print_tokens(ids, tokens):\n",
        "    tokens = [token.replace(\" \", \"·\") for token in tokens]\n",
        "    max_widths = [max(len(str(id)), len(token)) for id, token in zip(ids, tokens)]\n",
        "    aligned_ids = [str(id).center(max_widths[i]) for i, id in enumerate(ids)]\n",
        "    aligned_arrows = ['↓'.center(max_widths[i]) for i in range(len(ids))]\n",
        "    aligned_tokens = [token.center(max_widths[i]) for i, token in enumerate(tokens)]\n",
        "    print(' '.join(aligned_ids))\n",
        "    print(' '.join(aligned_arrows))\n",
        "    print(repr(' '.join(aligned_tokens))[1:-1])\n",
        "\n",
        "\n",
        "print(\"Output:\\n\" + \"\".join(output_tokens) + \"\\n\\nToken Mapping:\")\n",
        "print_tokens(outputs.cpu().tolist()[0], output_tokens)\n",
        "\n",
        "print(\"\\n\\n* The · characters represent spaces in the token\")"
      ],
      "metadata": {
        "colab": {
          "base_uri": "https://localhost:8080/",
          "height": 187
        },
        "id": "4JHmujrpqUh-",
        "outputId": "199ef829-168e-47a9-e2dd-cc43ba3671e9"
      },
      "execution_count": 572,
      "outputs": [
        {
          "output_type": "display_data",
          "data": {
            "text/plain": [
              "<IPython.core.display.HTML object>"
            ],
            "text/html": [
              "\n",
              "  <style>\n",
              "    pre {\n",
              "        white-space: pre-wrap;\n",
              "    }\n",
              "  </style>\n",
              "  "
            ]
          },
          "metadata": {}
        },
        {
          "output_type": "display_data",
          "data": {
            "text/plain": [
              "<IPython.core.display.HTML object>"
            ],
            "text/html": [
              "\n",
              "  <style>\n",
              "    pre {\n",
              "        white-space: pre-wrap;\n",
              "    }\n",
              "  </style>\n",
              "  "
            ]
          },
          "metadata": {}
        },
        {
          "output_type": "stream",
          "name": "stdout",
          "text": [
            "Output:\n",
            "For both pretraining and finetuning, we concat the input and output of the encoder and decoder\n",
            "\n",
            "Token Mapping:\n",
            "1890  1111  2181  24674  290  957  316 46493 11 356  1673 265 262   5128  290    5072  286 262  2207 12342 290  875  12342\n",
            " ↓     ↓     ↓      ↓     ↓    ↓    ↓    ↓   ↓   ↓    ↓    ↓   ↓     ↓     ↓      ↓     ↓   ↓    ↓     ↓    ↓    ↓     ↓  \n",
            "For  ·both ·pret raining ·and ·fin  et uning ,  ·we ·conc  at ·the ·input ·and ·output ·of ·the ·enc  oder ·and ·dec  oder\n",
            "\n",
            "\n",
            "* The · characters represent spaces in the token\n"
          ]
        }
      ]
    },
    {
      "cell_type": "code",
      "source": [
        "single_forward_pass = model.forward(**inputs)\n",
        "top_10_token_ids = single_forward_pass.logits[0, -1, :].cpu().argsort().tolist()[-10:][::-1]\n",
        "top_10_tokens = [tokenizer.decode(token) for token in top_10_token_ids]\n",
        "top_10_probs = single_forward_pass.logits[0, -1, :].cpu()[top_10_token_ids]\n",
        "\n",
        "print(\"Top 10 next possible tokens given our input:\\n\")\n",
        "print(\"token        ~probability\")\n",
        "print(\"-\"*25)\n",
        "for token, prob in zip(top_10_tokens, top_10_probs):\n",
        "    print(f\"{repr(token)[1:-1]: <7} ----> {prob: >11}\")"
      ],
      "metadata": {
        "colab": {
          "base_uri": "https://localhost:8080/",
          "height": 255
        },
        "id": "2SbW1CCX76AQ",
        "outputId": "4128bc8d-d39b-4fdc-fa30-47740dc98a47"
      },
      "execution_count": 564,
      "outputs": [
        {
          "output_type": "display_data",
          "data": {
            "text/plain": [
              "<IPython.core.display.HTML object>"
            ],
            "text/html": [
              "\n",
              "  <style>\n",
              "    pre {\n",
              "        white-space: pre-wrap;\n",
              "    }\n",
              "  </style>\n",
              "  "
            ]
          },
          "metadata": {}
        },
        {
          "output_type": "display_data",
          "data": {
            "text/plain": [
              "<IPython.core.display.HTML object>"
            ],
            "text/html": [
              "\n",
              "  <style>\n",
              "    pre {\n",
              "        white-space: pre-wrap;\n",
              "    }\n",
              "  </style>\n",
              "  "
            ]
          },
          "metadata": {}
        },
        {
          "output_type": "stream",
          "name": "stdout",
          "text": [
            "Top 10 next possible tokens given our input:\n",
            "\n",
            "token        ~probability\n",
            "-------------------------\n",
            " the    ---->     30.1875\n",
            " a      ---->    29.96875\n",
            " out    ---->     27.8125\n",
            " off    ---->   27.359375\n",
            " his    ---->   26.234375\n",
            " an     ---->   25.484375\n",
            " another ---->   25.328125\n",
            " two    ---->     24.5625\n",
            " shelter ---->   24.546875\n",
            " one    ---->   22.765625\n"
          ]
        }
      ]
    },
    {
      "cell_type": "code",
      "source": [
        "# Initialize input tensor `x` (size: [batch_size, sequence_length])\n",
        "\n",
        "\n",
        "# Forward through Embedding layer\n",
        "layer = 5\n",
        "head = 0\n",
        "token_idx = 16\n",
        "def get_attn_weights(inputs, layer, head):\n",
        "    x = model.layers[0](**inputs)\n",
        "    for i in range(1, layer):\n",
        "        x = model.layers[i](x)\n",
        "    x = model.layers[layer].ln(x)\n",
        "    model.layers[layer].mixer\n",
        "    qkv = model.layers[layer].mixer.Wqkv(x)\n",
        "    qkv = rearrange(qkv, \"... (three h d) -> ... three h d\", three=3, d=model.layers[layer].mixer.head_dim)\n",
        "    qkv = model.layers[layer].mixer.rotary_emb(qkv)\n",
        "    batch_size, seqlen = qkv.shape[0], qkv.shape[1]\n",
        "    q, k, v = qkv.unbind(dim=2)\n",
        "    softmax_scale = 1.0 / math.sqrt(q.shape[-1])\n",
        "    scores = torch.einsum('bthd,bshd->bhts', q, k * softmax_scale)\n",
        "    causal_mask = torch.triu(torch.full(size=(seqlen, seqlen), fill_value=-10000.0, device=scores.device), 1)\n",
        "    scores = scores + causal_mask.to(dtype=scores.dtype)\n",
        "    attention = torch.softmax(scores, dim=-1, dtype=v.dtype)\n",
        "    output = torch.einsum('bhts,bshd->bthd', attention, v)\n",
        "    weights = attention[0, head].cpu()\n",
        "    return weights\n",
        "\n",
        "\n",
        "def display_attention_weights(inputs, layer, head, token_idx):\n",
        "    input_tokens = [tokenizer.decode(id) for id in inputs[\"input_ids\"][0]]\n",
        "    weights = get_attn_weights(inputs, layer, head)\n",
        "    with out:\n",
        "        fig, ax = plt.subplots(figsize=(3, 1*(len(input_tokens)//4)))\n",
        "        ax.axis('off')\n",
        "        tl = len(input_tokens)\n",
        "        ax.set_ylim(0, len(input_tokens))\n",
        "        ax.set_xlim(0, 10)\n",
        "        for i, token in enumerate(input_tokens):\n",
        "            ax.text(3, len(input_tokens)-i, token, ha='right', va='top')\n",
        "            ax.text(8, len(input_tokens)-i, token, ha='left', va='top')\n",
        "        ax.fill_between([0, 3.3], [tl-token_idx, tl-token_idx], [tl-token_idx-0.75, tl-token_idx-0.75], color='blue', alpha=0.4)\n",
        "        for i, weight in enumerate(weights[token_idx].cpu().tolist()):\n",
        "            ax.fill_between([7.7, 13], [tl-i, tl-i], [tl-i-0.75, tl-i-0.75], color='blue', alpha=math.sqrt(weight)*0.7)\n",
        "            ax.plot([3.35, 7.65], [tl-token_idx - 0.375, tl-i], c=\"blue\", alpha=math.sqrt(weight)*0.7, lw=0.5)\n",
        "        out.clear_output()\n",
        "        plt.show()\n",
        "\n",
        "\n",
        "def handler(_):\n",
        "    display_attention_weights(inputs, layer.value, head.value, token_idx.value)\n"
      ],
      "metadata": {
        "colab": {
          "base_uri": "https://localhost:8080/",
          "height": 17
        },
        "id": "U3N5P2plqaOX",
        "outputId": "a69d38fc-29e6-4cf8-89bd-9d9b743446ca"
      },
      "execution_count": 573,
      "outputs": [
        {
          "output_type": "display_data",
          "data": {
            "text/plain": [
              "<IPython.core.display.HTML object>"
            ],
            "text/html": [
              "\n",
              "  <style>\n",
              "    pre {\n",
              "        white-space: pre-wrap;\n",
              "    }\n",
              "  </style>\n",
              "  "
            ]
          },
          "metadata": {}
        },
        {
          "output_type": "display_data",
          "data": {
            "text/plain": [
              "<IPython.core.display.HTML object>"
            ],
            "text/html": [
              "\n",
              "  <style>\n",
              "    pre {\n",
              "        white-space: pre-wrap;\n",
              "    }\n",
              "  </style>\n",
              "  "
            ]
          },
          "metadata": {}
        }
      ]
    },
    {
      "cell_type": "code",
      "source": [
        "layer = widgets.Dropdown(options=list(range(1, 24)), description=\"Layer\")\n",
        "head = widgets.Dropdown(options=list(range(0, 32)), description=\"Attn Head:\")\n",
        "token_idx = widgets.Dropdown(options=list(zip([tokenizer.decode(id) for id in inputs[\"input_ids\"][0]], list(range(len(inputs[\"input_ids\"][0]))))), description=\"Token:\")\n",
        "button = widgets.Button(description=\"Plot\")\n",
        "button.on_click(handler)\n",
        "\n",
        "out = widgets.Output()\n",
        "\n",
        "display(layer, head, token_idx, button)\n",
        "display(out)"
      ],
      "metadata": {
        "colab": {
          "base_uri": "https://localhost:8080/",
          "height": 392,
          "referenced_widgets": [
            "4ae470b3d53d492b954840f22108ae06",
            "e3cb8a6df5e34be08a96dc7263dce931",
            "5514023c6c4b475daa647c08e19725d7",
            "968fbcb2cf4c49e7b9c2d644bf1fab0a",
            "002541eb79444f7fbc176e11f399a4b4",
            "567716fe91dd4b5b8a9abf85e9381e58",
            "c15481bb3d3840c69309083c956639af",
            "27bd8e29c12f46c3ad595c411e44d725",
            "188c2eac6f304fb686ea0de92d1de722",
            "31c8e0b32c3d405eb92a4162206b4c95",
            "af7dd1ac99a24e569db41245303fe25f",
            "a5832e9022aa4ff39c829caa126691c9",
            "1b8a622cdbc04665b07d01198b57f01d",
            "436b20d7f02a4852a33f2e10e9e36d9c"
          ]
        },
        "id": "X-w1l_PERmDv",
        "outputId": "8658f879-5243-40c0-e92d-d07bebe30640"
      },
      "execution_count": 574,
      "outputs": [
        {
          "output_type": "display_data",
          "data": {
            "text/plain": [
              "<IPython.core.display.HTML object>"
            ],
            "text/html": [
              "\n",
              "  <style>\n",
              "    pre {\n",
              "        white-space: pre-wrap;\n",
              "    }\n",
              "  </style>\n",
              "  "
            ]
          },
          "metadata": {}
        },
        {
          "output_type": "display_data",
          "data": {
            "text/plain": [
              "<IPython.core.display.HTML object>"
            ],
            "text/html": [
              "\n",
              "  <style>\n",
              "    pre {\n",
              "        white-space: pre-wrap;\n",
              "    }\n",
              "  </style>\n",
              "  "
            ]
          },
          "metadata": {}
        },
        {
          "output_type": "display_data",
          "data": {
            "text/plain": [
              "Dropdown(description='Layer', options=(1, 2, 3, 4, 5, 6, 7, 8, 9, 10, 11, 12, 13, 14, 15, 16, 17, 18, 19, 20, …"
            ],
            "application/vnd.jupyter.widget-view+json": {
              "version_major": 2,
              "version_minor": 0,
              "model_id": "4ae470b3d53d492b954840f22108ae06"
            }
          },
          "metadata": {}
        },
        {
          "output_type": "display_data",
          "data": {
            "text/plain": [
              "Dropdown(description='Attn Head:', options=(0, 1, 2, 3, 4, 5, 6, 7, 8, 9, 10, 11, 12, 13, 14, 15, 16, 17, 18, …"
            ],
            "application/vnd.jupyter.widget-view+json": {
              "version_major": 2,
              "version_minor": 0,
              "model_id": "968fbcb2cf4c49e7b9c2d644bf1fab0a"
            }
          },
          "metadata": {}
        },
        {
          "output_type": "display_data",
          "data": {
            "text/plain": [
              "Dropdown(description='Token:', options=(('For', 0), (' both', 1), (' pret', 2), ('raining', 3), (' and', 4), (…"
            ],
            "application/vnd.jupyter.widget-view+json": {
              "version_major": 2,
              "version_minor": 0,
              "model_id": "c15481bb3d3840c69309083c956639af"
            }
          },
          "metadata": {}
        },
        {
          "output_type": "display_data",
          "data": {
            "text/plain": [
              "Button(description='Plot', style=ButtonStyle())"
            ],
            "application/vnd.jupyter.widget-view+json": {
              "version_major": 2,
              "version_minor": 0,
              "model_id": "31c8e0b32c3d405eb92a4162206b4c95"
            }
          },
          "metadata": {}
        },
        {
          "output_type": "display_data",
          "data": {
            "text/plain": [
              "Output()"
            ],
            "application/vnd.jupyter.widget-view+json": {
              "version_major": 2,
              "version_minor": 0,
              "model_id": "1b8a622cdbc04665b07d01198b57f01d"
            }
          },
          "metadata": {}
        }
      ]
    },
    {
      "cell_type": "code",
      "source": [],
      "metadata": {
        "id": "WMlElOI3P8JA"
      },
      "execution_count": null,
      "outputs": []
    },
    {
      "cell_type": "code",
      "source": [],
      "metadata": {
        "id": "LUGIj1l0PtNK"
      },
      "execution_count": 460,
      "outputs": []
    },
    {
      "cell_type": "code",
      "source": [
        "inputs"
      ],
      "metadata": {
        "colab": {
          "base_uri": "https://localhost:8080/",
          "height": 34
        },
        "id": "9I-ZEUdLOpdc",
        "outputId": "00a36de9-ade9-4ec8-d5b9-366e376c653a"
      },
      "execution_count": 449,
      "outputs": [
        {
          "output_type": "display_data",
          "data": {
            "text/plain": [
              "<IPython.core.display.HTML object>"
            ],
            "text/html": [
              "\n",
              "  <style>\n",
              "    pre {\n",
              "        white-space: pre-wrap;\n",
              "    }\n",
              "  </style>\n",
              "  "
            ]
          },
          "metadata": {}
        },
        {
          "output_type": "display_data",
          "data": {
            "text/plain": [
              "<IPython.core.display.HTML object>"
            ],
            "text/html": [
              "\n",
              "  <style>\n",
              "    pre {\n",
              "        white-space: pre-wrap;\n",
              "    }\n",
              "  </style>\n",
              "  "
            ]
          },
          "metadata": {}
        },
        {
          "output_type": "execute_result",
          "data": {
            "text/plain": [
              "{'input_ids': tensor([[  464,  2068,  7586, 21831]], device='cuda:0')}"
            ]
          },
          "metadata": {},
          "execution_count": 449
        }
      ]
    },
    {
      "cell_type": "code",
      "source": [],
      "metadata": {
        "id": "WgyvAA7gPiY1"
      },
      "execution_count": null,
      "outputs": []
    },
    {
      "cell_type": "code",
      "source": [
        "sum(weights[token_idx].cpu().tolist())"
      ],
      "metadata": {
        "colab": {
          "base_uri": "https://localhost:8080/",
          "height": 34
        },
        "id": "xasnTwlYOcX2",
        "outputId": "2c7ffda8-8bbe-4c9e-8c92-f40befdbc18c"
      },
      "execution_count": 411,
      "outputs": [
        {
          "output_type": "display_data",
          "data": {
            "text/plain": [
              "<IPython.core.display.HTML object>"
            ],
            "text/html": [
              "\n",
              "  <style>\n",
              "    pre {\n",
              "        white-space: pre-wrap;\n",
              "    }\n",
              "  </style>\n",
              "  "
            ]
          },
          "metadata": {}
        },
        {
          "output_type": "display_data",
          "data": {
            "text/plain": [
              "<IPython.core.display.HTML object>"
            ],
            "text/html": [
              "\n",
              "  <style>\n",
              "    pre {\n",
              "        white-space: pre-wrap;\n",
              "    }\n",
              "  </style>\n",
              "  "
            ]
          },
          "metadata": {}
        },
        {
          "output_type": "execute_result",
          "data": {
            "text/plain": [
              "1.0002321600914001"
            ]
          },
          "metadata": {},
          "execution_count": 411
        }
      ]
    },
    {
      "cell_type": "code",
      "source": [],
      "metadata": {
        "id": "3kq8FVHqO5W1"
      },
      "execution_count": null,
      "outputs": []
    },
    {
      "cell_type": "code",
      "source": [],
      "metadata": {
        "id": "reJtFJ3YO3iT"
      },
      "execution_count": null,
      "outputs": []
    },
    {
      "cell_type": "code",
      "source": [],
      "metadata": {
        "id": "oq95lMmQO1Ga"
      },
      "execution_count": null,
      "outputs": []
    },
    {
      "cell_type": "code",
      "source": [],
      "metadata": {
        "id": "HwczryHMOz34"
      },
      "execution_count": null,
      "outputs": []
    },
    {
      "cell_type": "code",
      "source": [],
      "metadata": {
        "id": "-Z3LUyAGOy2p"
      },
      "execution_count": null,
      "outputs": []
    },
    {
      "cell_type": "code",
      "source": [],
      "metadata": {
        "id": "t51ozML-OwwF"
      },
      "execution_count": null,
      "outputs": []
    },
    {
      "cell_type": "code",
      "source": [],
      "metadata": {
        "id": "Oi6v0z3mOvHE"
      },
      "execution_count": null,
      "outputs": []
    },
    {
      "cell_type": "code",
      "source": [
        "weight"
      ],
      "metadata": {
        "colab": {
          "base_uri": "https://localhost:8080/",
          "height": 34
        },
        "id": "wxomVk9xOeXD",
        "outputId": "24b006fa-29b8-424a-a594-e5e1ec573d78"
      },
      "execution_count": 403,
      "outputs": [
        {
          "output_type": "display_data",
          "data": {
            "text/plain": [
              "<IPython.core.display.HTML object>"
            ],
            "text/html": [
              "\n",
              "  <style>\n",
              "    pre {\n",
              "        white-space: pre-wrap;\n",
              "    }\n",
              "  </style>\n",
              "  "
            ]
          },
          "metadata": {}
        },
        {
          "output_type": "display_data",
          "data": {
            "text/plain": [
              "<IPython.core.display.HTML object>"
            ],
            "text/html": [
              "\n",
              "  <style>\n",
              "    pre {\n",
              "        white-space: pre-wrap;\n",
              "    }\n",
              "  </style>\n",
              "  "
            ]
          },
          "metadata": {}
        },
        {
          "output_type": "execute_result",
          "data": {
            "text/plain": [
              "0.0"
            ]
          },
          "metadata": {},
          "execution_count": 403
        }
      ]
    },
    {
      "cell_type": "code",
      "source": [],
      "metadata": {
        "id": "PEZ0y9sbOhlu"
      },
      "execution_count": null,
      "outputs": []
    },
    {
      "cell_type": "code",
      "source": [],
      "metadata": {
        "id": "AJytHdkAOZx7"
      },
      "execution_count": null,
      "outputs": []
    },
    {
      "cell_type": "code",
      "source": [],
      "metadata": {
        "id": "CLhCl6mz6wxj"
      },
      "execution_count": null,
      "outputs": []
    },
    {
      "cell_type": "code",
      "source": [],
      "metadata": {
        "id": "wtMD3lT36vTj"
      },
      "execution_count": null,
      "outputs": []
    },
    {
      "cell_type": "code",
      "source": [],
      "metadata": {
        "id": "2hr1Fgf66tFk"
      },
      "execution_count": null,
      "outputs": []
    },
    {
      "cell_type": "code",
      "source": [],
      "metadata": {
        "id": "WN5VUfCa6ICn"
      },
      "execution_count": null,
      "outputs": []
    },
    {
      "cell_type": "code",
      "source": [],
      "metadata": {
        "id": "p5wuvj7l6EE-"
      },
      "execution_count": null,
      "outputs": []
    },
    {
      "cell_type": "code",
      "source": [],
      "metadata": {
        "id": "E0FHD_dN54VC"
      },
      "execution_count": null,
      "outputs": []
    },
    {
      "cell_type": "code",
      "source": [],
      "metadata": {
        "colab": {
          "base_uri": "https://localhost:8080/",
          "height": 34
        },
        "id": "6R1yxBAk3krS",
        "outputId": "8ea0ee5f-a386-40e1-ae1d-a8e4a75af75b"
      },
      "execution_count": 178,
      "outputs": [
        {
          "output_type": "display_data",
          "data": {
            "text/plain": [
              "<IPython.core.display.HTML object>"
            ],
            "text/html": [
              "\n",
              "  <style>\n",
              "    pre {\n",
              "        white-space: pre-wrap;\n",
              "    }\n",
              "  </style>\n",
              "  "
            ]
          },
          "metadata": {}
        },
        {
          "output_type": "execute_result",
          "data": {
            "text/plain": [
              "torch.Size([1, 12])"
            ]
          },
          "metadata": {},
          "execution_count": 178
        }
      ]
    }
  ],
  "metadata": {
    "colab": {
      "toc_visible": true,
      "provenance": [],
      "gpuType": "T4",
      "include_colab_link": true
    },
    "kernelspec": {
      "display_name": "Python 3",
      "name": "python3"
    },
    "accelerator": "GPU",
    "widgets": {
      "application/vnd.jupyter.widget-state+json": {
        "4ae470b3d53d492b954840f22108ae06": {
          "model_module": "@jupyter-widgets/controls",
          "model_name": "DropdownModel",
          "model_module_version": "1.5.0",
          "state": {
            "_dom_classes": [],
            "_model_module": "@jupyter-widgets/controls",
            "_model_module_version": "1.5.0",
            "_model_name": "DropdownModel",
            "_options_labels": [
              "1",
              "2",
              "3",
              "4",
              "5",
              "6",
              "7",
              "8",
              "9",
              "10",
              "11",
              "12",
              "13",
              "14",
              "15",
              "16",
              "17",
              "18",
              "19",
              "20",
              "21",
              "22",
              "23"
            ],
            "_view_count": null,
            "_view_module": "@jupyter-widgets/controls",
            "_view_module_version": "1.5.0",
            "_view_name": "DropdownView",
            "description": "Layer",
            "description_tooltip": null,
            "disabled": false,
            "index": 22,
            "layout": "IPY_MODEL_e3cb8a6df5e34be08a96dc7263dce931",
            "style": "IPY_MODEL_5514023c6c4b475daa647c08e19725d7"
          }
        },
        "e3cb8a6df5e34be08a96dc7263dce931": {
          "model_module": "@jupyter-widgets/base",
          "model_name": "LayoutModel",
          "model_module_version": "1.2.0",
          "state": {
            "_model_module": "@jupyter-widgets/base",
            "_model_module_version": "1.2.0",
            "_model_name": "LayoutModel",
            "_view_count": null,
            "_view_module": "@jupyter-widgets/base",
            "_view_module_version": "1.2.0",
            "_view_name": "LayoutView",
            "align_content": null,
            "align_items": null,
            "align_self": null,
            "border": null,
            "bottom": null,
            "display": null,
            "flex": null,
            "flex_flow": null,
            "grid_area": null,
            "grid_auto_columns": null,
            "grid_auto_flow": null,
            "grid_auto_rows": null,
            "grid_column": null,
            "grid_gap": null,
            "grid_row": null,
            "grid_template_areas": null,
            "grid_template_columns": null,
            "grid_template_rows": null,
            "height": null,
            "justify_content": null,
            "justify_items": null,
            "left": null,
            "margin": null,
            "max_height": null,
            "max_width": null,
            "min_height": null,
            "min_width": null,
            "object_fit": null,
            "object_position": null,
            "order": null,
            "overflow": null,
            "overflow_x": null,
            "overflow_y": null,
            "padding": null,
            "right": null,
            "top": null,
            "visibility": null,
            "width": null
          }
        },
        "5514023c6c4b475daa647c08e19725d7": {
          "model_module": "@jupyter-widgets/controls",
          "model_name": "DescriptionStyleModel",
          "model_module_version": "1.5.0",
          "state": {
            "_model_module": "@jupyter-widgets/controls",
            "_model_module_version": "1.5.0",
            "_model_name": "DescriptionStyleModel",
            "_view_count": null,
            "_view_module": "@jupyter-widgets/base",
            "_view_module_version": "1.2.0",
            "_view_name": "StyleView",
            "description_width": ""
          }
        },
        "968fbcb2cf4c49e7b9c2d644bf1fab0a": {
          "model_module": "@jupyter-widgets/controls",
          "model_name": "DropdownModel",
          "model_module_version": "1.5.0",
          "state": {
            "_dom_classes": [],
            "_model_module": "@jupyter-widgets/controls",
            "_model_module_version": "1.5.0",
            "_model_name": "DropdownModel",
            "_options_labels": [
              "0",
              "1",
              "2",
              "3",
              "4",
              "5",
              "6",
              "7",
              "8",
              "9",
              "10",
              "11",
              "12",
              "13",
              "14",
              "15",
              "16",
              "17",
              "18",
              "19",
              "20",
              "21",
              "22",
              "23",
              "24",
              "25",
              "26",
              "27",
              "28",
              "29",
              "30",
              "31"
            ],
            "_view_count": null,
            "_view_module": "@jupyter-widgets/controls",
            "_view_module_version": "1.5.0",
            "_view_name": "DropdownView",
            "description": "Attn Head:",
            "description_tooltip": null,
            "disabled": false,
            "index": 13,
            "layout": "IPY_MODEL_002541eb79444f7fbc176e11f399a4b4",
            "style": "IPY_MODEL_567716fe91dd4b5b8a9abf85e9381e58"
          }
        },
        "002541eb79444f7fbc176e11f399a4b4": {
          "model_module": "@jupyter-widgets/base",
          "model_name": "LayoutModel",
          "model_module_version": "1.2.0",
          "state": {
            "_model_module": "@jupyter-widgets/base",
            "_model_module_version": "1.2.0",
            "_model_name": "LayoutModel",
            "_view_count": null,
            "_view_module": "@jupyter-widgets/base",
            "_view_module_version": "1.2.0",
            "_view_name": "LayoutView",
            "align_content": null,
            "align_items": null,
            "align_self": null,
            "border": null,
            "bottom": null,
            "display": null,
            "flex": null,
            "flex_flow": null,
            "grid_area": null,
            "grid_auto_columns": null,
            "grid_auto_flow": null,
            "grid_auto_rows": null,
            "grid_column": null,
            "grid_gap": null,
            "grid_row": null,
            "grid_template_areas": null,
            "grid_template_columns": null,
            "grid_template_rows": null,
            "height": null,
            "justify_content": null,
            "justify_items": null,
            "left": null,
            "margin": null,
            "max_height": null,
            "max_width": null,
            "min_height": null,
            "min_width": null,
            "object_fit": null,
            "object_position": null,
            "order": null,
            "overflow": null,
            "overflow_x": null,
            "overflow_y": null,
            "padding": null,
            "right": null,
            "top": null,
            "visibility": null,
            "width": null
          }
        },
        "567716fe91dd4b5b8a9abf85e9381e58": {
          "model_module": "@jupyter-widgets/controls",
          "model_name": "DescriptionStyleModel",
          "model_module_version": "1.5.0",
          "state": {
            "_model_module": "@jupyter-widgets/controls",
            "_model_module_version": "1.5.0",
            "_model_name": "DescriptionStyleModel",
            "_view_count": null,
            "_view_module": "@jupyter-widgets/base",
            "_view_module_version": "1.2.0",
            "_view_name": "StyleView",
            "description_width": ""
          }
        },
        "c15481bb3d3840c69309083c956639af": {
          "model_module": "@jupyter-widgets/controls",
          "model_name": "DropdownModel",
          "model_module_version": "1.5.0",
          "state": {
            "_dom_classes": [],
            "_model_module": "@jupyter-widgets/controls",
            "_model_module_version": "1.5.0",
            "_model_name": "DropdownModel",
            "_options_labels": [
              "For",
              " both",
              " pret",
              "raining",
              " and",
              " fin",
              "et",
              "uning",
              ",",
              " we",
              " conc",
              "at"
            ],
            "_view_count": null,
            "_view_module": "@jupyter-widgets/controls",
            "_view_module_version": "1.5.0",
            "_view_name": "DropdownView",
            "description": "Token:",
            "description_tooltip": null,
            "disabled": false,
            "index": 9,
            "layout": "IPY_MODEL_27bd8e29c12f46c3ad595c411e44d725",
            "style": "IPY_MODEL_188c2eac6f304fb686ea0de92d1de722"
          }
        },
        "27bd8e29c12f46c3ad595c411e44d725": {
          "model_module": "@jupyter-widgets/base",
          "model_name": "LayoutModel",
          "model_module_version": "1.2.0",
          "state": {
            "_model_module": "@jupyter-widgets/base",
            "_model_module_version": "1.2.0",
            "_model_name": "LayoutModel",
            "_view_count": null,
            "_view_module": "@jupyter-widgets/base",
            "_view_module_version": "1.2.0",
            "_view_name": "LayoutView",
            "align_content": null,
            "align_items": null,
            "align_self": null,
            "border": null,
            "bottom": null,
            "display": null,
            "flex": null,
            "flex_flow": null,
            "grid_area": null,
            "grid_auto_columns": null,
            "grid_auto_flow": null,
            "grid_auto_rows": null,
            "grid_column": null,
            "grid_gap": null,
            "grid_row": null,
            "grid_template_areas": null,
            "grid_template_columns": null,
            "grid_template_rows": null,
            "height": null,
            "justify_content": null,
            "justify_items": null,
            "left": null,
            "margin": null,
            "max_height": null,
            "max_width": null,
            "min_height": null,
            "min_width": null,
            "object_fit": null,
            "object_position": null,
            "order": null,
            "overflow": null,
            "overflow_x": null,
            "overflow_y": null,
            "padding": null,
            "right": null,
            "top": null,
            "visibility": null,
            "width": null
          }
        },
        "188c2eac6f304fb686ea0de92d1de722": {
          "model_module": "@jupyter-widgets/controls",
          "model_name": "DescriptionStyleModel",
          "model_module_version": "1.5.0",
          "state": {
            "_model_module": "@jupyter-widgets/controls",
            "_model_module_version": "1.5.0",
            "_model_name": "DescriptionStyleModel",
            "_view_count": null,
            "_view_module": "@jupyter-widgets/base",
            "_view_module_version": "1.2.0",
            "_view_name": "StyleView",
            "description_width": ""
          }
        },
        "31c8e0b32c3d405eb92a4162206b4c95": {
          "model_module": "@jupyter-widgets/controls",
          "model_name": "ButtonModel",
          "model_module_version": "1.5.0",
          "state": {
            "_dom_classes": [],
            "_model_module": "@jupyter-widgets/controls",
            "_model_module_version": "1.5.0",
            "_model_name": "ButtonModel",
            "_view_count": null,
            "_view_module": "@jupyter-widgets/controls",
            "_view_module_version": "1.5.0",
            "_view_name": "ButtonView",
            "button_style": "",
            "description": "Plot",
            "disabled": false,
            "icon": "",
            "layout": "IPY_MODEL_af7dd1ac99a24e569db41245303fe25f",
            "style": "IPY_MODEL_a5832e9022aa4ff39c829caa126691c9",
            "tooltip": ""
          }
        },
        "af7dd1ac99a24e569db41245303fe25f": {
          "model_module": "@jupyter-widgets/base",
          "model_name": "LayoutModel",
          "model_module_version": "1.2.0",
          "state": {
            "_model_module": "@jupyter-widgets/base",
            "_model_module_version": "1.2.0",
            "_model_name": "LayoutModel",
            "_view_count": null,
            "_view_module": "@jupyter-widgets/base",
            "_view_module_version": "1.2.0",
            "_view_name": "LayoutView",
            "align_content": null,
            "align_items": null,
            "align_self": null,
            "border": null,
            "bottom": null,
            "display": null,
            "flex": null,
            "flex_flow": null,
            "grid_area": null,
            "grid_auto_columns": null,
            "grid_auto_flow": null,
            "grid_auto_rows": null,
            "grid_column": null,
            "grid_gap": null,
            "grid_row": null,
            "grid_template_areas": null,
            "grid_template_columns": null,
            "grid_template_rows": null,
            "height": null,
            "justify_content": null,
            "justify_items": null,
            "left": null,
            "margin": null,
            "max_height": null,
            "max_width": null,
            "min_height": null,
            "min_width": null,
            "object_fit": null,
            "object_position": null,
            "order": null,
            "overflow": null,
            "overflow_x": null,
            "overflow_y": null,
            "padding": null,
            "right": null,
            "top": null,
            "visibility": null,
            "width": null
          }
        },
        "a5832e9022aa4ff39c829caa126691c9": {
          "model_module": "@jupyter-widgets/controls",
          "model_name": "ButtonStyleModel",
          "model_module_version": "1.5.0",
          "state": {
            "_model_module": "@jupyter-widgets/controls",
            "_model_module_version": "1.5.0",
            "_model_name": "ButtonStyleModel",
            "_view_count": null,
            "_view_module": "@jupyter-widgets/base",
            "_view_module_version": "1.2.0",
            "_view_name": "StyleView",
            "button_color": null,
            "font_weight": ""
          }
        },
        "1b8a622cdbc04665b07d01198b57f01d": {
          "model_module": "@jupyter-widgets/output",
          "model_name": "OutputModel",
          "model_module_version": "1.0.0",
          "state": {
            "_dom_classes": [],
            "_model_module": "@jupyter-widgets/output",
            "_model_module_version": "1.0.0",
            "_model_name": "OutputModel",
            "_view_count": null,
            "_view_module": "@jupyter-widgets/output",
            "_view_module_version": "1.0.0",
            "_view_name": "OutputView",
            "layout": "IPY_MODEL_436b20d7f02a4852a33f2e10e9e36d9c",
            "msg_id": "",
            "outputs": [
              {
                "output_type": "display_data",
                "data": {
                  "text/plain": "<Figure size 300x300 with 1 Axes>",
                  "image/png": "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\n"
                },
                "metadata": {}
              }
            ]
          }
        },
        "436b20d7f02a4852a33f2e10e9e36d9c": {
          "model_module": "@jupyter-widgets/base",
          "model_name": "LayoutModel",
          "model_module_version": "1.2.0",
          "state": {
            "_model_module": "@jupyter-widgets/base",
            "_model_module_version": "1.2.0",
            "_model_name": "LayoutModel",
            "_view_count": null,
            "_view_module": "@jupyter-widgets/base",
            "_view_module_version": "1.2.0",
            "_view_name": "LayoutView",
            "align_content": null,
            "align_items": null,
            "align_self": null,
            "border": null,
            "bottom": null,
            "display": null,
            "flex": null,
            "flex_flow": null,
            "grid_area": null,
            "grid_auto_columns": null,
            "grid_auto_flow": null,
            "grid_auto_rows": null,
            "grid_column": null,
            "grid_gap": null,
            "grid_row": null,
            "grid_template_areas": null,
            "grid_template_columns": null,
            "grid_template_rows": null,
            "height": null,
            "justify_content": null,
            "justify_items": null,
            "left": null,
            "margin": null,
            "max_height": null,
            "max_width": null,
            "min_height": null,
            "min_width": null,
            "object_fit": null,
            "object_position": null,
            "order": null,
            "overflow": null,
            "overflow_x": null,
            "overflow_y": null,
            "padding": null,
            "right": null,
            "top": null,
            "visibility": null,
            "width": null
          }
        }
      }
    }
  },
  "nbformat": 4,
  "nbformat_minor": 0
}