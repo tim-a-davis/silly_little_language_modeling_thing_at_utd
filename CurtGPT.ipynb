{
  "cells": [
    {
      "cell_type": "markdown",
      "metadata": {
        "id": "view-in-github",
        "colab_type": "text"
      },
      "source": [
        "<a href=\"https://colab.research.google.com/github/tim-a-davis/silly_little_language_modeling_thing_at_utd/blob/main/CurtGPT.ipynb\" target=\"_parent\"><img src=\"https://colab.research.google.com/assets/colab-badge.svg\" alt=\"Open In Colab\"/></a>"
      ]
    },
    {
      "cell_type": "markdown",
      "metadata": {
        "id": "AgN0tXTQ5SVS"
      },
      "source": [
        "<table>\n",
        "<tr>\n",
        "<td style=\"width: 10%;\">\n",
        "\n",
        "# CurtGPT\n",
        "Using Microsoft's Phi 1.5 model like it was never intended.\n",
        "\n",
        "</td>\n",
        "<td style=\"text-align: center;\">\n",
        "<img src=\"https://github.com/tim-a-davis/silly_little_language_modeling_thing_at_utd/blob/main/curtgpt%20logo.png?raw=true\" width=\"300\" height=\"auto\">\n",
        "</td>\n",
        "</tr>\n",
        "</table>\n"
      ]
    },
    {
      "cell_type": "markdown",
      "metadata": {
        "id": "G6hseI_DS0H2"
      },
      "source": [
        "# Setup, Installs, Imports\n",
        "\n",
        "Setup of the environment, installation of the needed models, and importing everything required to run the notebook"
      ]
    },
    {
      "cell_type": "code",
      "execution_count": 4,
      "metadata": {
        "colab": {
          "base_uri": "https://localhost:8080/"
        },
        "id": "eJQmTHR3dIrL",
        "outputId": "4af1be81-8933-4ab2-d388-4761f7fe4039"
      },
      "outputs": [
        {
          "output_type": "stream",
          "name": "stdout",
          "text": [
            "\u001b[2K     \u001b[90m━━━━━━━━━━━━━━━━━━━━━━━━━━━━━━━━━━━━━━━\u001b[0m \u001b[32m118.0/118.0 kB\u001b[0m \u001b[31m3.2 MB/s\u001b[0m eta \u001b[36m0:00:00\u001b[0m\n",
            "\u001b[2K     \u001b[90m━━━━━━━━━━━━━━━━━━━━━━━━━━━━━━━━━━━━━━━━\u001b[0m \u001b[32m7.6/7.6 MB\u001b[0m \u001b[31m31.6 MB/s\u001b[0m eta \u001b[36m0:00:00\u001b[0m\n",
            "\u001b[2K     \u001b[90m━━━━━━━━━━━━━━━━━━━━━━━━━━━━━━━━━━━━━━\u001b[0m \u001b[32m258.1/258.1 kB\u001b[0m \u001b[31m28.3 MB/s\u001b[0m eta \u001b[36m0:00:00\u001b[0m\n",
            "\u001b[2K     \u001b[90m━━━━━━━━━━━━━━━━━━━━━━━━━━━━━━━━━━━━━━━━\u001b[0m \u001b[32m85.6/85.6 kB\u001b[0m \u001b[31m10.7 MB/s\u001b[0m eta \u001b[36m0:00:00\u001b[0m\n",
            "\u001b[2K     \u001b[90m━━━━━━━━━━━━━━━━━━━━━━━━━━━━━━━━━━━━━━\u001b[0m \u001b[32m519.6/519.6 kB\u001b[0m \u001b[31m37.0 MB/s\u001b[0m eta \u001b[36m0:00:00\u001b[0m\n",
            "\u001b[2K     \u001b[90m━━━━━━━━━━━━━━━━━━━━━━━━━━━━━━━━━━━━━━━━\u001b[0m \u001b[32m92.6/92.6 MB\u001b[0m \u001b[31m9.0 MB/s\u001b[0m eta \u001b[36m0:00:00\u001b[0m\n",
            "\u001b[2K     \u001b[90m━━━━━━━━━━━━━━━━━━━━━━━━━━━━━━━━━━━━━━━━\u001b[0m \u001b[32m42.2/42.2 kB\u001b[0m \u001b[31m4.9 MB/s\u001b[0m eta \u001b[36m0:00:00\u001b[0m\n",
            "\u001b[2K     \u001b[90m━━━━━━━━━━━━━━━━━━━━━━━━━━━━━━━━━━━━━━\u001b[0m \u001b[32m294.9/294.9 kB\u001b[0m \u001b[31m32.3 MB/s\u001b[0m eta \u001b[36m0:00:00\u001b[0m\n",
            "\u001b[2K     \u001b[90m━━━━━━━━━━━━━━━━━━━━━━━━━━━━━━━━━━━━━━━━\u001b[0m \u001b[32m7.8/7.8 MB\u001b[0m \u001b[31m106.6 MB/s\u001b[0m eta \u001b[36m0:00:00\u001b[0m\n",
            "\u001b[2K     \u001b[90m━━━━━━━━━━━━━━━━━━━━━━━━━━━━━━━━━━━━━━━━\u001b[0m \u001b[32m1.3/1.3 MB\u001b[0m \u001b[31m80.3 MB/s\u001b[0m eta \u001b[36m0:00:00\u001b[0m\n",
            "\u001b[2K     \u001b[90m━━━━━━━━━━━━━━━━━━━━━━━━━━━━━━━━━━━━━━\u001b[0m \u001b[32m115.3/115.3 kB\u001b[0m \u001b[31m12.1 MB/s\u001b[0m eta \u001b[36m0:00:00\u001b[0m\n",
            "\u001b[2K     \u001b[90m━━━━━━━━━━━━━━━━━━━━━━━━━━━━━━━━━━━━━━\u001b[0m \u001b[32m194.1/194.1 kB\u001b[0m \u001b[31m22.0 MB/s\u001b[0m eta \u001b[36m0:00:00\u001b[0m\n",
            "\u001b[2K     \u001b[90m━━━━━━━━━━━━━━━━━━━━━━━━━━━━━━━━━━━━━━\u001b[0m \u001b[32m134.8/134.8 kB\u001b[0m \u001b[31m16.5 MB/s\u001b[0m eta \u001b[36m0:00:00\u001b[0m\n",
            "\u001b[?25h"
          ]
        }
      ],
      "source": [
        "#@title Installing dependencies\n",
        "!pip install -q trl transformers accelerate peft datasets bitsandbytes einops"
      ]
    },
    {
      "cell_type": "code",
      "execution_count": 33,
      "metadata": {
        "id": "miP5UKcBae7u",
        "colab": {
          "base_uri": "https://localhost:8080/",
          "height": 38
        },
        "outputId": "f50604de-0209-4078-8ba9-7679bbf4f8dd"
      },
      "outputs": [
        {
          "output_type": "display_data",
          "data": {
            "text/plain": [
              "<IPython.core.display.HTML object>"
            ],
            "text/html": [
              "\n",
              "  <style>\n",
              "    pre {\n",
              "        white-space: pre-wrap;\n",
              "    }\n",
              "  </style>\n",
              "  "
            ]
          },
          "metadata": {}
        }
      ],
      "source": [
        "#@title Imports & setup\n",
        "from IPython.display import HTML, display, clear_output\n",
        "import ipywidgets as widgets\n",
        "\n",
        "import requests\n",
        "import random\n",
        "import time\n",
        "import math\n",
        "import numba\n",
        "import numpy as np\n",
        "import itertools\n",
        "\n",
        "from collections import defaultdict, Counter\n",
        "from typing import List, Callable, Dict\n",
        "from pprint import pprint\n",
        "from einops import rearrange\n",
        "import torch\n",
        "from transformers import (\n",
        "    AutoModelForCausalLM,\n",
        "    AutoTokenizer,\n",
        "    GenerationConfig,\n",
        "    BitsAndBytesConfig,\n",
        "    TrainingArguments\n",
        ")\n",
        "from trl import DPOTrainer\n",
        "from peft import AutoPeftModelForCausalLM, LoraConfig\n",
        "from datasets import load_dataset, Dataset\n",
        "\n",
        "import matplotlib.pyplot as plt\n",
        "import matplotlib.animation as animation\n",
        "import seaborn as sns\n",
        "\n",
        "def set_css():\n",
        "  display(HTML('''\n",
        "  <style>\n",
        "    pre {\n",
        "        white-space: pre-wrap;\n",
        "    }\n",
        "  </style>\n",
        "  '''))\n",
        "\n",
        "get_ipython().events.register('pre_run_cell', set_css)"
      ]
    },
    {
      "cell_type": "code",
      "source": [
        "!git clone https://huggingface.co/microsoft/phi-1_5\n",
        "!git clone https://huggingface.co/teknium/Puffin-Phi-v2\n",
        "!git clone https://huggingface.co/tim-d/CurtGPT"
      ],
      "metadata": {
        "colab": {
          "base_uri": "https://localhost:8080/"
        },
        "id": "R6KeaKTgJFCN",
        "outputId": "0b229072-3dbb-4221-8fb7-f997fbcf2058"
      },
      "execution_count": 1,
      "outputs": [
        {
          "output_type": "stream",
          "name": "stdout",
          "text": [
            "fatal: destination path 'phi-1_5' already exists and is not an empty directory.\n",
            "fatal: destination path 'Puffin-Phi-v2' already exists and is not an empty directory.\n",
            "fatal: destination path 'CurtGPT' already exists and is not an empty directory.\n"
          ]
        }
      ]
    },
    {
      "cell_type": "markdown",
      "metadata": {
        "id": "_pwlS5rkTAIh"
      },
      "source": [
        "# N-Gram Models\n",
        "\n",
        "Starting with n-gram models will hopfully build some intuition on language modeling in general."
      ]
    },
    {
      "cell_type": "markdown",
      "metadata": {
        "id": "lX2tBK0fUZRC"
      },
      "source": [
        "## Building the Trigram Model\n",
        "---\n",
        "Here we write all the code we'll need to ingest a corpus of text and create a representation of that text in the form of a trigram model.  The main idea behind the trigram model is fundementally the same as with decoder-only tranformer based models, but trigram models are easier to disect, so we'll start there."
      ]
    },
    {
      "cell_type": "code",
      "execution_count": null,
      "metadata": {
        "colab": {
          "base_uri": "https://localhost:8080/",
          "height": 38
        },
        "id": "PTRO7WnoagbC",
        "outputId": "b06431d4-c3d1-4ec1-b9ca-c8520e5d99f4"
      },
      "outputs": [
        {
          "data": {
            "text/html": [
              "\n",
              "  <style>\n",
              "    pre {\n",
              "        white-space: pre-wrap;\n",
              "    }\n",
              "  </style>\n",
              "  "
            ],
            "text/plain": [
              "<IPython.core.display.HTML object>"
            ]
          },
          "metadata": {},
          "output_type": "display_data"
        }
      ],
      "source": [
        "class TrigramModel:\n",
        "    def __init__(self, url):\n",
        "        self.trigram_freq = defaultdict(Counter)\n",
        "        self._train(url)\n",
        "\n",
        "    def _train(self, url):\n",
        "        r = requests.get(url)\n",
        "        text = r.text.lower().split()\n",
        "\n",
        "        # Create trigrams\n",
        "        for i in range(len(text) - 2):\n",
        "            trigram = (text[i], text[i + 1], text[i + 2])\n",
        "            self.trigram_freq[(trigram[0], trigram[1])][trigram[2]] += 1\n",
        "\n",
        "    def _get_weighted_random_word(self, counter):\n",
        "        total = sum(counter.values())\n",
        "        random_choice = random.randint(1, total)\n",
        "\n",
        "        for word, freq in counter.items():\n",
        "            random_choice -= freq\n",
        "            if random_choice <= 0:\n",
        "                return word\n",
        "\n",
        "    def predict(self, text, n_words):\n",
        "        words = text.lower().split()\n",
        "        output = words.copy()\n",
        "\n",
        "        for _ in range(n_words):\n",
        "            last_bigram = tuple(output[-2:])\n",
        "            if last_bigram in self.trigram_freq:\n",
        "                next_word = self._get_weighted_random_word(\n",
        "                    self.trigram_freq[last_bigram]\n",
        "                )\n",
        "                output.append(next_word)\n",
        "            else:\n",
        "                break\n",
        "\n",
        "        return \" \".join(output)\n",
        "\n",
        "    def get_frequencies_of_bigram(self, text):\n",
        "        words = text.lower().split()\n",
        "        bigram = tuple(words[-2:])\n",
        "        return bigram, self.trigram_freq[bigram]\n"
      ]
    },
    {
      "cell_type": "markdown",
      "metadata": {
        "id": "y7Ok1o9GU0fj"
      },
      "source": [
        "#### Instantiate The Model\n",
        "---\n",
        "\n",
        "Let's instantiate this trigram model with a .txt file containing the book _Billy Budd, Sailor_ by _Herman Melville_"
      ]
    },
    {
      "cell_type": "code",
      "execution_count": null,
      "metadata": {
        "colab": {
          "base_uri": "https://localhost:8080/",
          "height": 38
        },
        "id": "7-eYXbtwg8_m",
        "outputId": "c6ed1140-e472-40e2-acfa-7f9ce64bcacd"
      },
      "outputs": [
        {
          "data": {
            "text/html": [
              "\n",
              "  <style>\n",
              "    pre {\n",
              "        white-space: pre-wrap;\n",
              "    }\n",
              "  </style>\n",
              "  "
            ],
            "text/plain": [
              "<IPython.core.display.HTML object>"
            ]
          },
          "metadata": {},
          "output_type": "display_data"
        }
      ],
      "source": [
        "model = TrigramModel(\"http://gutenberg.net.au/ebooks06/0608511.txt\")"
      ]
    },
    {
      "cell_type": "markdown",
      "metadata": {
        "id": "yFYADHGCVHuq"
      },
      "source": [
        "\n",
        "---\n",
        "\n",
        "Here we prompt this model with some starting text, and we want to see what the model things the next n_words will be.  Given the way we've tokenized the text (splitting on spaces), the trigram model will only be looking at the last 2 words (in this case `the, master-at-arms`).  Then we add some small delay to make it look like a sweet streaming GPT model"
      ]
    },
    {
      "cell_type": "code",
      "execution_count": null,
      "metadata": {
        "colab": {
          "base_uri": "https://localhost:8080/",
          "height": 1000
        },
        "id": "AW--CcH2hILO",
        "outputId": "e0f487e9-7cb1-4bed-f78c-a7e621bf698a"
      },
      "outputs": [
        {
          "data": {
            "text/html": [
              "\n",
              "  <style>\n",
              "    pre {\n",
              "        white-space: pre-wrap;\n",
              "    }\n",
              "  </style>\n",
              "  "
            ],
            "text/plain": [
              "<IPython.core.display.HTML object>"
            ]
          },
          "metadata": {},
          "output_type": "display_data"
        },
        {
          "name": "stdout",
          "output_type": "stream",
          "text": [
            "\n",
            "\n",
            "as it started to sway, the master-at-arms and the old-fashioned sailor, the commander of the heart n\n",
            "\n",
            "ot the less to do quite as much as he was everything that a young man if of the honest sense of fear\n",
            "\n",
            ", his apprehension as to the gazer's professional eye it was the most important regards ceased to be\n",
            "\n",
            " called,"
          ]
        }
      ],
      "source": [
        "prompt = \"as it started to sway, the master-at-arms\"\n",
        "n_words = 50  # Number of words ahead to predict\n",
        "\n",
        "prediction = model.predict(prompt, n_words)\n",
        "for i, letter in enumerate(prediction):\n",
        "    if not i % 100: print(\"\\n\")\n",
        "    print(letter, end='', flush=True)\n",
        "    time.sleep(0.003)"
      ]
    },
    {
      "cell_type": "markdown",
      "metadata": {
        "id": "oPwJRKi6Vv1T"
      },
      "source": [
        "#### Disecting one of the bigrams\n",
        "\n",
        "---\n",
        "\n",
        "Here we can take a look at the models choice of words for our example bigram.  The output shows the bigram, as well as the frequencies of words found in the text.  "
      ]
    },
    {
      "cell_type": "code",
      "execution_count": null,
      "metadata": {
        "colab": {
          "base_uri": "https://localhost:8080/",
          "height": 798
        },
        "id": "MGT9pkrthKSO",
        "outputId": "28e656e3-b795-4d32-b385-48843744366d"
      },
      "outputs": [
        {
          "data": {
            "text/html": [
              "\n",
              "  <style>\n",
              "    pre {\n",
              "        white-space: pre-wrap;\n",
              "    }\n",
              "  </style>\n",
              "  "
            ],
            "text/plain": [
              "<IPython.core.display.HTML object>"
            ]
          },
          "metadata": {},
          "output_type": "display_data"
        },
        {
          "data": {
            "text/plain": [
              "(('the', 'master-at-arms'),\n",
              " Counter({'of': 1,\n",
              "          'was': 4,\n",
              "          'has': 1,\n",
              "          'in': 1,\n",
              "          'noticed': 1,\n",
              "          'that': 1,\n",
              "          'never': 1,\n",
              "          'being': 1,\n",
              "          'acted': 1,\n",
              "          'about': 1,\n",
              "          'said.': 1,\n",
              "          'said': 1,\n",
              "          'as': 1,\n",
              "          'and': 1}))"
            ]
          },
          "execution_count": 7,
          "metadata": {},
          "output_type": "execute_result"
        }
      ],
      "source": [
        "model.get_frequencies_of_bigram(prompt)"
      ]
    },
    {
      "cell_type": "markdown",
      "metadata": {
        "id": "EYKl9KV7WC-s"
      },
      "source": [
        "### Confusing diagram"
      ]
    },
    {
      "cell_type": "markdown",
      "metadata": {
        "id": "3M4k-xVvk-b3"
      },
      "source": [
        "![overly-complicated-diagram](http://www.phon.ox.ac.uk/jcoleman/old_SLP/Lecture_6/figure7-8.png)\n",
        "\n",
        "http://www.phon.ox.ac.uk/jcoleman/old_SLP/Lecture_6/trigram-modelling.html"
      ]
    },
    {
      "cell_type": "markdown",
      "metadata": {
        "id": "gRPuQCI_UM7F"
      },
      "source": [
        "# Base Transformer Model -- Phi-1.5\n",
        "\n",
        "---\n",
        "\n",
        "Here we'll start to look at a base transformer model to understand a little bit about how it behaves, how it's similar to a trigram model, and how we can use some tools to easily interact with these extremely large models."
      ]
    },
    {
      "cell_type": "markdown",
      "metadata": {
        "id": "mbRGL_SJWZzg"
      },
      "source": [
        "### Downloading and Instantiating\n",
        "\n",
        "\n",
        "---\n",
        "\n",
        "This part is not difficult thanks to the great work at huggingface.  With just two lines of code we can download a 1.3 billion parameter transformer model, map the weights onto the architecture, and load the associated configurations and tokenizers."
      ]
    },
    {
      "cell_type": "code",
      "execution_count": 10,
      "metadata": {
        "colab": {
          "base_uri": "https://localhost:8080/",
          "height": 38
        },
        "id": "IDMwICNuN3mS",
        "outputId": "7f54156c-a3e3-476e-8326-6567b4f29e62"
      },
      "outputs": [
        {
          "output_type": "display_data",
          "data": {
            "text/plain": [
              "<IPython.core.display.HTML object>"
            ],
            "text/html": [
              "\n",
              "  <style>\n",
              "    pre {\n",
              "        white-space: pre-wrap;\n",
              "    }\n",
              "  </style>\n",
              "  "
            ]
          },
          "metadata": {}
        }
      ],
      "source": [
        "model = AutoModelForCausalLM.from_pretrained(\"./phi-1_5\", trust_remote_code=True, torch_dtype=\"auto\", device_map=\"auto\")\n",
        "tokenizer = AutoTokenizer.from_pretrained(\"./phi-1_5\", trust_remote_code=True, torch_dtype=\"auto\", device_map=\"auto\")"
      ]
    },
    {
      "cell_type": "markdown",
      "metadata": {
        "id": "HJ2ta6FjW2FI"
      },
      "source": [
        "### Prompting Phi 1.5\n",
        "\n",
        "\n",
        "---\n",
        "\n",
        "Here we take our same prompt, and we use the model's tokenizer to turn it into integers that the model can ingest.\n",
        "The result will be a string of integers that represent chunks of text we call tokens."
      ]
    },
    {
      "cell_type": "code",
      "execution_count": 11,
      "metadata": {
        "colab": {
          "base_uri": "https://localhost:8080/",
          "height": 71
        },
        "id": "5kjTm5iSWXSc",
        "outputId": "87ec18e3-cb61-4b99-a4a9-5aeaed85fc41"
      },
      "outputs": [
        {
          "output_type": "display_data",
          "data": {
            "text/plain": [
              "<IPython.core.display.HTML object>"
            ],
            "text/html": [
              "\n",
              "  <style>\n",
              "    pre {\n",
              "        white-space: pre-wrap;\n",
              "    }\n",
              "  </style>\n",
              "  "
            ]
          },
          "metadata": {}
        },
        {
          "output_type": "stream",
          "name": "stdout",
          "text": [
            "{'input_ids': tensor([[  292,   340,  2067,   284, 20009,    11,   262,  4958,    12,   265,\n",
            "            12,  8357]], device='cuda:0')}\n"
          ]
        }
      ],
      "source": [
        "prompt = \"as it started to sway, the master-at-arms\"\n",
        "inputs = tokenizer(prompt, return_tensors=\"pt\", return_attention_mask=False).to(model.device)\n",
        "print(inputs)\n"
      ]
    },
    {
      "cell_type": "markdown",
      "metadata": {
        "id": "YtgrA9f0W92D"
      },
      "source": [
        "\n",
        "\n",
        "---\n",
        "\n",
        "We can use the tokenizer to reverse the process and get back the strings.\n",
        "You can see that the tokenizer sometimes chooses interesting places to chunk the text.\n",
        "You can also see that generally speaking, more common tokens have lower integer values.\n",
        "\n",
        "Here we show the integer values of each token and what the string representation is for each input."
      ]
    },
    {
      "cell_type": "code",
      "execution_count": 12,
      "metadata": {
        "colab": {
          "base_uri": "https://localhost:8080/",
          "height": 236
        },
        "id": "pjE2ZcWPtC3C",
        "outputId": "5b274a1c-06fe-482c-aed9-afe1d3de4f41"
      },
      "outputs": [
        {
          "output_type": "display_data",
          "data": {
            "text/plain": [
              "<IPython.core.display.HTML object>"
            ],
            "text/html": [
              "\n",
              "  <style>\n",
              "    pre {\n",
              "        white-space: pre-wrap;\n",
              "    }\n",
              "  </style>\n",
              "  "
            ]
          },
          "metadata": {}
        },
        {
          "output_type": "stream",
          "name": "stdout",
          "text": [
            "292   ----> as\n",
            "340   ---->  it\n",
            "2067  ---->  started\n",
            "284   ---->  to\n",
            "20009 ---->  sway\n",
            "11    ----> ,\n",
            "262   ---->  the\n",
            "4958  ---->  master\n",
            "12    ----> -\n",
            "265   ----> at\n",
            "12    ----> -\n",
            "8357  ----> arms\n"
          ]
        }
      ],
      "source": [
        "for token_id in inputs[\"input_ids\"][0]:\n",
        "    id = token_id.item()\n",
        "    token = tokenizer.decode(id)\n",
        "    print(f\"{id: <5} ----> {token}\")"
      ]
    },
    {
      "cell_type": "markdown",
      "metadata": {
        "id": "WrZRnxhQXDp4"
      },
      "source": [
        "\n",
        "\n",
        "---\n",
        "\n",
        "\n",
        "Performing inference on this model is as simple as passing in the inputs from the tokenizer to the .generate method.\n",
        "\n",
        "The tokenizer has a batch_decode method that we would generally use to get back an output text.  But in this case\n",
        "we want to see each individual token and what the model output was.\n",
        "\n"
      ]
    },
    {
      "cell_type": "code",
      "execution_count": 20,
      "metadata": {
        "colab": {
          "base_uri": "https://localhost:8080/",
          "height": 38
        },
        "id": "LCNfBF_0WXUX",
        "outputId": "3402c85e-6aff-4e67-a6f5-8d1adbf69a7b"
      },
      "outputs": [
        {
          "output_type": "display_data",
          "data": {
            "text/plain": [
              "<IPython.core.display.HTML object>"
            ],
            "text/html": [
              "\n",
              "  <style>\n",
              "    pre {\n",
              "        white-space: pre-wrap;\n",
              "    }\n",
              "  </style>\n",
              "  "
            ]
          },
          "metadata": {}
        }
      ],
      "source": [
        "outputs = model.generate(**inputs, max_new_tokens=11)\n",
        "output_tokens = tokenizer.batch_decode(outputs[0]) # adding [0] yields a list of tokens rather than a list of batches"
      ]
    },
    {
      "cell_type": "code",
      "execution_count": 14,
      "metadata": {
        "cellView": "form",
        "colab": {
          "base_uri": "https://localhost:8080/",
          "height": 38
        },
        "id": "4JHmujrpqUh-",
        "outputId": "46bd73ab-0ded-4ce2-d349-0db04234fe27"
      },
      "outputs": [
        {
          "output_type": "display_data",
          "data": {
            "text/plain": [
              "<IPython.core.display.HTML object>"
            ],
            "text/html": [
              "\n",
              "  <style>\n",
              "    pre {\n",
              "        white-space: pre-wrap;\n",
              "    }\n",
              "  </style>\n",
              "  "
            ]
          },
          "metadata": {}
        }
      ],
      "source": [
        "#@title Helper function for printing token ids and tokens\n",
        "def print_tokens(ids, tokens, line_size=18):\n",
        "    tokens = [token.replace(\" \", \"·\") for token in tokens]\n",
        "    def chunk_list(lst, max_size):\n",
        "        for i in range(0, len(lst), max_size):\n",
        "            yield lst[i:i + max_size]\n",
        "    id_chunks = list(chunk_list(ids, line_size))\n",
        "    token_chunks = list(chunk_list(tokens, line_size))\n",
        "    for ids, tokens in zip(id_chunks, token_chunks):\n",
        "        max_widths = [max(len(str(id)), len(token)) for id, token in zip(ids, tokens)]\n",
        "        aligned_ids = [str(id).center(max_widths[i]) for i, id in enumerate(ids)]\n",
        "        aligned_arrows = ['↓'.center(max_widths[i]) for i in range(len(ids))]\n",
        "        aligned_tokens = [token.center(max_widths[i]) for i, token in enumerate(tokens)]\n",
        "        print(' '.join(aligned_ids))\n",
        "        print(' '.join(aligned_arrows))\n",
        "        print(repr(' '.join(aligned_tokens))[1:-1])\n",
        "        print(\"\\n\")\n",
        "\n",
        "\n"
      ]
    },
    {
      "cell_type": "markdown",
      "metadata": {
        "id": "POcTMiJGXNs3"
      },
      "source": [
        "### Inspecting Model Outputs\n",
        "\n",
        "\n",
        "---\n",
        "\n",
        "\n",
        "Here we can decode each token output from the model, and map it back to original text.  We can see that this output is much more congruous with the input prompt over the trigram model.  "
      ]
    },
    {
      "cell_type": "code",
      "execution_count": 21,
      "metadata": {
        "colab": {
          "base_uri": "https://localhost:8080/",
          "height": 319
        },
        "id": "iHZ_Zp_wcr-7",
        "outputId": "28f0f742-a0ae-4c32-e1bf-a1a46ea65889"
      },
      "outputs": [
        {
          "output_type": "display_data",
          "data": {
            "text/plain": [
              "<IPython.core.display.HTML object>"
            ],
            "text/html": [
              "\n",
              "  <style>\n",
              "    pre {\n",
              "        white-space: pre-wrap;\n",
              "    }\n",
              "  </style>\n",
              "  "
            ]
          },
          "metadata": {}
        },
        {
          "output_type": "stream",
          "name": "stdout",
          "text": [
            "Output:\n",
            "as it started to sway, the master-at-arms, a seasoned veteran of the battlefield, stepped forward.\n",
            "\n",
            "Token Mapping:\n",
            "292 340   2067   284 20009 11 262    4958  12 265 12 8357 11 257   29314     9298   286 262 \n",
            " ↓   ↓     ↓      ↓    ↓   ↓   ↓      ↓    ↓   ↓  ↓   ↓   ↓   ↓      ↓        ↓      ↓   ↓  \n",
            " as ·it ·started ·to ·sway ,  ·the ·master -   at -  arms ,   ·a ·seasoned ·veteran ·of ·the\n",
            "\n",
            "\n",
            "   13480     11  10764     2651   13\n",
            "     ↓       ↓     ↓        ↓     ↓ \n",
            "·battlefield ,  ·stepped ·forward . \n",
            "\n",
            "\n",
            "\n",
            "\n",
            "* The · characters represent spaces in the token\n"
          ]
        }
      ],
      "source": [
        "\n",
        "print(\"Output:\\n\" + \"\".join(output_tokens) + \"\\n\\nToken Mapping:\")\n",
        "print_tokens(outputs.cpu().tolist()[0], output_tokens)\n",
        "\n",
        "print(\"\\n\\n* The · characters represent spaces in the token\")"
      ]
    },
    {
      "cell_type": "markdown",
      "metadata": {
        "id": "J7Ca4c6NXk3u"
      },
      "source": [
        "\n",
        "\n",
        "---\n",
        "\n",
        "The model itself outputs a tensor of size (..., sequence_length, vocabulary_size).  In this model, the vocab size is 51200.\n",
        "Each token in the vocabulary is assigned a value that is roughly the probability of that value being next in the sequence.\n",
        "We can see for our sequence what the top ten next tokens were by finding the tokens with the highest values.\n"
      ]
    },
    {
      "cell_type": "code",
      "execution_count": 22,
      "metadata": {
        "colab": {
          "base_uri": "https://localhost:8080/",
          "height": 319
        },
        "id": "2SbW1CCX76AQ",
        "outputId": "bda3ed58-26e8-4134-8511-a9039d0fbb05"
      },
      "outputs": [
        {
          "output_type": "display_data",
          "data": {
            "text/plain": [
              "<IPython.core.display.HTML object>"
            ],
            "text/html": [
              "\n",
              "  <style>\n",
              "    pre {\n",
              "        white-space: pre-wrap;\n",
              "    }\n",
              "  </style>\n",
              "  "
            ]
          },
          "metadata": {}
        },
        {
          "output_type": "stream",
          "name": "stdout",
          "text": [
            "Shape of outputs: torch.Size([1, 12, 51200])\n",
            "\n",
            "\n",
            "Top 10 next possible tokens given our input:\n",
            "\n",
            "token            probability\n",
            "----------------------------\n",
            ",          ---->     0.04119\n",
            " quickly   ---->      0.0331\n",
            " knew      ---->     0.02875\n",
            " couldn    ---->     0.02577\n",
            " and       ---->     0.02538\n",
            " swiftly   ---->     0.02205\n",
            " skill     ---->     0.01961\n",
            " decided   ---->     0.01799\n",
            " took      ---->     0.01677\n",
            " of        ---->     0.01492\n"
          ]
        }
      ],
      "source": [
        "with torch.no_grad():\n",
        "  single_forward_pass = model.forward(**inputs) # perform one forward pass\n",
        "\n",
        "print(f\"Shape of outputs: {single_forward_pass.logits.shape}\\n\\n\")\n",
        "\n",
        "logits = single_forward_pass.logits[0, -1, :].cpu()\n",
        "exp_sum = torch.exp(single_forward_pass.logits[0, -1, :].cpu()).sum().item()\n",
        "top_10_token_ids = single_forward_pass.logits[0, -1, :].cpu().argsort().tolist()[-10:][::-1] # get the top 10 tokens in the vocabulary from the output tensor\n",
        "top_10_tokens = [tokenizer.decode(token) for token in top_10_token_ids] # decode them back to strings\n",
        "top_10_probs = (torch.exp(single_forward_pass.logits[0, -1, :].cpu()[top_10_token_ids])/exp_sum).tolist() # get their probabilities from the output of the model\n",
        "top_10_probs_rounded = [round(i, 5) for i in top_10_probs]\n",
        "\n",
        "\n",
        "print(\"Top 10 next possible tokens given our input:\\n\")\n",
        "print(\"token            probability\")\n",
        "print(\"-\"*28)\n",
        "for token, prob in zip(top_10_tokens, top_10_probs_rounded):\n",
        "    print(f\"{repr(token)[1:-1]: <10} ----> {prob: >11}\")"
      ]
    },
    {
      "cell_type": "markdown",
      "metadata": {
        "id": "njuAs8nOBhO9"
      },
      "source": [
        "A great overview of the different sampling algorithms commonly found for LLMs can be found [here](https://towardsdatascience.com/decoding-strategies-that-you-need-to-know-for-response-generation-ba95ee0faadc)"
      ]
    },
    {
      "cell_type": "markdown",
      "metadata": {
        "id": "l_dbLJLQZ2Nq"
      },
      "source": [
        "## Writing a custom sampler\n",
        "---\n",
        "Decoder-only models produce vocabulary-length array of logits that we can transform into probabilities using a softmax function.  Softmax is defines as:\n",
        "\n",
        "$$\n",
        "\\text{softmax}(x_i) = \\frac{e^{x_i}}{\\sum_{j=1}^{n} e^{x_j}}\n",
        "$$\n",
        "\n",
        "Typically, to constrain the range of possible outcomes, samplers use a parameter called temperature to adjust the probability space.  By dividing each logit by T, it makes more probable tokens even _more_ probable, and less probable tokens even _less_ probable. The softmax function with temperature looks like this:\n",
        "\n",
        "$$\n",
        "\\text{softmax}(x_i; T) = \\frac{e^{x_i / T}}{\\sum_{j=1}^{n} e^{x_j / T}}\n",
        "$$\n",
        "\n",
        "\n",
        "You can see then that the base softmax function has a \"default\" temperature of 1.  The following illustration shows how changing the temperature can effect the probabilities:\n",
        "\n",
        "![temp](https://miro.medium.com/v2/resize:fit:1400/format:webp/1*i9cXkz-TWG7-BS6CycahuQ.png)"
      ]
    },
    {
      "cell_type": "code",
      "execution_count": 24,
      "metadata": {
        "colab": {
          "base_uri": "https://localhost:8080/",
          "height": 87
        },
        "id": "FaCQdQoqKTvx",
        "outputId": "2ec0421a-2159-4292-f365-5041f8df9703"
      },
      "outputs": [
        {
          "output_type": "display_data",
          "data": {
            "text/plain": [
              "<IPython.core.display.HTML object>"
            ],
            "text/html": [
              "\n",
              "  <style>\n",
              "    pre {\n",
              "        white-space: pre-wrap;\n",
              "    }\n",
              "  </style>\n",
              "  "
            ]
          },
          "metadata": {}
        },
        {
          "output_type": "stream",
          "name": "stdout",
          "text": [
            "As the ship started to sway, the master-at-arms began barking orders to the brave but battered boys. But before they knew it, a bolt of lightning struck a nearby building, setting the boat ablaze. The boys barely managed to escape before being blown back by the boat's blaring cannons. But\n"
          ]
        }
      ],
      "source": [
        "def get_possible_tokens(prompt, temperature=1, top_p=0.9, top_k=None):\n",
        "    inputs = tokenizer(prompt, return_tensors=\"pt\", return_attention_mask=False).to(model.device)\n",
        "    with torch.no_grad():\n",
        "        single_forward_pass = model.forward(**inputs)\n",
        "    logits = single_forward_pass.logits[0, -1, :].cpu() # get the logits from the outputs\n",
        "    logits = logits - torch.max(logits) # subtract the max for numerical stability\n",
        "    exp_sum = torch.exp(logits/temperature).sum().item() # find the sum of the exponentiated logits\n",
        "    probs = torch.exp(logits/temperature)/exp_sum # get the probability from softmax\n",
        "    sort_idx = probs.argsort().tolist()[::-1] # get the index of tokens from most probable to least probable\n",
        "    probs_sorted = probs[sort_idx] # sort the probabilities\n",
        "    top_k_calculated = ((torch.cumsum(probs_sorted, 0) > top_p) * 1).argmax() + 1 # find the index of the token that crosses the top_p threshold\n",
        "    top_k = top_k or top_k_calculated # override top_k if it is passed as a kwarg\n",
        "    token_ids_considered = sort_idx[:top_k] # get the list of tokens where sum(p) < top_p\n",
        "    token_probs = (probs_sorted[:top_k] / torch.sum(probs_sorted[:top_k])).to(torch.float16)\n",
        "    tokens_considered = tokenizer.batch_decode(token_ids_considered)\n",
        "    return tokens_considered, token_probs\n",
        "\n",
        "\n",
        "def generate_custom(prompt: str,\n",
        "                    custom_sampler: Callable,\n",
        "                    temperature: float=1,\n",
        "                    top_p: float=0.9,\n",
        "                    top_k: float=None,\n",
        "                    max_new_tokens: int=20,\n",
        "                    **kwargs\n",
        "    ):\n",
        "    for _ in range(max_new_tokens):\n",
        "        tokens_considered, token_probs = get_possible_tokens(prompt, temperature=temperature, top_p=top_p, top_k=top_k)\n",
        "        selected_token = custom_sampler(tokens_considered, token_probs, **kwargs)\n",
        "        prompt += selected_token\n",
        "    return prompt\n",
        "\n",
        "\n",
        "def try_for_certain_letter(tokens: List, token_probs: torch.Tensor, letter: str=\"b\") -> str:\n",
        "    \"\"\"\n",
        "    Given a list of token strings and corresponding probabilities, this function returns a token that starts\n",
        "    with the letter -letter- if any such token exists in the list. The token must also follow a space, meaning it should\n",
        "    represent the beginning of a new word. If no such token is found, a token is selected randomly from the list\n",
        "    based on the given probabilities.\n",
        "\n",
        "    Parameters:\n",
        "    - tokens (list of str): A list of tokens (substrings) to search through.\n",
        "    - token_probs (numpy.ndarray or tensor): An array or tensor of probabilities corresponding to each token in `tokens`.\n",
        "                                              The length of this array should match the length of `tokens`.\n",
        "\n",
        "    Returns:\n",
        "    - str: A token string. If a token starts with the letter -letter- and is the beginning of a new word (i.e., follows a space),\n",
        "           that token is returned. Otherwise, a token is randomly selected based on `token_probs`.\n",
        "    \"\"\"\n",
        "    for token in tokens:\n",
        "        if \" \" in token[:2]: # we only want to select a words for new words (after a space)\n",
        "            for char in token:\n",
        "                if char.isalpha():\n",
        "                    if char.lower() == letter:\n",
        "                        return token\n",
        "                    else:\n",
        "                        break\n",
        "    return np.random.choice(tokens, 1, p=token_probs.numpy())[0]\n",
        "\n",
        "\n",
        "def feel_free_to_write_a_new_sampler(tokens: List, token_probs: torch.Tensor, *args, **kwargs) -> str:\n",
        "    raise NotImplementedError\n",
        "\n",
        "\n",
        "\n",
        "prompt = \"As the ship started to sway, the master-at-arms\"\n",
        "output = generate_custom(prompt, try_for_certain_letter, temperature=1, top_p=0.95, top_k=None, max_new_tokens=50, letter=\"b\")\n",
        "print(output)\n",
        "\n",
        "# try increasing temperature > 1, or near 0"
      ]
    },
    {
      "cell_type": "markdown",
      "source": [
        "### Can't you just use prompt engineering?\n",
        "Here we try to add in \"use as many b-words as possible\" in the prompt to see if we can get the model to do what we want.  Of course, this model is not tuned to follow instructions at all, so this won't work."
      ],
      "metadata": {
        "id": "LmkBABxaM62i"
      }
    },
    {
      "cell_type": "code",
      "source": [
        "prompt = \"Use as many B-words as possible: As it started to sway, the master-at-arms\"\n",
        "inputs = tokenizer(prompt, return_tensors=\"pt\", return_attention_mask=False).to(model.device)\n",
        "outputs = model.generate(**inputs, max_new_tokens=50, do_sample=True, temperature=0.5)\n",
        "output_tokens = tokenizer.batch_decode(outputs)\n",
        "print(output_tokens[0])"
      ],
      "metadata": {
        "colab": {
          "base_uri": "https://localhost:8080/",
          "height": 87
        },
        "id": "g637KAJxMXdo",
        "outputId": "9e997f6d-f595-4fef-a709-10a38d4b8424"
      },
      "execution_count": 28,
      "outputs": [
        {
          "output_type": "display_data",
          "data": {
            "text/plain": [
              "<IPython.core.display.HTML object>"
            ],
            "text/html": [
              "\n",
              "  <style>\n",
              "    pre {\n",
              "        white-space: pre-wrap;\n",
              "    }\n",
              "  </style>\n",
              "  "
            ]
          },
          "metadata": {}
        },
        {
          "output_type": "stream",
          "name": "stdout",
          "text": [
            "Use as many B-words as possible: As it started to sway, the master-at-arms decided to use it as a weapon. He hoped that the B-word would hit his enemy and win the battle. He felt a surge of adrenaline and fear as he aimed his blaster at the enemy. He pulled the trigger and watched the B-\n"
          ]
        }
      ]
    },
    {
      "cell_type": "code",
      "source": [
        "prompt = \"Can you tell me what a master-at-arms is?\"\n",
        "inputs = tokenizer(prompt, return_tensors=\"pt\", return_attention_mask=False).to(model.device)\n",
        "outputs = model.generate(**inputs, max_new_tokens=50, do_sample=True, temperature=0.5)\n",
        "output_tokens = tokenizer.batch_decode(outputs)\n",
        "print(output_tokens[0])"
      ],
      "metadata": {
        "colab": {
          "base_uri": "https://localhost:8080/",
          "height": 104
        },
        "id": "jyXLSYaAM5We",
        "outputId": "e3da7550-5c06-49c2-cef6-2374f4159b6f"
      },
      "execution_count": 30,
      "outputs": [
        {
          "output_type": "display_data",
          "data": {
            "text/plain": [
              "<IPython.core.display.HTML object>"
            ],
            "text/html": [
              "\n",
              "  <style>\n",
              "    pre {\n",
              "        white-space: pre-wrap;\n",
              "    }\n",
              "  </style>\n",
              "  "
            ]
          },
          "metadata": {}
        },
        {
          "output_type": "stream",
          "name": "stdout",
          "text": [
            "Can you tell me what a master-at-arms is?\n",
            "\n",
            "John: Sure. A master-at-arms is a type of gun that is designed for close combat. It's usually smaller and lighter than a regular gun, and it's used by soldiers who need to be able to move quickly and\n"
          ]
        }
      ]
    },
    {
      "cell_type": "markdown",
      "metadata": {
        "id": "yUi2xudvg7R3"
      },
      "source": [
        "## Visualizing the attention weights"
      ]
    },
    {
      "cell_type": "code",
      "execution_count": 34,
      "metadata": {
        "cellView": "form",
        "colab": {
          "base_uri": "https://localhost:8080/",
          "height": 38
        },
        "id": "U3N5P2plqaOX",
        "outputId": "1d401b8b-f692-4959-8d7d-ccef4289c497"
      },
      "outputs": [
        {
          "output_type": "display_data",
          "data": {
            "text/plain": [
              "<IPython.core.display.HTML object>"
            ],
            "text/html": [
              "\n",
              "  <style>\n",
              "    pre {\n",
              "        white-space: pre-wrap;\n",
              "    }\n",
              "  </style>\n",
              "  "
            ]
          },
          "metadata": {}
        },
        {
          "output_type": "display_data",
          "data": {
            "text/plain": [
              "<IPython.core.display.HTML object>"
            ],
            "text/html": [
              "\n",
              "  <style>\n",
              "    pre {\n",
              "        white-space: pre-wrap;\n",
              "    }\n",
              "  </style>\n",
              "  "
            ]
          },
          "metadata": {}
        }
      ],
      "source": [
        "#@title Helper functions for getting and displaying attention weights\n",
        "\n",
        "def get_attn_weights(inputs, layer, head):\n",
        "    x = model.layers[0](**inputs)\n",
        "    for i in range(1, layer):\n",
        "        x = model.layers[i](x)\n",
        "    x = model.layers[layer].ln(x)\n",
        "    model.layers[layer].mixer\n",
        "    qkv = model.layers[layer].mixer.Wqkv(x)\n",
        "    qkv = rearrange(qkv, \"... (three h d) -> ... three h d\", three=3, d=model.layers[layer].mixer.head_dim)\n",
        "    qkv = model.layers[layer].mixer.rotary_emb(qkv)\n",
        "    batch_size, seqlen = qkv.shape[0], qkv.shape[1]\n",
        "    q, k, v = qkv.unbind(dim=2)\n",
        "    softmax_scale = 1.0 / math.sqrt(q.shape[-1])\n",
        "    scores = torch.einsum('bthd,bshd->bhts', q, k * softmax_scale)\n",
        "    causal_mask = torch.triu(torch.full(size=(seqlen, seqlen), fill_value=-10000.0, device=scores.device), 1)\n",
        "    scores = scores + causal_mask.to(dtype=scores.dtype)\n",
        "    attention = torch.softmax(scores, dim=-1, dtype=v.dtype)\n",
        "    output = torch.einsum('bhts,bshd->bthd', attention, v)\n",
        "    weights = attention[0, head].cpu()\n",
        "    return weights\n",
        "\n",
        "\n",
        "def display_attention_weights(inputs, layer, head, token_idx):\n",
        "    input_tokens = [tokenizer.decode(id) for id in inputs[\"input_ids\"][0]]\n",
        "    weights = get_attn_weights(inputs, layer, head)\n",
        "    with out:\n",
        "        fig, ax = plt.subplots(figsize=(3, 1*(len(input_tokens)//4)))\n",
        "        ax.axis('off')\n",
        "        tl = len(input_tokens)\n",
        "        ax.set_ylim(0, len(input_tokens))\n",
        "        ax.set_xlim(0, 10)\n",
        "        for i, token in enumerate(input_tokens):\n",
        "            ax.text(3, len(input_tokens)-i, token, ha='right', va='top')\n",
        "            ax.text(8, len(input_tokens)-i, token, ha='left', va='top')\n",
        "        ax.fill_between([0, 3.3], [tl-token_idx, tl-token_idx], [tl-token_idx-0.75, tl-token_idx-0.75], color='blue', alpha=0.4)\n",
        "        for i, weight in enumerate(weights[token_idx].cpu().tolist()):\n",
        "            ax.fill_between([7.7, 13], [tl-i, tl-i], [tl-i-0.75, tl-i-0.75], color='blue', alpha=math.sqrt(weight)*0.7)\n",
        "            ax.plot([3.35, 7.65], [tl-token_idx - 0.375, tl-i], c=\"blue\", alpha=math.sqrt(weight)*0.7, lw=0.5)\n",
        "        out.clear_output()\n",
        "        plt.show()\n",
        "\n",
        "\n",
        "def handler(_):\n",
        "    display_attention_weights(inputs, layer.value, head.value, token_idx.value)\n"
      ]
    },
    {
      "cell_type": "code",
      "execution_count": 35,
      "metadata": {
        "cellView": "form",
        "colab": {
          "base_uri": "https://localhost:8080/",
          "height": 413,
          "referenced_widgets": [
            "c248f71172b94fbd860bd4157481736d",
            "e956d7f87b46428489fd2a10e4551128",
            "87c1dc3f897b43dc8b8324d1778b83ed",
            "f3ae0085ebb342a6a5b8bbb2d324f332",
            "6b25fa9e26384fcea565a75d41dde251",
            "f574c8fa64544e358c4a2efed7d9363b",
            "b30e4439bf1c4a7a87244c9b99a804c7",
            "7ffd8ee6d4224de384db93646a055f0c",
            "d9db37a50daf4086a98dc4d9fc02e6e0",
            "ee88d18669c04c4fab84ca53e3398fc2",
            "f6e74621992e407e91b2d76a712d171c",
            "c8f5273b390e455492b2f650c277d0ca",
            "7ed0a2bafeca43a0a6671214b54910ad",
            "4d661deec4f04dd6a5419719fc128cf0"
          ]
        },
        "id": "X-w1l_PERmDv",
        "outputId": "971c1aff-0876-4170-c9a3-5998d0b0fc7d"
      },
      "outputs": [
        {
          "output_type": "display_data",
          "data": {
            "text/plain": [
              "<IPython.core.display.HTML object>"
            ],
            "text/html": [
              "\n",
              "  <style>\n",
              "    pre {\n",
              "        white-space: pre-wrap;\n",
              "    }\n",
              "  </style>\n",
              "  "
            ]
          },
          "metadata": {}
        },
        {
          "output_type": "display_data",
          "data": {
            "text/plain": [
              "<IPython.core.display.HTML object>"
            ],
            "text/html": [
              "\n",
              "  <style>\n",
              "    pre {\n",
              "        white-space: pre-wrap;\n",
              "    }\n",
              "  </style>\n",
              "  "
            ]
          },
          "metadata": {}
        },
        {
          "output_type": "display_data",
          "data": {
            "text/plain": [
              "Dropdown(description='Layer', options=(1, 2, 3, 4, 5, 6, 7, 8, 9, 10, 11, 12, 13, 14, 15, 16, 17, 18, 19, 20, …"
            ],
            "application/vnd.jupyter.widget-view+json": {
              "version_major": 2,
              "version_minor": 0,
              "model_id": "c248f71172b94fbd860bd4157481736d"
            }
          },
          "metadata": {}
        },
        {
          "output_type": "display_data",
          "data": {
            "text/plain": [
              "Dropdown(description='Attn Head:', options=(0, 1, 2, 3, 4, 5, 6, 7, 8, 9, 10, 11, 12, 13, 14, 15, 16, 17, 18, …"
            ],
            "application/vnd.jupyter.widget-view+json": {
              "version_major": 2,
              "version_minor": 0,
              "model_id": "f3ae0085ebb342a6a5b8bbb2d324f332"
            }
          },
          "metadata": {}
        },
        {
          "output_type": "display_data",
          "data": {
            "text/plain": [
              "Dropdown(description='Token:', options=(('Can', 0), (' you', 1), (' tell', 2), (' me', 3), (' what', 4), (' a'…"
            ],
            "application/vnd.jupyter.widget-view+json": {
              "version_major": 2,
              "version_minor": 0,
              "model_id": "b30e4439bf1c4a7a87244c9b99a804c7"
            }
          },
          "metadata": {}
        },
        {
          "output_type": "display_data",
          "data": {
            "text/plain": [
              "Button(description='Plot', style=ButtonStyle())"
            ],
            "application/vnd.jupyter.widget-view+json": {
              "version_major": 2,
              "version_minor": 0,
              "model_id": "ee88d18669c04c4fab84ca53e3398fc2"
            }
          },
          "metadata": {}
        },
        {
          "output_type": "display_data",
          "data": {
            "text/plain": [
              "Output()"
            ],
            "application/vnd.jupyter.widget-view+json": {
              "version_major": 2,
              "version_minor": 0,
              "model_id": "7ed0a2bafeca43a0a6671214b54910ad"
            }
          },
          "metadata": {}
        }
      ],
      "source": [
        "#@title Select the Layer, Attention Head, and Token to view the attention weights\n",
        "layer = widgets.Dropdown(options=list(range(1, 24)), description=\"Layer\")\n",
        "head = widgets.Dropdown(options=list(range(0, 32)), description=\"Attn Head:\")\n",
        "token_idx = widgets.Dropdown(options=list(zip([tokenizer.decode(id) for id in inputs[\"input_ids\"][0]], list(range(len(inputs[\"input_ids\"][0]))))), description=\"Token:\")\n",
        "button = widgets.Button(description=\"Plot\")\n",
        "button.on_click(handler)\n",
        "\n",
        "out = widgets.Output()\n",
        "\n",
        "display(layer, head, token_idx, button)\n",
        "display(out)"
      ]
    },
    {
      "cell_type": "markdown",
      "metadata": {
        "id": "75DscqqTROf9"
      },
      "source": [
        "## Viewing the embedding dimension values across layers\n",
        "\n",
        "In the following visualization, you can see the embedding dimension being modified and adjusted over each layer.  Here we are only showing the first 5 heads worth of embedding dimension (64*5 = 320).  The red dashed lines represent separations in the values that each head attends to."
      ]
    },
    {
      "cell_type": "code",
      "execution_count": 36,
      "metadata": {
        "cellView": "form",
        "colab": {
          "base_uri": "https://localhost:8080/",
          "height": 38
        },
        "id": "9akgzRXM1Ubs",
        "outputId": "81e2a38a-5061-40f5-ccfa-d01f59fd23ce"
      },
      "outputs": [
        {
          "output_type": "display_data",
          "data": {
            "text/plain": [
              "<IPython.core.display.HTML object>"
            ],
            "text/html": [
              "\n",
              "  <style>\n",
              "    pre {\n",
              "        white-space: pre-wrap;\n",
              "    }\n",
              "  </style>\n",
              "  "
            ]
          },
          "metadata": {}
        },
        {
          "output_type": "display_data",
          "data": {
            "text/plain": [
              "<IPython.core.display.HTML object>"
            ],
            "text/html": [
              "\n",
              "  <style>\n",
              "    pre {\n",
              "        white-space: pre-wrap;\n",
              "    }\n",
              "  </style>\n",
              "  "
            ]
          },
          "metadata": {}
        }
      ],
      "source": [
        "#@title Code to generate the following visualization\n",
        "# get the number of total heads and the head dimension\n",
        "_ = \"\"\"\n",
        "n_head = model.layers[1].mixer.n_head\n",
        "head_dim = model.layers[1].mixer.head_dim\n",
        "\n",
        "# get a color palette and shuffle it\n",
        "pal = sns.cubehelix_palette(5, rot=-.6, gamma=0.7, hue=0.7)\n",
        "random.shuffle(pal)\n",
        "\n",
        "# initialize the plot\n",
        "fig, ax = plt.subplots()\n",
        "_ = ax.set_ylim([-2, 2])\n",
        "_ = ax.set_xlabel(\"Embedding dimension position\")\n",
        "_ = ax.set_ylabel(\"Embedding value\")\n",
        "sns.despine()\n",
        "\n",
        "# calculate the x_values, y_values and colors for each bar initlaly\n",
        "x_vals = range(0, 5*head_dim)\n",
        "y_vals = [x[i*head_dim:i*head_dim+head_dim] for i in range(5)]\n",
        "heights = [i for head in y_vals for i in head]\n",
        "colors = [color for head in [[pal[i]]*head_dim for i in range(5)] for color in head]\n",
        "\n",
        "# add the bars, text, and dashed lines\n",
        "bars = plt.bar(x_vals, heights, color=colors)\n",
        "text_label = ax.text(0.7, 0.9, '', transform=ax.transAxes)\n",
        "for x_val in range(head_dim, 5*64, 64):\n",
        "    _ = ax.axvline(x=x_val, color='r', linestyle='--', lw=0.5)\n",
        "\n",
        "\n",
        "prev_heights = None\n",
        "interpolation_steps = 10\n",
        "\n",
        "def update(frame):\n",
        "    global prev_heights\n",
        "\n",
        "    real_frame = frame // interpolation_steps\n",
        "    interp = frame % interpolation_steps / interpolation_steps\n",
        "\n",
        "    x = model.layers[0](**inputs)\n",
        "    for i in range(1, real_frame):\n",
        "        x = model.layers[i](x)\n",
        "    x = model.layers[layer].ln(x)\n",
        "    x = model.layers[layer].mixer(x)\n",
        "    x = x[0, -1].tolist()\n",
        "    y_vals = [x[i * head_dim:i * head_dim + head_dim] for i in range(5)]\n",
        "    heights = [i for head in y_vals for i in head]\n",
        "\n",
        "    if prev_heights is not None:\n",
        "        # Perform the linear interpolation between the previous and current frame.\n",
        "        heights = [(1 - interp) * prev + interp * curr for prev, curr in zip(prev_heights, heights)]\n",
        "\n",
        "\n",
        "    for i, bar in enumerate(bars):\n",
        "        bar.set_height(heights[i])\n",
        "\n",
        "    # Update the text label\n",
        "    text_label.set_text(f'Model Layer: {real_frame + 1}')\n",
        "\n",
        "    # Store the current heights for the next frame\n",
        "    prev_heights = heights\n",
        "\n",
        "    return bars\n",
        "\n",
        "\"\"\"\n",
        "\n",
        "\n",
        "\n",
        "# uncomment the following lines to run this cell\n",
        "# ani = animation.FuncAnimation(fig, update, frames=24 * interpolation_steps, blit=True, interval=400//interpolation_steps)\n",
        "# HTML(ani.to_html5_video())\n",
        "# ani.save('animation.mp4', writer='ffmpeg', fps=30)\n",
        "# from google.colab import files\n",
        "# files.download('animation.mp4')\n",
        "\n"
      ]
    },
    {
      "cell_type": "code",
      "execution_count": 37,
      "metadata": {
        "colab": {
          "base_uri": "https://localhost:8080/",
          "height": 567
        },
        "id": "I1_SWYoh1Tuj",
        "outputId": "0e71b62e-9417-412a-cd44-07a1ab73dd12"
      },
      "outputs": [
        {
          "output_type": "display_data",
          "data": {
            "text/plain": [
              "<IPython.core.display.HTML object>"
            ],
            "text/html": [
              "\n",
              "  <style>\n",
              "    pre {\n",
              "        white-space: pre-wrap;\n",
              "    }\n",
              "  </style>\n",
              "  "
            ]
          },
          "metadata": {}
        },
        {
          "output_type": "display_data",
          "data": {
            "text/plain": [
              "<IPython.core.display.HTML object>"
            ],
            "text/html": [
              "\n",
              "  <style>\n",
              "    pre {\n",
              "        white-space: pre-wrap;\n",
              "    }\n",
              "  </style>\n",
              "  "
            ]
          },
          "metadata": {}
        },
        {
          "output_type": "execute_result",
          "data": {
            "text/plain": [
              "<IPython.core.display.HTML object>"
            ],
            "text/html": [
              "<video src=https://github.com/tim-a-davis/silly_little_language_modeling_thing_at_utd/raw/main/animation.mp4 width=700 controls loop/>"
            ]
          },
          "metadata": {},
          "execution_count": 37
        }
      ],
      "source": [
        "HTML(f\"\"\"<video src=https://github.com/tim-a-davis/silly_little_language_modeling_thing_at_utd/raw/main/animation.mp4 width=700 controls loop/>\"\"\")"
      ]
    },
    {
      "cell_type": "markdown",
      "metadata": {
        "id": "gmJKUNhEf5wI"
      },
      "source": [
        "## Tear Down"
      ]
    },
    {
      "cell_type": "code",
      "execution_count": null,
      "metadata": {
        "colab": {
          "base_uri": "https://localhost:8080/",
          "height": 38
        },
        "id": "6R1yxBAk3krS",
        "outputId": "90a32c7b-b103-4034-b5a0-c609ac2256d4"
      },
      "outputs": [
        {
          "data": {
            "text/html": [
              "\n",
              "  <style>\n",
              "    pre {\n",
              "        white-space: pre-wrap;\n",
              "    }\n",
              "  </style>\n",
              "  "
            ],
            "text/plain": [
              "<IPython.core.display.HTML object>"
            ]
          },
          "metadata": {},
          "output_type": "display_data"
        },
        {
          "data": {
            "text/html": [
              "\n",
              "  <style>\n",
              "    pre {\n",
              "        white-space: pre-wrap;\n",
              "    }\n",
              "  </style>\n",
              "  "
            ],
            "text/plain": [
              "<IPython.core.display.HTML object>"
            ]
          },
          "metadata": {},
          "output_type": "display_data"
        },
        {
          "data": {
            "text/html": [
              "\n",
              "  <style>\n",
              "    pre {\n",
              "        white-space: pre-wrap;\n",
              "    }\n",
              "  </style>\n",
              "  "
            ],
            "text/plain": [
              "<IPython.core.display.HTML object>"
            ]
          },
          "metadata": {},
          "output_type": "display_data"
        },
        {
          "data": {
            "text/html": [
              "\n",
              "  <style>\n",
              "    pre {\n",
              "        white-space: pre-wrap;\n",
              "    }\n",
              "  </style>\n",
              "  "
            ],
            "text/plain": [
              "<IPython.core.display.HTML object>"
            ]
          },
          "metadata": {},
          "output_type": "display_data"
        },
        {
          "data": {
            "text/html": [
              "\n",
              "  <style>\n",
              "    pre {\n",
              "        white-space: pre-wrap;\n",
              "    }\n",
              "  </style>\n",
              "  "
            ],
            "text/plain": [
              "<IPython.core.display.HTML object>"
            ]
          },
          "metadata": {},
          "output_type": "display_data"
        },
        {
          "data": {
            "text/html": [
              "\n",
              "  <style>\n",
              "    pre {\n",
              "        white-space: pre-wrap;\n",
              "    }\n",
              "  </style>\n",
              "  "
            ],
            "text/plain": [
              "<IPython.core.display.HTML object>"
            ]
          },
          "metadata": {},
          "output_type": "display_data"
        }
      ],
      "source": [
        "del model\n",
        "del outputs\n",
        "torch.cuda.empty_cache()"
      ]
    },
    {
      "cell_type": "markdown",
      "metadata": {
        "id": "Pdo-Yni8ZpT-"
      },
      "source": [
        "# Chat-tuned Models"
      ]
    },
    {
      "cell_type": "code",
      "execution_count": 6,
      "metadata": {
        "colab": {
          "base_uri": "https://localhost:8080/",
          "height": 593,
          "referenced_widgets": [
            "9294231cba1f49efb732193bae5a821f",
            "ed2606fd4dc44f758179cf4d420b53fe",
            "542bf23a972641e098e2d7fe30e63f10",
            "544794a771a0473eaca25e3a3c712fce",
            "c6222f99dcfe40f4a86b6a94726e7d7e",
            "950c3499c53046738d189fdf2c8d743e",
            "559e563f954b4759869ca9a1fe9bfd5f",
            "6aeb1bcbb7134dce9ee041447dfa46f6",
            "38b73eee8c334acd8d3a780b98d03960",
            "7b7570eb16624a8ba84a04b43275ffb6",
            "6171c94bc6824464bfedd19ad55e9c34",
            "f366479bfd864ca8b1fdcb6feb783825",
            "49180c80123e4d7290a4fcabe5c7f82b",
            "2e2d9aa53d9c40b1b11937231929449c",
            "d4538f6aaea1438ca4cb9d89e7aab3ed",
            "9e0096f09b0c487ab8bb88412fc96a63",
            "cf4435ca22d142f2b061fb9fc818e843",
            "1d82c1e1f5864f92ae155d77dfbdfdc4",
            "9b906b86a9244f13804c00a9d80f63dc",
            "21909a37397742068485986702d29820",
            "fedc04a10b744116b18943359cfe38e4",
            "5251fe71533f41ce9b931defc99338c2"
          ]
        },
        "id": "yhwi25jkjlC_",
        "outputId": "4ded33ed-c62d-410f-abe7-ec4a948ca7b3"
      },
      "outputs": [
        {
          "output_type": "display_data",
          "data": {
            "text/plain": [
              "<IPython.core.display.HTML object>"
            ],
            "text/html": [
              "\n",
              "  <style>\n",
              "    pre {\n",
              "        white-space: pre-wrap;\n",
              "    }\n",
              "  </style>\n",
              "  "
            ]
          },
          "metadata": {}
        },
        {
          "output_type": "display_data",
          "data": {
            "text/plain": [
              "Downloading (…)former_sequential.py:   0%|          | 0.00/2.23k [00:00<?, ?B/s]"
            ],
            "application/vnd.jupyter.widget-view+json": {
              "version_major": 2,
              "version_minor": 0,
              "model_id": "9294231cba1f49efb732193bae5a821f"
            }
          },
          "metadata": {}
        },
        {
          "output_type": "stream",
          "name": "stderr",
          "text": [
            "A new version of the following files was downloaded from https://huggingface.co/microsoft/phi-1_5:\n",
            "- configuration_mixformer_sequential.py\n",
            ". Make sure to double-check they do not contain any added malicious code. To avoid downloading new versions of the code file, you can pin a revision.\n"
          ]
        },
        {
          "output_type": "display_data",
          "data": {
            "text/plain": [
              "Downloading (…)former_sequential.py:   0%|          | 0.00/32.2k [00:00<?, ?B/s]"
            ],
            "application/vnd.jupyter.widget-view+json": {
              "version_major": 2,
              "version_minor": 0,
              "model_id": "f366479bfd864ca8b1fdcb6feb783825"
            }
          },
          "metadata": {}
        },
        {
          "output_type": "stream",
          "name": "stderr",
          "text": [
            "A new version of the following files was downloaded from https://huggingface.co/microsoft/phi-1_5:\n",
            "- modeling_mixformer_sequential.py\n",
            ". Make sure to double-check they do not contain any added malicious code. To avoid downloading new versions of the code file, you can pin a revision.\n"
          ]
        },
        {
          "output_type": "error",
          "ename": "OSError",
          "evalue": "ignored",
          "traceback": [
            "\u001b[0;31m---------------------------------------------------------------------------\u001b[0m",
            "\u001b[0;31mOSError\u001b[0m                                   Traceback (most recent call last)",
            "\u001b[0;32m<ipython-input-6-36b7855f7f47>\u001b[0m in \u001b[0;36m<cell line: 1>\u001b[0;34m()\u001b[0m\n\u001b[0;32m----> 1\u001b[0;31m \u001b[0mmodel\u001b[0m \u001b[0;34m=\u001b[0m \u001b[0mAutoModelForCausalLM\u001b[0m\u001b[0;34m.\u001b[0m\u001b[0mfrom_pretrained\u001b[0m\u001b[0;34m(\u001b[0m\u001b[0;34m\"./Puffin-Phi-v2\"\u001b[0m\u001b[0;34m,\u001b[0m \u001b[0mtrust_remote_code\u001b[0m\u001b[0;34m=\u001b[0m\u001b[0;32mTrue\u001b[0m\u001b[0;34m,\u001b[0m \u001b[0mdevice_map\u001b[0m\u001b[0;34m=\u001b[0m\u001b[0;34m\"auto\"\u001b[0m\u001b[0;34m)\u001b[0m\u001b[0;34m\u001b[0m\u001b[0;34m\u001b[0m\u001b[0m\n\u001b[0m\u001b[1;32m      2\u001b[0m \u001b[0mtokenizer\u001b[0m \u001b[0;34m=\u001b[0m \u001b[0mAutoTokenizer\u001b[0m\u001b[0;34m.\u001b[0m\u001b[0mfrom_pretrained\u001b[0m\u001b[0;34m(\u001b[0m\u001b[0;34m\"./Puffin-Phi-v2\"\u001b[0m\u001b[0;34m,\u001b[0m \u001b[0mtrust_remote_code\u001b[0m\u001b[0;34m=\u001b[0m\u001b[0;32mTrue\u001b[0m\u001b[0;34m)\u001b[0m\u001b[0;34m\u001b[0m\u001b[0;34m\u001b[0m\u001b[0m\n",
            "\u001b[0;32m/usr/local/lib/python3.10/dist-packages/transformers/models/auto/auto_factory.py\u001b[0m in \u001b[0;36mfrom_pretrained\u001b[0;34m(cls, pretrained_model_name_or_path, *model_args, **kwargs)\u001b[0m\n\u001b[1;32m    556\u001b[0m             \u001b[0;32melse\u001b[0m\u001b[0;34m:\u001b[0m\u001b[0;34m\u001b[0m\u001b[0;34m\u001b[0m\u001b[0m\n\u001b[1;32m    557\u001b[0m                 \u001b[0mcls\u001b[0m\u001b[0;34m.\u001b[0m\u001b[0mregister\u001b[0m\u001b[0;34m(\u001b[0m\u001b[0mconfig\u001b[0m\u001b[0;34m.\u001b[0m\u001b[0m__class__\u001b[0m\u001b[0;34m,\u001b[0m \u001b[0mmodel_class\u001b[0m\u001b[0;34m,\u001b[0m \u001b[0mexist_ok\u001b[0m\u001b[0;34m=\u001b[0m\u001b[0;32mTrue\u001b[0m\u001b[0;34m)\u001b[0m\u001b[0;34m\u001b[0m\u001b[0;34m\u001b[0m\u001b[0m\n\u001b[0;32m--> 558\u001b[0;31m             return model_class.from_pretrained(\n\u001b[0m\u001b[1;32m    559\u001b[0m                 \u001b[0mpretrained_model_name_or_path\u001b[0m\u001b[0;34m,\u001b[0m \u001b[0;34m*\u001b[0m\u001b[0mmodel_args\u001b[0m\u001b[0;34m,\u001b[0m \u001b[0mconfig\u001b[0m\u001b[0;34m=\u001b[0m\u001b[0mconfig\u001b[0m\u001b[0;34m,\u001b[0m \u001b[0;34m**\u001b[0m\u001b[0mhub_kwargs\u001b[0m\u001b[0;34m,\u001b[0m \u001b[0;34m**\u001b[0m\u001b[0mkwargs\u001b[0m\u001b[0;34m\u001b[0m\u001b[0;34m\u001b[0m\u001b[0m\n\u001b[1;32m    560\u001b[0m             )\n",
            "\u001b[0;32m/usr/local/lib/python3.10/dist-packages/transformers/modeling_utils.py\u001b[0m in \u001b[0;36mfrom_pretrained\u001b[0;34m(cls, pretrained_model_name_or_path, config, cache_dir, ignore_mismatched_sizes, force_download, local_files_only, token, revision, use_safetensors, *model_args, **kwargs)\u001b[0m\n\u001b[1;32m   2738\u001b[0m                     )\n\u001b[1;32m   2739\u001b[0m                 \u001b[0;32melse\u001b[0m\u001b[0;34m:\u001b[0m\u001b[0;34m\u001b[0m\u001b[0;34m\u001b[0m\u001b[0m\n\u001b[0;32m-> 2740\u001b[0;31m                     raise EnvironmentError(\n\u001b[0m\u001b[1;32m   2741\u001b[0m                         \u001b[0;34mf\"Error no file named {_add_variant(WEIGHTS_NAME, variant)}, {TF2_WEIGHTS_NAME},\"\u001b[0m\u001b[0;34m\u001b[0m\u001b[0;34m\u001b[0m\u001b[0m\n\u001b[1;32m   2742\u001b[0m                         \u001b[0;34mf\" {TF_WEIGHTS_NAME + '.index'} or {FLAX_WEIGHTS_NAME} found in directory\"\u001b[0m\u001b[0;34m\u001b[0m\u001b[0;34m\u001b[0m\u001b[0m\n",
            "\u001b[0;31mOSError\u001b[0m: Error no file named pytorch_model.bin, tf_model.h5, model.ckpt.index or flax_model.msgpack found in directory ./Puffin-Phi-v2."
          ]
        }
      ],
      "source": [
        "model = AutoModelForCausalLM.from_pretrained(\"./Puffin-Phi-v2\", trust_remote_code=True, device_map=\"auto\")\n",
        "tokenizer = AutoTokenizer.from_pretrained(\"./Puffin-Phi-v2\", trust_remote_code=True)"
      ]
    },
    {
      "cell_type": "code",
      "execution_count": null,
      "metadata": {
        "colab": {
          "base_uri": "https://localhost:8080/",
          "height": 295
        },
        "id": "Ny0_AxO6Zvsl",
        "outputId": "46969037-4bc4-4fd7-b27e-f9ba0ed54dda"
      },
      "outputs": [
        {
          "data": {
            "text/html": [
              "\n",
              "  <style>\n",
              "    pre {\n",
              "        white-space: pre-wrap;\n",
              "    }\n",
              "  </style>\n",
              "  "
            ],
            "text/plain": [
              "<IPython.core.display.HTML object>"
            ]
          },
          "metadata": {},
          "output_type": "display_data"
        },
        {
          "name": "stderr",
          "output_type": "stream",
          "text": [
            "The attention mask and the pad token id were not set. As a consequence, you may observe unexpected behavior. Please pass your input's `attention_mask` to obtain reliable results.\n",
            "Setting `pad_token_id` to `eos_token_id`:50256 for open-end generation.\n"
          ]
        },
        {
          "name": "stdout",
          "output_type": "stream",
          "text": [
            "\n",
            "\n",
            "Output:\n",
            "\n",
            " USER: why are computers so annoying\n",
            "ASSISTANT: Well, there's a lot going on inside them that we can't always see or understand. Computers process information very quickly and follow instructions given to them by programmers. This allows us to do many things like communicate with others, access the internet, play games, and create documents, among other tasks. However, this rapid processing also means that sometimes errors happen, which is called a bug or an \"issue.\" When these bugs cause problems for users, it becomes frustrating and inconvenient.<|endoftext|>\n"
          ]
        }
      ],
      "source": [
        "inputs = tokenizer(f\"USER: why do I hate computers so much\\nASSISTANT:\", return_tensors=\"pt\", return_attention_mask=False).to(model.device)\n",
        "outputs = model.generate(**inputs, max_new_tokens=200, temperature=0.001, do_sample=True, use_cache=True, repetition_penalty=1.2, eos_token_id=tokenizer.eos_token_id)\n",
        "text = tokenizer.batch_decode(outputs)[0]\n",
        "\n",
        "print(\"\\n\\nOutput:\\n\\n\", text)\n"
      ]
    },
    {
      "cell_type": "code",
      "execution_count": null,
      "metadata": {
        "id": "grRCKIDdiuJr",
        "outputId": "f84aa926-dea1-4691-ea27-03b31da4eff2"
      },
      "outputs": [
        {
          "data": {
            "text/html": [
              "\n",
              "  <style>\n",
              "    pre {\n",
              "        white-space: pre-wrap;\n",
              "    }\n",
              "  </style>\n",
              "  "
            ],
            "text/plain": [
              "<IPython.core.display.HTML object>"
            ]
          },
          "metadata": {},
          "output_type": "display_data"
        },
        {
          "data": {
            "text/plain": [
              "{'input_ids': tensor([[29904,    25, 13786,   502,   534,  4459,    11,   644,   318,  1365,\n",
              "            11, 10912, 13135,   393,  7545,    30,   198, 10705,  8808,  8643,\n",
              "            25]])}"
            ]
          },
          "execution_count": 13,
          "metadata": {},
          "output_type": "execute_result"
        }
      ],
      "source": [
        "inputs"
      ]
    },
    {
      "cell_type": "code",
      "execution_count": null,
      "metadata": {
        "colab": {
          "base_uri": "https://localhost:8080/",
          "height": 52
        },
        "id": "5GMwyA3bh2cC",
        "outputId": "ed2a2cf7-e724-4bbb-a2bd-7cea1536dac1"
      },
      "outputs": [
        {
          "data": {
            "text/html": [
              "\n",
              "  <style>\n",
              "    pre {\n",
              "        white-space: pre-wrap;\n",
              "    }\n",
              "  </style>\n",
              "  "
            ],
            "text/plain": [
              "<IPython.core.display.HTML object>"
            ]
          },
          "metadata": {},
          "output_type": "display_data"
        },
        {
          "name": "stdout",
          "output_type": "stream",
          "text": [
            "{'bos_token': '<|endoftext|>', 'eos_token': '<|endoftext|>', 'unk_token': '<|endoftext|>', 'pad_token': '<|endoftext|>'}\n"
          ]
        }
      ],
      "source": [
        "print(tokenizer.special_tokens_map)"
      ]
    },
    {
      "cell_type": "code",
      "execution_count": null,
      "metadata": {
        "colab": {
          "base_uri": "https://localhost:8080/",
          "height": 87
        },
        "id": "qjDD83vLbMr7",
        "outputId": "47001299-a088-4d94-c78c-9383cd9db4d5"
      },
      "outputs": [
        {
          "data": {
            "text/html": [
              "\n",
              "  <style>\n",
              "    pre {\n",
              "        white-space: pre-wrap;\n",
              "    }\n",
              "  </style>\n",
              "  "
            ],
            "text/plain": [
              "<IPython.core.display.HTML object>"
            ]
          },
          "metadata": {},
          "output_type": "display_data"
        },
        {
          "data": {
            "text/plain": [
              "{'input_ids': tensor([[ 1639,   389,   281,  8796,   326,  3607,  7613,  7429,   198, 29904,\n",
              "            25,  1867,   318,   257,  4958,    12,   265,    12,  8357,    30,\n",
              "         50286, 23318,   502,   257,  1790,  3280,    13,   198, 10705,  8808,\n",
              "          8643,    25]], device='cuda:0')}"
            ]
          },
          "execution_count": 22,
          "metadata": {},
          "output_type": "execute_result"
        }
      ],
      "source": []
    },
    {
      "cell_type": "code",
      "execution_count": null,
      "metadata": {
        "id": "PMnAP2oCdRTJ"
      },
      "outputs": [],
      "source": []
    },
    {
      "cell_type": "markdown",
      "source": [
        "# Using DPO conditioning\n",
        "---\n",
        "We've finally gotten around to doing the fine-tuning thing.  Here we pull in our dataset, do some small transformations to get it to work with the library we're using, configure our tuning, train the model, and push it to hugginface."
      ],
      "metadata": {
        "id": "L_iqNhd0jc9j"
      }
    },
    {
      "cell_type": "markdown",
      "source": [
        "### The Dataset\n",
        "You can find the full dataset [here](https://huggingface.co/datasets/pvduy/rm_hh_helpful_only?p=2).  This dataset is a subset of Anthropics Helpful & Harmless dataset, but with the harmless part taken out (if you so choose you can go look at the full helpful and harmless dataset (viewer discretion is advised)). The dataset consists of prompts, which in this case are bits of multi-turn conversations between a user and an assistant, and two outputs.  The idea is that one output is desireable (helpful) and one is less desireable.  In order to make our model _less_ helpful, we'll simply reverse these columns."
      ],
      "metadata": {
        "id": "hOpTEfLJj4t3"
      }
    },
    {
      "cell_type": "code",
      "execution_count": null,
      "metadata": {
        "colab": {
          "base_uri": "https://localhost:8080/",
          "height": 262,
          "referenced_widgets": [
            "1e3e9805b11a422f9d44ed75e46f1cd3",
            "108f81c6669b4f3d83b05e0647b09490",
            "ff22a43430f84099871f9aef4a0320ce",
            "acbad7c7364f4a7bb2d8a4b6ae2ceae3",
            "8a0a36de6e3747b18dbb65933a76c029",
            "3fd43a398b0b4420b31a14d7fbc86036",
            "67bf33376185482bb616f9958e519b37",
            "777cf32b115046dbbf5db9bc13c43655",
            "5e3b2b9c251a438d955b284534768f81",
            "181ad6f4780f404fbfea88a1721c1c48",
            "009005efe4b24b769e608ed39aa31e72",
            "82bdb4227837477b923b11bee08cee4e",
            "1a9c3dc7b5fb4753ac2aa3b948e01b41",
            "2c6a9077d49c42918377efa46ac8e514",
            "238060e192cd47539a862bc41a8a7bf0",
            "660adb6ae6954a11b26823ca194bc4ee",
            "904a07c044044c739c1141141e0b9836",
            "7c81feb1815146bb8cc47110cfe5c0a9",
            "b670abfff105452b92e52b022f105ab2",
            "b856e5ef907c43ac89d67082b1b1c150",
            "3bfed79c594146ffa1c3de269ace8d7e",
            "ea3a72143d2647fda94427ce7dac998b",
            "f3ddce0987534ddfb763d4de6ed64698",
            "09b140481f9a4f0d918ca34413b1114b",
            "4665c933d4794256a6f8916a556bda79",
            "35e0939b9cfd4f779eb036d3c3911077",
            "ef36313b8d7a443299ede6ae8c0a5bc7",
            "0bd1c031be384f9e87db233a180d33d3",
            "1d7fb98b901f48c0af1a29e606584df6",
            "00e3a60319184d2abc34b622db5c369e",
            "14ac514a2aaa4f00893dcfcb21ac7086",
            "8adfd41844814bceaa54b36e1188f1d2",
            "961c94b83cbb4ff4bab12b4785df68b5",
            "0ac8ac2bc27347d38e782e99d2f0135c",
            "0cabf4609aee4a4dbc99745fbd9fdf0d",
            "5c711a2bbbc44f5db66bf22d67023e01",
            "5e7151e993054e249fe8fac1ec2a502a",
            "7320957c80624c9cb57c1a3a83172ae1",
            "ad23680ff262485d8ddb9058b5a1c0aa",
            "435c8d28064a42379961a85af447b33c",
            "e3c77bea82444534b1448941422315a8",
            "3ffbcacd6e634ac0afbc7e218928273c",
            "c44373dd7f6c426bb63bf8dc7d2990bf",
            "e55ed74f9a624fc7b1b5c60b06bd7e6b",
            "863052d9038b406dbd8e80c7885eb3dd",
            "3ae1cfbb2cc3401ab1797341db18a9d6",
            "3d0daecf2f7844b389b6355bdecca73c",
            "4a105d7eb2864ed692a2e99ed0f1c2e4",
            "bd81247f97e34199b2c88451ac45582a",
            "443ab2ecd2a4498f8805153a18a16394",
            "2ef27ad9b9b24d089bacc275c18f8d7a",
            "47301ff585c44c9995e32528f7825a79",
            "a2e640c27ffa4a47be661a93e0797219",
            "b23aaccc27044387be9d22062d824608",
            "16420324892a4ee18b90b8045e047fc2",
            "f51e6238d99d4e69be0ce9b4f32d71ac",
            "2ee49687965c41e9986dd8799c7f81d6",
            "6ee800fc45a54a7d82dd2e435713632b",
            "5d3f622f6f014c339651c225b63ff992",
            "04d2b621634b4abfbc71684639c17bb5",
            "d4185d37108f4406b54042ea22eddc71",
            "7a4bc939d9c34dfe9b763555610d2a02",
            "22894c1ee71d4bfab0efc9c0665d488a",
            "318ddd3bef2747299432d9dc8c81528c",
            "daaab8bfb07743d0835c47be5fbf2e98",
            "072f225531f14863b83f9df3dce7034d",
            "edf14773d7d248208bd2f6ff1d23adde",
            "46886812fe3a4b799072424f3cc52b2f",
            "fa6365b52ff44e4991d2f82760137d4a",
            "2a91eff804a14c3e8b72184e9a25c3fc",
            "865cecbd12604b75b3bb3d6f926dadf5",
            "16b7bdb12ed948389ef73fa283378e5e",
            "46145125c1f24e93809524461cd85151",
            "c2d59d627db440028f1dc974da0bc0fa",
            "159ce554d26044ad85e8601f34428060",
            "10219ea3c1be4e34a95fcde4da493ef9",
            "dbf08f19e08b4496b775cefaef7b0c41"
          ]
        },
        "id": "wah8VQ1adRVE",
        "outputId": "1e1e1384-4cc2-4465-ee8b-0b71aac7c37d"
      },
      "outputs": [
        {
          "data": {
            "text/html": [
              "\n",
              "  <style>\n",
              "    pre {\n",
              "        white-space: pre-wrap;\n",
              "    }\n",
              "  </style>\n",
              "  "
            ],
            "text/plain": [
              "<IPython.core.display.HTML object>"
            ]
          },
          "metadata": {},
          "output_type": "display_data"
        }
      ],
      "source": [
        "dataset = load_dataset(\n",
        "    \"pvduy/rm_hh_helpful_only\",\n",
        "    split=\"train[:60000]\",\n",
        ")"
      ]
    },
    {
      "cell_type": "markdown",
      "source": [
        "#### A sample from the dataset\n",
        "Here we can see the format of the data, which consists of a prompt, and two possible continuations of the converstaion, with one being more desirable over the other."
      ],
      "metadata": {
        "id": "mc42AlC3kgRY"
      }
    },
    {
      "cell_type": "code",
      "execution_count": null,
      "metadata": {
        "colab": {
          "base_uri": "https://localhost:8080/",
          "height": 228
        },
        "id": "6ZkaThoTdfHC",
        "outputId": "574dd517-af33-4c1a-e7b3-c8ff64278494"
      },
      "outputs": [
        {
          "data": {
            "text/html": [
              "\n",
              "  <style>\n",
              "    pre {\n",
              "        white-space: pre-wrap;\n",
              "    }\n",
              "  </style>\n",
              "  "
            ],
            "text/plain": [
              "<IPython.core.display.HTML object>"
            ]
          },
          "metadata": {},
          "output_type": "display_data"
        },
        {
          "name": "stdout",
          "output_type": "stream",
          "text": [
            "{'prompt': 'USER: How do you make chocolate milk? ASSISTANT: I would start by '\n",
            "           'pouring some chocolate syrup and milk in a mug.  If you want to '\n",
            "           'add a spoonful of cocoa powder or a few drops of peppermint '\n",
            "           'extract, now is a good time.  Now if you’re like me, you’ll go for '\n",
            "           'a frothy top.  To make a whimsical layer of foam, add the milk '\n",
            "           'to</s>USER: Would a cinnamon stick add to the flavor at all? '\n",
            "           'ASSISTANT:',\n",
            " 'rejected': ' I don’t think so.',\n",
            " 'selected': ' I don’t think so.  Chocolate is the dominant flavor.  However, '\n",
            "             'if you are talking about adding a little flavor to the milk '\n",
            "             'itself,'}\n"
          ]
        }
      ],
      "source": [
        "pprint(dataset[3500])"
      ]
    },
    {
      "cell_type": "code",
      "execution_count": null,
      "metadata": {
        "colab": {
          "base_uri": "https://localhost:8080/",
          "height": 70,
          "referenced_widgets": [
            "2eabe9fe1a4c4a67af050ee8d0c893ee",
            "e5841191809e4e67b002d95156ad8ddf",
            "0cec4177b9854c17a8aabdcf6ae220cb",
            "936595518c4a422f9753c44f55dc1a87",
            "93fa3bc37bc34af490b23a02b92db036",
            "f15be6b18ddd44e782e1e63fd4288aed",
            "a52ac280ea744929bf05179ee9e05334",
            "884e26b7f12c455da552a07c30d9e1d3",
            "fa415fd1e8874e4e8f2a0d5057dd0428",
            "1b6b1eded6144d4d9ad34e1bef71ea34",
            "551ea86c095c4f6aa7d9b82257b74770"
          ]
        },
        "id": "_GMJ-FOTh_Ci",
        "outputId": "eff31b6a-9e83-4dd5-db62-ac77dccf0218"
      },
      "outputs": [
        {
          "data": {
            "text/html": [
              "\n",
              "  <style>\n",
              "    pre {\n",
              "        white-space: pre-wrap;\n",
              "    }\n",
              "  </style>\n",
              "  "
            ],
            "text/plain": [
              "<IPython.core.display.HTML object>"
            ]
          },
          "metadata": {},
          "output_type": "display_data"
        }
      ],
      "source": [
        "def fix_formatting_to_match_puffin(example):\n",
        "    prompt = example[\"prompt\"]\n",
        "    prompt = prompt.replace(\" ASSISTANT\", \"\\nASSISTANT\")\n",
        "    prompt = prompt.replace(\"</s>\", \"\\n\")\n",
        "    example[\"prompt\"] = prompt\n",
        "    return example\n",
        "\n",
        "\n",
        "dataset = dataset.map(fix_formatting_to_match_puffin)"
      ]
    },
    {
      "cell_type": "markdown",
      "source": [
        "#### Swapping the Rejected and Selected\n",
        "---\n",
        "Now we've formatted the dataset so that the rejected sample from the original dataset is now our selected sample.  In this way, our model will now maximize the probability of selecting the less helpful answer."
      ],
      "metadata": {
        "id": "bl-DzylEHp2G"
      }
    },
    {
      "cell_type": "code",
      "execution_count": 1,
      "metadata": {
        "colab": {
          "base_uri": "https://localhost:8080/"
        },
        "id": "3QkyEaGeivM2",
        "outputId": "78c7b65d-bea4-4dea-a018-bb49cfd926d3"
      },
      "outputs": [
        {
          "output_type": "stream",
          "name": "stdout",
          "text": [
            "Pretty printing has been turned OFF\n"
          ]
        }
      ],
      "source": [
        "pprint(dataset[3500])"
      ]
    },
    {
      "cell_type": "markdown",
      "metadata": {
        "id": "j7_0NpVwjqpz"
      },
      "source": [
        "#### Match the format described in DPO Trainer documentation\n",
        "---\n",
        "You can find the docs for the [huggingface DPO Trainer](https://huggingface.co/docs/trl/main/en/dpo_trainer) here.  They're already written the math and annoying parts so we just need to format a few things and make some decisions about how we want to train our model.\n",
        "\n",
        "The docs say that the DPO object needs a very specific format, so we'll format our data to match this structure now.\n",
        "\n",
        "**⚠️❗⚠️ _Here is where we make the critical change to make our model curt_ ⚠️❗⚠️**\n"
      ]
    },
    {
      "cell_type": "code",
      "execution_count": null,
      "metadata": {
        "colab": {
          "base_uri": "https://localhost:8080/",
          "height": 278,
          "referenced_widgets": [
            "59a22c8d89bd42b196ff991e84da9417",
            "8613401b3d224e119e1d7f885ff441e5",
            "a8d29f70f0094be6adf84d154b25e582",
            "37422121832647fd919f29ee8b0a18fb",
            "a157d257953442a6a47cb843d0043d27",
            "396becc6d43a478fb22e2451461db17e",
            "474337980d4740a9a6f51038e300de5b",
            "a9889cfceee1472e86e934d08a07d5f0",
            "90ee2dca3db24aec8adb9bd1fa6a704a",
            "4c31411d8e114bb6b7920f39adfb5c04",
            "ec8dc856102d4b1ca89a495e8039ad5a"
          ]
        },
        "id": "JJQw2l3sjLnE",
        "outputId": "a8a2f7c0-e927-4409-d6c0-d31e7bf9f3aa"
      },
      "outputs": [
        {
          "data": {
            "text/html": [
              "\n",
              "  <style>\n",
              "    pre {\n",
              "        white-space: pre-wrap;\n",
              "    }\n",
              "  </style>\n",
              "  "
            ],
            "text/plain": [
              "<IPython.core.display.HTML object>"
            ]
          },
          "metadata": {},
          "output_type": "display_data"
        },
        {
          "name": "stdout",
          "output_type": "stream",
          "text": [
            "{'chosen': ' I don’t think so.',\n",
            " 'prompt': 'USER: How do you make chocolate milk?\\n'\n",
            "           'ASSISTANT: I would start by pouring some chocolate syrup and milk '\n",
            "           'in a mug.  If you want to add a spoonful of cocoa powder or a few '\n",
            "           'drops of peppermint extract, now is a good time.  Now if you’re '\n",
            "           'like me, you’ll go for a frothy top.  To make a whimsical layer of '\n",
            "           'foam, add the milk to\\n'\n",
            "           'USER: Would a cinnamon stick add to the flavor at all?\\n'\n",
            "           'ASSISTANT:',\n",
            " 'rejected': ' I don’t think so.  Chocolate is the dominant flavor.  However, '\n",
            "             'if you are talking about adding a little flavor to the milk '\n",
            "             'itself,'}\n"
          ]
        }
      ],
      "source": [
        "def prepare_data_for_dpo(samples):\n",
        "    prompt, chosen, rejected = (samples[\"prompt\"], samples[\"selected\"], samples[\"rejected\"])\n",
        "    return  {\n",
        "        \"prompt\": prompt,\n",
        "        \"chosen\": rejected, # <<-------- RIGHT HERE\n",
        "        \"rejected\": chosen # <<--------- AND HERE\n",
        "    }\n",
        "\n",
        "\n",
        "dataset_dpo = dataset.map(prepare_data_for_dpo, remove_columns=[\"prompt\",\"selected\",\"rejected\"])\n",
        "train = dataset_dpo.train_test_split(0.1)[\"train\"] # so we can keep track of idx 3500 one more time\n",
        "eval = dataset_dpo.train_test_split(0.1)[\"test\"]\n",
        "\n",
        "pprint(dataset_dpo[3500])"
      ]
    },
    {
      "cell_type": "code",
      "execution_count": null,
      "metadata": {
        "colab": {
          "base_uri": "https://localhost:8080/",
          "height": 38
        },
        "id": "lhsCAzMKmb9n",
        "outputId": "414a7bce-fe90-443b-f36c-fbdf7c55fb09"
      },
      "outputs": [
        {
          "data": {
            "text/html": [
              "\n",
              "  <style>\n",
              "    pre {\n",
              "        white-space: pre-wrap;\n",
              "    }\n",
              "  </style>\n",
              "  "
            ],
            "text/plain": [
              "<IPython.core.display.HTML object>"
            ]
          },
          "metadata": {},
          "output_type": "display_data"
        }
      ],
      "source": [
        "bnb_config = BitsAndBytesConfig(\n",
        "    load_in_4bit=True,\n",
        "    bnb_4bit_quant_type=\"nf4\",\n",
        "    bnb_4bit_compute_dtype=\"float16\",\n",
        "    use_nested_quant=False\n",
        ")\n",
        "\n",
        "base_model = AutoModelForCausalLM.from_pretrained(\n",
        "    \"teknium/Puffin-Phi-v2\",\n",
        "    quantization_config=bnb_config,\n",
        "    device_map=\"auto\",\n",
        "    trust_remote_code=True,\n",
        ")\n",
        "base_model.config.use_cache = False\n",
        "\n",
        "ref_model = AutoModelForCausalLM.from_pretrained(\n",
        "    \"teknium/Puffin-Phi-v2\",\n",
        "    quantization_config=bnb_config,\n",
        "    device_map=\"auto\",\n",
        "    trust_remote_code=True,\n",
        ")\n",
        "ref_model.config.use_cache = False\n",
        "\n",
        "tokenizer = AutoTokenizer.from_pretrained(\"teknium/Puffin-Phi-v2\", trust_remote_code=True)"
      ]
    },
    {
      "cell_type": "code",
      "execution_count": null,
      "metadata": {
        "colab": {
          "base_uri": "https://localhost:8080/",
          "height": 55
        },
        "id": "qZSfsM8krxoJ",
        "outputId": "248cb303-f7a4-43da-9db9-fc2ce7f998eb"
      },
      "outputs": [
        {
          "data": {
            "text/html": [
              "\n",
              "  <style>\n",
              "    pre {\n",
              "        white-space: pre-wrap;\n",
              "    }\n",
              "  </style>\n",
              "  "
            ],
            "text/plain": [
              "<IPython.core.display.HTML object>"
            ]
          },
          "metadata": {},
          "output_type": "display_data"
        },
        {
          "name": "stdout",
          "output_type": "stream",
          "text": [
            "Memory footprint in ~gigabytes: 1.02\n"
          ]
        }
      ],
      "source": [
        "print(\"Memory footprint in ~gigabytes: {:.2f}\".format(base_model.get_memory_footprint() / 1e9))"
      ]
    },
    {
      "cell_type": "code",
      "execution_count": null,
      "metadata": {
        "colab": {
          "base_uri": "https://localhost:8080/",
          "height": 38
        },
        "id": "IYqrMNYJ54NY",
        "outputId": "6d233eb2-ef93-4c09-bac9-9743aa681aff"
      },
      "outputs": [
        {
          "data": {
            "text/html": [
              "\n",
              "  <style>\n",
              "    pre {\n",
              "        white-space: pre-wrap;\n",
              "    }\n",
              "  </style>\n",
              "  "
            ],
            "text/plain": [
              "<IPython.core.display.HTML object>"
            ]
          },
          "metadata": {},
          "output_type": "display_data"
        }
      ],
      "source": [
        "def _set_gradient_checkpointing(module, value=False):\n",
        "        if isinstance(module, type(base_model)):\n",
        "            module.gradient_checkpointing = value\n",
        "\n",
        "\n",
        "base_model._set_gradient_checkpointing = _set_gradient_checkpointing\n",
        "ref_model._set_gradient_checkpointing = _set_gradient_checkpointing"
      ]
    },
    {
      "cell_type": "code",
      "execution_count": null,
      "metadata": {
        "colab": {
          "base_uri": "https://localhost:8080/",
          "height": 38
        },
        "id": "n_yypALKt7fn",
        "outputId": "0d4a336c-fde1-4536-8ec1-2c86dee2737e"
      },
      "outputs": [
        {
          "data": {
            "text/html": [
              "\n",
              "  <style>\n",
              "    pre {\n",
              "        white-space: pre-wrap;\n",
              "    }\n",
              "  </style>\n",
              "  "
            ],
            "text/plain": [
              "<IPython.core.display.HTML object>"
            ]
          },
          "metadata": {},
          "output_type": "display_data"
        }
      ],
      "source": [
        "peft_config = LoraConfig(\n",
        "    r=8,\n",
        "    lora_alpha=16,\n",
        "    lora_dropout=0.05,\n",
        "    target_modules=[\n",
        "        \"Wqkv\",\n",
        "        \"out_proj\"\n",
        "    ],\n",
        "    bias=\"none\",\n",
        "    task_type=\"CAUSAL_LM\",\n",
        ")"
      ]
    },
    {
      "cell_type": "code",
      "execution_count": null,
      "metadata": {
        "colab": {
          "base_uri": "https://localhost:8080/",
          "height": 38
        },
        "id": "Scq3Q0JWv2pq",
        "outputId": "e95afa1b-3e19-4109-a3f7-bd155c589b4a"
      },
      "outputs": [
        {
          "data": {
            "text/html": [
              "\n",
              "  <style>\n",
              "    pre {\n",
              "        white-space: pre-wrap;\n",
              "    }\n",
              "  </style>\n",
              "  "
            ],
            "text/plain": [
              "<IPython.core.display.HTML object>"
            ]
          },
          "metadata": {},
          "output_type": "display_data"
        },
        {
          "name": "stdout",
          "output_type": "stream",
          "text": [
            "TrainingArguments(\n",
            "_n_gpu=1,\n",
            "adafactor=False,\n",
            "adam_beta1=0.9,\n",
            "adam_beta2=0.999,\n",
            "adam_epsilon=1e-08,\n",
            "auto_find_batch_size=False,\n",
            "bf16=False,\n",
            "bf16_full_eval=False,\n",
            "data_seed=None,\n",
            "dataloader_drop_last=False,\n",
            "dataloader_num_workers=0,\n",
            "dataloader_pin_memory=True,\n",
            "ddp_backend=None,\n",
            "ddp_broadcast_buffers=None,\n",
            "ddp_bucket_cap_mb=None,\n",
            "ddp_find_unused_parameters=None,\n",
            "ddp_timeout=1800,\n",
            "debug=[],\n",
            "deepspeed=None,\n",
            "disable_tqdm=False,\n",
            "dispatch_batches=None,\n",
            "do_eval=False,\n",
            "do_predict=False,\n",
            "do_train=False,\n",
            "eval_accumulation_steps=None,\n",
            "eval_delay=0,\n",
            "eval_steps=None,\n",
            "evaluation_strategy=no,\n",
            "fp16=False,\n",
            "fp16_backend=auto,\n",
            "fp16_full_eval=False,\n",
            "fp16_opt_level=O1,\n",
            "fsdp=[],\n",
            "fsdp_config={'min_num_params': 0, 'xla': False, 'xla_fsdp_grad_ckpt': False},\n",
            "fsdp_min_num_params=0,\n",
            "fsdp_transformer_layer_cls_to_wrap=None,\n",
            "full_determinism=False,\n",
            "gradient_accumulation_steps=4,\n",
            "gradient_checkpointing=True,\n",
            "greater_is_better=None,\n",
            "group_by_length=False,\n",
            "half_precision_backend=auto,\n",
            "hub_always_push=False,\n",
            "hub_model_id=None,\n",
            "hub_private_repo=False,\n",
            "hub_strategy=every_save,\n",
            "hub_token=<HUB_TOKEN>,\n",
            "ignore_data_skip=False,\n",
            "include_inputs_for_metrics=False,\n",
            "jit_mode_eval=False,\n",
            "label_names=None,\n",
            "label_smoothing_factor=0.0,\n",
            "learning_rate=0.0001,\n",
            "length_column_name=length,\n",
            "load_best_model_at_end=False,\n",
            "local_rank=0,\n",
            "log_level=passive,\n",
            "log_level_replica=warning,\n",
            "log_on_each_node=True,\n",
            "logging_dir=./curt_gpt_2/runs/Sep20_20-58-27_houlambdastk01.eogresources.com,\n",
            "logging_first_step=False,\n",
            "logging_nan_inf_filter=True,\n",
            "logging_steps=10,\n",
            "logging_strategy=steps,\n",
            "lr_scheduler_type=cosine,\n",
            "max_grad_norm=1.0,\n",
            "max_steps=-1,\n",
            "metric_for_best_model=None,\n",
            "mp_parameters=,\n",
            "no_cuda=False,\n",
            "num_train_epochs=1,\n",
            "optim=paged_adamw_8bit,\n",
            "optim_args=None,\n",
            "output_dir=./curt_gpt_2,\n",
            "overwrite_output_dir=False,\n",
            "past_index=-1,\n",
            "per_device_eval_batch_size=8,\n",
            "per_device_train_batch_size=6,\n",
            "prediction_loss_only=False,\n",
            "push_to_hub=False,\n",
            "push_to_hub_model_id=None,\n",
            "push_to_hub_organization=None,\n",
            "push_to_hub_token=<PUSH_TO_HUB_TOKEN>,\n",
            "ray_scope=last,\n",
            "remove_unused_columns=False,\n",
            "report_to=[],\n",
            "resume_from_checkpoint=None,\n",
            "run_name=./curt_gpt_2,\n",
            "save_on_each_node=False,\n",
            "save_safetensors=False,\n",
            "save_steps=100,\n",
            "save_strategy=steps,\n",
            "save_total_limit=3,\n",
            "seed=42,\n",
            "sharded_ddp=[],\n",
            "skip_memory_metrics=True,\n",
            "tf32=None,\n",
            "torch_compile=False,\n",
            "torch_compile_backend=None,\n",
            "torch_compile_mode=None,\n",
            "torchdynamo=None,\n",
            "tpu_metrics_debug=False,\n",
            "tpu_num_cores=None,\n",
            "use_cpu=False,\n",
            "use_ipex=False,\n",
            "use_legacy_prediction_loop=False,\n",
            "use_mps_device=False,\n",
            "warmup_ratio=0.05,\n",
            "warmup_steps=0,\n",
            "weight_decay=0.0,\n",
            ")\n"
          ]
        }
      ],
      "source": [
        "training_args = TrainingArguments(\n",
        "    per_device_train_batch_size=1,\n",
        "    gradient_accumulation_steps=24,\n",
        "    num_train_epochs=1,\n",
        "    logging_steps=10,\n",
        "    save_steps=100,\n",
        "    save_total_limit=3,\n",
        "    save_strategy=\"steps\",\n",
        "    learning_rate=1e-4,\n",
        "    output_dir=\"./curt_gpt_2\",\n",
        "    report_to=\"none\",\n",
        "    lr_scheduler_type=\"cosine\",\n",
        "    warmup_ratio=0.05,\n",
        "    optim=\"paged_adamw_8bit\",\n",
        "    bf16=False,\n",
        "    remove_unused_columns=False,\n",
        "    gradient_checkpointing=True\n",
        ")\n",
        "\n",
        "if torch.cuda.get_device_name() == \"NVIDIA A100-SXM4-40GB\":\n",
        "    training_args.per_device_train_batch_size = 3\n",
        "    training_args.gradient_accumulation_steps = 8\n",
        "elif torch.cuda.get_device_name() == \"NVIDIA A100-SXM4-80GB\":\n",
        "    training_args.per_device_train_batch_size = 6\n",
        "    training_args.gradient_accumulation_steps = 4\n",
        "\n",
        "\n",
        "print(training_args)"
      ]
    },
    {
      "cell_type": "code",
      "execution_count": null,
      "metadata": {
        "colab": {
          "base_uri": "https://localhost:8080/",
          "height": 90
        },
        "id": "Ya8Tz3znvSP8",
        "outputId": "82b13ec2-c779-4e15-fab4-37ee052938f6"
      },
      "outputs": [
        {
          "data": {
            "text/html": [
              "\n",
              "  <style>\n",
              "    pre {\n",
              "        white-space: pre-wrap;\n",
              "    }\n",
              "  </style>\n",
              "  "
            ],
            "text/plain": [
              "<IPython.core.display.HTML object>"
            ]
          },
          "metadata": {},
          "output_type": "display_data"
        },
        {
          "name": "stderr",
          "output_type": "stream",
          "text": [
            "/home/tdavis4/.local/share/virtualenvs/silly_little_language_modeling_thing_at_ut-bNymua5Z/lib/python3.10/site-packages/peft/utils/other.py:122: FutureWarning: prepare_model_for_int8_training is deprecated and will be removed in a future version. Use prepare_model_for_kbit_training instead.\n",
            "  warnings.warn(\n"
          ]
        }
      ],
      "source": [
        "dpo_trainer = DPOTrainer(\n",
        "    base_model,\n",
        "    ref_model, #https://github.com/huggingface/trl/pull/640\n",
        "    args=training_args,\n",
        "    beta=0.2,\n",
        "    train_dataset=train,\n",
        "    eval_dataset=eval,\n",
        "    tokenizer=tokenizer,\n",
        "    peft_config=peft_config,\n",
        "    max_prompt_length=256,\n",
        "    max_length=512, # model maximum for Phi 1.5 is 2048 but won't fit in memory on a crappy Tesla T4\n",
        ")"
      ]
    },
    {
      "cell_type": "code",
      "execution_count": null,
      "metadata": {
        "colab": {
          "base_uri": "https://localhost:8080/",
          "height": 364
        },
        "id": "HJ6vS-MN6gx7",
        "outputId": "6a73c72f-ccda-465b-eb7b-7b3991a02f46"
      },
      "outputs": [
        {
          "data": {
            "text/html": [
              "\n",
              "  <style>\n",
              "    pre {\n",
              "        white-space: pre-wrap;\n",
              "    }\n",
              "  </style>\n",
              "  "
            ],
            "text/plain": [
              "<IPython.core.display.HTML object>"
            ]
          },
          "metadata": {},
          "output_type": "display_data"
        },
        {
          "name": "stderr",
          "output_type": "stream",
          "text": [
            "Could not estimate the number of tokens of the input, floating-point operations will not be computed\n"
          ]
        },
        {
          "data": {
            "text/html": [
              "\n",
              "    <div>\n",
              "      \n",
              "      <progress value='2250' max='2250' style='width:300px; height:20px; vertical-align: middle;'></progress>\n",
              "      [2250/2250 7:23:07, Epoch 1/1]\n",
              "    </div>\n",
              "    <table border=\"1\" class=\"dataframe\">\n",
              "  <thead>\n",
              " <tr style=\"text-align: left;\">\n",
              "      <th>Step</th>\n",
              "      <th>Training Loss</th>\n",
              "    </tr>\n",
              "  </thead>\n",
              "  <tbody>\n",
              "    <tr>\n",
              "      <td>10</td>\n",
              "      <td>0.692300</td>\n",
              "    </tr>\n",
              "    <tr>\n",
              "      <td>20</td>\n",
              "      <td>0.684800</td>\n",
              "    </tr>\n",
              "    <tr>\n",
              "      <td>30</td>\n",
              "      <td>0.672300</td>\n",
              "    </tr>\n",
              "    <tr>\n",
              "      <td>40</td>\n",
              "      <td>0.658500</td>\n",
              "    </tr>\n",
              "    <tr>\n",
              "      <td>50</td>\n",
              "      <td>0.661700</td>\n",
              "    </tr>\n",
              "    <tr>\n",
              "      <td>60</td>\n",
              "      <td>0.667400</td>\n",
              "    </tr>\n",
              "    <tr>\n",
              "      <td>70</td>\n",
              "      <td>0.642800</td>\n",
              "    </tr>\n",
              "    <tr>\n",
              "      <td>80</td>\n",
              "      <td>0.691100</td>\n",
              "    </tr>\n",
              "    <tr>\n",
              "      <td>90</td>\n",
              "      <td>0.667500</td>\n",
              "    </tr>\n",
              "    <tr>\n",
              "      <td>100</td>\n",
              "      <td>0.643800</td>\n",
              "    </tr>\n",
              "    <tr>\n",
              "      <td>110</td>\n",
              "      <td>0.668400</td>\n",
              "    </tr>\n",
              "    <tr>\n",
              "      <td>120</td>\n",
              "      <td>0.641300</td>\n",
              "    </tr>\n",
              "    <tr>\n",
              "      <td>130</td>\n",
              "      <td>0.605200</td>\n",
              "    </tr>\n",
              "    <tr>\n",
              "      <td>140</td>\n",
              "      <td>0.619000</td>\n",
              "    </tr>\n",
              "    <tr>\n",
              "      <td>150</td>\n",
              "      <td>0.650700</td>\n",
              "    </tr>\n",
              "    <tr>\n",
              "      <td>160</td>\n",
              "      <td>0.663000</td>\n",
              "    </tr>\n",
              "    <tr>\n",
              "      <td>170</td>\n",
              "      <td>0.643400</td>\n",
              "    </tr>\n",
              "    <tr>\n",
              "      <td>180</td>\n",
              "      <td>0.606300</td>\n",
              "    </tr>\n",
              "    <tr>\n",
              "      <td>190</td>\n",
              "      <td>0.619800</td>\n",
              "    </tr>\n",
              "    <tr>\n",
              "      <td>200</td>\n",
              "      <td>0.651800</td>\n",
              "    </tr>\n",
              "    <tr>\n",
              "      <td>210</td>\n",
              "      <td>0.625900</td>\n",
              "    </tr>\n",
              "    <tr>\n",
              "      <td>220</td>\n",
              "      <td>0.628700</td>\n",
              "    </tr>\n",
              "    <tr>\n",
              "      <td>230</td>\n",
              "      <td>0.632000</td>\n",
              "    </tr>\n",
              "    <tr>\n",
              "      <td>240</td>\n",
              "      <td>0.635000</td>\n",
              "    </tr>\n",
              "    <tr>\n",
              "      <td>250</td>\n",
              "      <td>0.624900</td>\n",
              "    </tr>\n",
              "    <tr>\n",
              "      <td>260</td>\n",
              "      <td>0.608100</td>\n",
              "    </tr>\n",
              "    <tr>\n",
              "      <td>270</td>\n",
              "      <td>0.642700</td>\n",
              "    </tr>\n",
              "    <tr>\n",
              "      <td>280</td>\n",
              "      <td>0.648700</td>\n",
              "    </tr>\n",
              "    <tr>\n",
              "      <td>290</td>\n",
              "      <td>0.592800</td>\n",
              "    </tr>\n",
              "    <tr>\n",
              "      <td>300</td>\n",
              "      <td>0.604000</td>\n",
              "    </tr>\n",
              "    <tr>\n",
              "      <td>310</td>\n",
              "      <td>0.632900</td>\n",
              "    </tr>\n",
              "    <tr>\n",
              "      <td>320</td>\n",
              "      <td>0.581800</td>\n",
              "    </tr>\n",
              "    <tr>\n",
              "      <td>330</td>\n",
              "      <td>0.656200</td>\n",
              "    </tr>\n",
              "    <tr>\n",
              "      <td>340</td>\n",
              "      <td>0.558800</td>\n",
              "    </tr>\n",
              "    <tr>\n",
              "      <td>350</td>\n",
              "      <td>0.600600</td>\n",
              "    </tr>\n",
              "    <tr>\n",
              "      <td>360</td>\n",
              "      <td>0.616400</td>\n",
              "    </tr>\n",
              "    <tr>\n",
              "      <td>370</td>\n",
              "      <td>0.641900</td>\n",
              "    </tr>\n",
              "    <tr>\n",
              "      <td>380</td>\n",
              "      <td>0.694400</td>\n",
              "    </tr>\n",
              "    <tr>\n",
              "      <td>390</td>\n",
              "      <td>0.637900</td>\n",
              "    </tr>\n",
              "    <tr>\n",
              "      <td>400</td>\n",
              "      <td>0.581400</td>\n",
              "    </tr>\n",
              "    <tr>\n",
              "      <td>410</td>\n",
              "      <td>0.576700</td>\n",
              "    </tr>\n",
              "    <tr>\n",
              "      <td>420</td>\n",
              "      <td>0.649900</td>\n",
              "    </tr>\n",
              "    <tr>\n",
              "      <td>430</td>\n",
              "      <td>0.643500</td>\n",
              "    </tr>\n",
              "    <tr>\n",
              "      <td>440</td>\n",
              "      <td>0.585700</td>\n",
              "    </tr>\n",
              "    <tr>\n",
              "      <td>450</td>\n",
              "      <td>0.614500</td>\n",
              "    </tr>\n",
              "    <tr>\n",
              "      <td>460</td>\n",
              "      <td>0.606400</td>\n",
              "    </tr>\n",
              "    <tr>\n",
              "      <td>470</td>\n",
              "      <td>0.573800</td>\n",
              "    </tr>\n",
              "    <tr>\n",
              "      <td>480</td>\n",
              "      <td>0.610900</td>\n",
              "    </tr>\n",
              "    <tr>\n",
              "      <td>490</td>\n",
              "      <td>0.566500</td>\n",
              "    </tr>\n",
              "    <tr>\n",
              "      <td>500</td>\n",
              "      <td>0.605900</td>\n",
              "    </tr>\n",
              "    <tr>\n",
              "      <td>510</td>\n",
              "      <td>0.625700</td>\n",
              "    </tr>\n",
              "    <tr>\n",
              "      <td>520</td>\n",
              "      <td>0.596400</td>\n",
              "    </tr>\n",
              "    <tr>\n",
              "      <td>530</td>\n",
              "      <td>0.608500</td>\n",
              "    </tr>\n",
              "    <tr>\n",
              "      <td>540</td>\n",
              "      <td>0.616700</td>\n",
              "    </tr>\n",
              "    <tr>\n",
              "      <td>550</td>\n",
              "      <td>0.593800</td>\n",
              "    </tr>\n",
              "    <tr>\n",
              "      <td>560</td>\n",
              "      <td>0.626900</td>\n",
              "    </tr>\n",
              "    <tr>\n",
              "      <td>570</td>\n",
              "      <td>0.610600</td>\n",
              "    </tr>\n",
              "    <tr>\n",
              "      <td>580</td>\n",
              "      <td>0.579900</td>\n",
              "    </tr>\n",
              "    <tr>\n",
              "      <td>590</td>\n",
              "      <td>0.624800</td>\n",
              "    </tr>\n",
              "    <tr>\n",
              "      <td>600</td>\n",
              "      <td>0.636400</td>\n",
              "    </tr>\n",
              "    <tr>\n",
              "      <td>610</td>\n",
              "      <td>0.613900</td>\n",
              "    </tr>\n",
              "    <tr>\n",
              "      <td>620</td>\n",
              "      <td>0.616900</td>\n",
              "    </tr>\n",
              "    <tr>\n",
              "      <td>630</td>\n",
              "      <td>0.610700</td>\n",
              "    </tr>\n",
              "    <tr>\n",
              "      <td>640</td>\n",
              "      <td>0.603600</td>\n",
              "    </tr>\n",
              "    <tr>\n",
              "      <td>650</td>\n",
              "      <td>0.609100</td>\n",
              "    </tr>\n",
              "    <tr>\n",
              "      <td>660</td>\n",
              "      <td>0.589700</td>\n",
              "    </tr>\n",
              "    <tr>\n",
              "      <td>670</td>\n",
              "      <td>0.626900</td>\n",
              "    </tr>\n",
              "    <tr>\n",
              "      <td>680</td>\n",
              "      <td>0.563000</td>\n",
              "    </tr>\n",
              "    <tr>\n",
              "      <td>690</td>\n",
              "      <td>0.614500</td>\n",
              "    </tr>\n",
              "    <tr>\n",
              "      <td>700</td>\n",
              "      <td>0.661100</td>\n",
              "    </tr>\n",
              "    <tr>\n",
              "      <td>710</td>\n",
              "      <td>0.604600</td>\n",
              "    </tr>\n",
              "    <tr>\n",
              "      <td>720</td>\n",
              "      <td>0.630300</td>\n",
              "    </tr>\n",
              "    <tr>\n",
              "      <td>730</td>\n",
              "      <td>0.578500</td>\n",
              "    </tr>\n",
              "    <tr>\n",
              "      <td>740</td>\n",
              "      <td>0.620100</td>\n",
              "    </tr>\n",
              "    <tr>\n",
              "      <td>750</td>\n",
              "      <td>0.554600</td>\n",
              "    </tr>\n",
              "    <tr>\n",
              "      <td>760</td>\n",
              "      <td>0.609100</td>\n",
              "    </tr>\n",
              "    <tr>\n",
              "      <td>770</td>\n",
              "      <td>0.612100</td>\n",
              "    </tr>\n",
              "    <tr>\n",
              "      <td>780</td>\n",
              "      <td>0.615200</td>\n",
              "    </tr>\n",
              "    <tr>\n",
              "      <td>790</td>\n",
              "      <td>0.575300</td>\n",
              "    </tr>\n",
              "    <tr>\n",
              "      <td>800</td>\n",
              "      <td>0.590300</td>\n",
              "    </tr>\n",
              "    <tr>\n",
              "      <td>810</td>\n",
              "      <td>0.603300</td>\n",
              "    </tr>\n",
              "    <tr>\n",
              "      <td>820</td>\n",
              "      <td>0.531700</td>\n",
              "    </tr>\n",
              "    <tr>\n",
              "      <td>830</td>\n",
              "      <td>0.616500</td>\n",
              "    </tr>\n",
              "    <tr>\n",
              "      <td>840</td>\n",
              "      <td>0.612000</td>\n",
              "    </tr>\n",
              "    <tr>\n",
              "      <td>850</td>\n",
              "      <td>0.572500</td>\n",
              "    </tr>\n",
              "    <tr>\n",
              "      <td>860</td>\n",
              "      <td>0.591800</td>\n",
              "    </tr>\n",
              "    <tr>\n",
              "      <td>870</td>\n",
              "      <td>0.608200</td>\n",
              "    </tr>\n",
              "    <tr>\n",
              "      <td>880</td>\n",
              "      <td>0.631900</td>\n",
              "    </tr>\n",
              "    <tr>\n",
              "      <td>890</td>\n",
              "      <td>0.579700</td>\n",
              "    </tr>\n",
              "    <tr>\n",
              "      <td>900</td>\n",
              "      <td>0.617400</td>\n",
              "    </tr>\n",
              "    <tr>\n",
              "      <td>910</td>\n",
              "      <td>0.555300</td>\n",
              "    </tr>\n",
              "    <tr>\n",
              "      <td>920</td>\n",
              "      <td>0.559100</td>\n",
              "    </tr>\n",
              "    <tr>\n",
              "      <td>930</td>\n",
              "      <td>0.613800</td>\n",
              "    </tr>\n",
              "    <tr>\n",
              "      <td>940</td>\n",
              "      <td>0.621700</td>\n",
              "    </tr>\n",
              "    <tr>\n",
              "      <td>950</td>\n",
              "      <td>0.634000</td>\n",
              "    </tr>\n",
              "    <tr>\n",
              "      <td>960</td>\n",
              "      <td>0.642700</td>\n",
              "    </tr>\n",
              "    <tr>\n",
              "      <td>970</td>\n",
              "      <td>0.540300</td>\n",
              "    </tr>\n",
              "    <tr>\n",
              "      <td>980</td>\n",
              "      <td>0.603300</td>\n",
              "    </tr>\n",
              "    <tr>\n",
              "      <td>990</td>\n",
              "      <td>0.653100</td>\n",
              "    </tr>\n",
              "    <tr>\n",
              "      <td>1000</td>\n",
              "      <td>0.654000</td>\n",
              "    </tr>\n",
              "    <tr>\n",
              "      <td>1010</td>\n",
              "      <td>0.593000</td>\n",
              "    </tr>\n",
              "    <tr>\n",
              "      <td>1020</td>\n",
              "      <td>0.659700</td>\n",
              "    </tr>\n",
              "    <tr>\n",
              "      <td>1030</td>\n",
              "      <td>0.593900</td>\n",
              "    </tr>\n",
              "    <tr>\n",
              "      <td>1040</td>\n",
              "      <td>0.587800</td>\n",
              "    </tr>\n",
              "    <tr>\n",
              "      <td>1050</td>\n",
              "      <td>0.599000</td>\n",
              "    </tr>\n",
              "    <tr>\n",
              "      <td>1060</td>\n",
              "      <td>0.576700</td>\n",
              "    </tr>\n",
              "    <tr>\n",
              "      <td>1070</td>\n",
              "      <td>0.618700</td>\n",
              "    </tr>\n",
              "    <tr>\n",
              "      <td>1080</td>\n",
              "      <td>0.581000</td>\n",
              "    </tr>\n",
              "    <tr>\n",
              "      <td>1090</td>\n",
              "      <td>0.562600</td>\n",
              "    </tr>\n",
              "    <tr>\n",
              "      <td>1100</td>\n",
              "      <td>0.614000</td>\n",
              "    </tr>\n",
              "    <tr>\n",
              "      <td>1110</td>\n",
              "      <td>0.596000</td>\n",
              "    </tr>\n",
              "    <tr>\n",
              "      <td>1120</td>\n",
              "      <td>0.571900</td>\n",
              "    </tr>\n",
              "    <tr>\n",
              "      <td>1130</td>\n",
              "      <td>0.551100</td>\n",
              "    </tr>\n",
              "    <tr>\n",
              "      <td>1140</td>\n",
              "      <td>0.605300</td>\n",
              "    </tr>\n",
              "    <tr>\n",
              "      <td>1150</td>\n",
              "      <td>0.644300</td>\n",
              "    </tr>\n",
              "    <tr>\n",
              "      <td>1160</td>\n",
              "      <td>0.561200</td>\n",
              "    </tr>\n",
              "    <tr>\n",
              "      <td>1170</td>\n",
              "      <td>0.599500</td>\n",
              "    </tr>\n",
              "    <tr>\n",
              "      <td>1180</td>\n",
              "      <td>0.598100</td>\n",
              "    </tr>\n",
              "    <tr>\n",
              "      <td>1190</td>\n",
              "      <td>0.579600</td>\n",
              "    </tr>\n",
              "    <tr>\n",
              "      <td>1200</td>\n",
              "      <td>0.569400</td>\n",
              "    </tr>\n",
              "    <tr>\n",
              "      <td>1210</td>\n",
              "      <td>0.530200</td>\n",
              "    </tr>\n",
              "    <tr>\n",
              "      <td>1220</td>\n",
              "      <td>0.587800</td>\n",
              "    </tr>\n",
              "    <tr>\n",
              "      <td>1230</td>\n",
              "      <td>0.633600</td>\n",
              "    </tr>\n",
              "    <tr>\n",
              "      <td>1240</td>\n",
              "      <td>0.549400</td>\n",
              "    </tr>\n",
              "    <tr>\n",
              "      <td>1250</td>\n",
              "      <td>0.602300</td>\n",
              "    </tr>\n",
              "    <tr>\n",
              "      <td>1260</td>\n",
              "      <td>0.570700</td>\n",
              "    </tr>\n",
              "    <tr>\n",
              "      <td>1270</td>\n",
              "      <td>0.586100</td>\n",
              "    </tr>\n",
              "    <tr>\n",
              "      <td>1280</td>\n",
              "      <td>0.547700</td>\n",
              "    </tr>\n",
              "    <tr>\n",
              "      <td>1290</td>\n",
              "      <td>0.546600</td>\n",
              "    </tr>\n",
              "    <tr>\n",
              "      <td>1300</td>\n",
              "      <td>0.557700</td>\n",
              "    </tr>\n",
              "    <tr>\n",
              "      <td>1310</td>\n",
              "      <td>0.570900</td>\n",
              "    </tr>\n",
              "    <tr>\n",
              "      <td>1320</td>\n",
              "      <td>0.552800</td>\n",
              "    </tr>\n",
              "    <tr>\n",
              "      <td>1330</td>\n",
              "      <td>0.584000</td>\n",
              "    </tr>\n",
              "    <tr>\n",
              "      <td>1340</td>\n",
              "      <td>0.583600</td>\n",
              "    </tr>\n",
              "    <tr>\n",
              "      <td>1350</td>\n",
              "      <td>0.599800</td>\n",
              "    </tr>\n",
              "    <tr>\n",
              "      <td>1360</td>\n",
              "      <td>0.534500</td>\n",
              "    </tr>\n",
              "    <tr>\n",
              "      <td>1370</td>\n",
              "      <td>0.562400</td>\n",
              "    </tr>\n",
              "    <tr>\n",
              "      <td>1380</td>\n",
              "      <td>0.622900</td>\n",
              "    </tr>\n",
              "    <tr>\n",
              "      <td>1390</td>\n",
              "      <td>0.581100</td>\n",
              "    </tr>\n",
              "    <tr>\n",
              "      <td>1400</td>\n",
              "      <td>0.595800</td>\n",
              "    </tr>\n",
              "    <tr>\n",
              "      <td>1410</td>\n",
              "      <td>0.609300</td>\n",
              "    </tr>\n",
              "    <tr>\n",
              "      <td>1420</td>\n",
              "      <td>0.605100</td>\n",
              "    </tr>\n",
              "    <tr>\n",
              "      <td>1430</td>\n",
              "      <td>0.566600</td>\n",
              "    </tr>\n",
              "    <tr>\n",
              "      <td>1440</td>\n",
              "      <td>0.558700</td>\n",
              "    </tr>\n",
              "    <tr>\n",
              "      <td>1450</td>\n",
              "      <td>0.609900</td>\n",
              "    </tr>\n",
              "    <tr>\n",
              "      <td>1460</td>\n",
              "      <td>0.564700</td>\n",
              "    </tr>\n",
              "    <tr>\n",
              "      <td>1470</td>\n",
              "      <td>0.609500</td>\n",
              "    </tr>\n",
              "    <tr>\n",
              "      <td>1480</td>\n",
              "      <td>0.582800</td>\n",
              "    </tr>\n",
              "    <tr>\n",
              "      <td>1490</td>\n",
              "      <td>0.607900</td>\n",
              "    </tr>\n",
              "    <tr>\n",
              "      <td>1500</td>\n",
              "      <td>0.597500</td>\n",
              "    </tr>\n",
              "    <tr>\n",
              "      <td>1510</td>\n",
              "      <td>0.636800</td>\n",
              "    </tr>\n",
              "    <tr>\n",
              "      <td>1520</td>\n",
              "      <td>0.609900</td>\n",
              "    </tr>\n",
              "    <tr>\n",
              "      <td>1530</td>\n",
              "      <td>0.591700</td>\n",
              "    </tr>\n",
              "    <tr>\n",
              "      <td>1540</td>\n",
              "      <td>0.594800</td>\n",
              "    </tr>\n",
              "    <tr>\n",
              "      <td>1550</td>\n",
              "      <td>0.632800</td>\n",
              "    </tr>\n",
              "    <tr>\n",
              "      <td>1560</td>\n",
              "      <td>0.577100</td>\n",
              "    </tr>\n",
              "    <tr>\n",
              "      <td>1570</td>\n",
              "      <td>0.600200</td>\n",
              "    </tr>\n",
              "    <tr>\n",
              "      <td>1580</td>\n",
              "      <td>0.591700</td>\n",
              "    </tr>\n",
              "    <tr>\n",
              "      <td>1590</td>\n",
              "      <td>0.565800</td>\n",
              "    </tr>\n",
              "    <tr>\n",
              "      <td>1600</td>\n",
              "      <td>0.600800</td>\n",
              "    </tr>\n",
              "    <tr>\n",
              "      <td>1610</td>\n",
              "      <td>0.683800</td>\n",
              "    </tr>\n",
              "    <tr>\n",
              "      <td>1620</td>\n",
              "      <td>0.532300</td>\n",
              "    </tr>\n",
              "    <tr>\n",
              "      <td>1630</td>\n",
              "      <td>0.572100</td>\n",
              "    </tr>\n",
              "    <tr>\n",
              "      <td>1640</td>\n",
              "      <td>0.572300</td>\n",
              "    </tr>\n",
              "    <tr>\n",
              "      <td>1650</td>\n",
              "      <td>0.616000</td>\n",
              "    </tr>\n",
              "    <tr>\n",
              "      <td>1660</td>\n",
              "      <td>0.622000</td>\n",
              "    </tr>\n",
              "    <tr>\n",
              "      <td>1670</td>\n",
              "      <td>0.568600</td>\n",
              "    </tr>\n",
              "    <tr>\n",
              "      <td>1680</td>\n",
              "      <td>0.584600</td>\n",
              "    </tr>\n",
              "    <tr>\n",
              "      <td>1690</td>\n",
              "      <td>0.567000</td>\n",
              "    </tr>\n",
              "    <tr>\n",
              "      <td>1700</td>\n",
              "      <td>0.568200</td>\n",
              "    </tr>\n",
              "    <tr>\n",
              "      <td>1710</td>\n",
              "      <td>0.605800</td>\n",
              "    </tr>\n",
              "    <tr>\n",
              "      <td>1720</td>\n",
              "      <td>0.547000</td>\n",
              "    </tr>\n",
              "    <tr>\n",
              "      <td>1730</td>\n",
              "      <td>0.599000</td>\n",
              "    </tr>\n",
              "    <tr>\n",
              "      <td>1740</td>\n",
              "      <td>0.527900</td>\n",
              "    </tr>\n",
              "    <tr>\n",
              "      <td>1750</td>\n",
              "      <td>0.587500</td>\n",
              "    </tr>\n",
              "    <tr>\n",
              "      <td>1760</td>\n",
              "      <td>0.645200</td>\n",
              "    </tr>\n",
              "    <tr>\n",
              "      <td>1770</td>\n",
              "      <td>0.569600</td>\n",
              "    </tr>\n",
              "    <tr>\n",
              "      <td>1780</td>\n",
              "      <td>0.544400</td>\n",
              "    </tr>\n",
              "    <tr>\n",
              "      <td>1790</td>\n",
              "      <td>0.563600</td>\n",
              "    </tr>\n",
              "    <tr>\n",
              "      <td>1800</td>\n",
              "      <td>0.592500</td>\n",
              "    </tr>\n",
              "    <tr>\n",
              "      <td>1810</td>\n",
              "      <td>0.526800</td>\n",
              "    </tr>\n",
              "    <tr>\n",
              "      <td>1820</td>\n",
              "      <td>0.627600</td>\n",
              "    </tr>\n",
              "    <tr>\n",
              "      <td>1830</td>\n",
              "      <td>0.623300</td>\n",
              "    </tr>\n",
              "    <tr>\n",
              "      <td>1840</td>\n",
              "      <td>0.492300</td>\n",
              "    </tr>\n",
              "    <tr>\n",
              "      <td>1850</td>\n",
              "      <td>0.603200</td>\n",
              "    </tr>\n",
              "    <tr>\n",
              "      <td>1860</td>\n",
              "      <td>0.582300</td>\n",
              "    </tr>\n",
              "    <tr>\n",
              "      <td>1870</td>\n",
              "      <td>0.544000</td>\n",
              "    </tr>\n",
              "    <tr>\n",
              "      <td>1880</td>\n",
              "      <td>0.631900</td>\n",
              "    </tr>\n",
              "    <tr>\n",
              "      <td>1890</td>\n",
              "      <td>0.593200</td>\n",
              "    </tr>\n",
              "    <tr>\n",
              "      <td>1900</td>\n",
              "      <td>0.583900</td>\n",
              "    </tr>\n",
              "    <tr>\n",
              "      <td>1910</td>\n",
              "      <td>0.535300</td>\n",
              "    </tr>\n",
              "    <tr>\n",
              "      <td>1920</td>\n",
              "      <td>0.569000</td>\n",
              "    </tr>\n",
              "    <tr>\n",
              "      <td>1930</td>\n",
              "      <td>0.534200</td>\n",
              "    </tr>\n",
              "    <tr>\n",
              "      <td>1940</td>\n",
              "      <td>0.593500</td>\n",
              "    </tr>\n",
              "    <tr>\n",
              "      <td>1950</td>\n",
              "      <td>0.622500</td>\n",
              "    </tr>\n",
              "    <tr>\n",
              "      <td>1960</td>\n",
              "      <td>0.548000</td>\n",
              "    </tr>\n",
              "    <tr>\n",
              "      <td>1970</td>\n",
              "      <td>0.605700</td>\n",
              "    </tr>\n",
              "    <tr>\n",
              "      <td>1980</td>\n",
              "      <td>0.585400</td>\n",
              "    </tr>\n",
              "    <tr>\n",
              "      <td>1990</td>\n",
              "      <td>0.539200</td>\n",
              "    </tr>\n",
              "    <tr>\n",
              "      <td>2000</td>\n",
              "      <td>0.584200</td>\n",
              "    </tr>\n",
              "    <tr>\n",
              "      <td>2010</td>\n",
              "      <td>0.582700</td>\n",
              "    </tr>\n",
              "    <tr>\n",
              "      <td>2020</td>\n",
              "      <td>0.603900</td>\n",
              "    </tr>\n",
              "    <tr>\n",
              "      <td>2030</td>\n",
              "      <td>0.570800</td>\n",
              "    </tr>\n",
              "    <tr>\n",
              "      <td>2040</td>\n",
              "      <td>0.635300</td>\n",
              "    </tr>\n",
              "    <tr>\n",
              "      <td>2050</td>\n",
              "      <td>0.567500</td>\n",
              "    </tr>\n",
              "    <tr>\n",
              "      <td>2060</td>\n",
              "      <td>0.603200</td>\n",
              "    </tr>\n",
              "    <tr>\n",
              "      <td>2070</td>\n",
              "      <td>0.585900</td>\n",
              "    </tr>\n",
              "    <tr>\n",
              "      <td>2080</td>\n",
              "      <td>0.567400</td>\n",
              "    </tr>\n",
              "    <tr>\n",
              "      <td>2090</td>\n",
              "      <td>0.543400</td>\n",
              "    </tr>\n",
              "    <tr>\n",
              "      <td>2100</td>\n",
              "      <td>0.525300</td>\n",
              "    </tr>\n",
              "    <tr>\n",
              "      <td>2110</td>\n",
              "      <td>0.587000</td>\n",
              "    </tr>\n",
              "    <tr>\n",
              "      <td>2120</td>\n",
              "      <td>0.604400</td>\n",
              "    </tr>\n",
              "    <tr>\n",
              "      <td>2130</td>\n",
              "      <td>0.597400</td>\n",
              "    </tr>\n",
              "    <tr>\n",
              "      <td>2140</td>\n",
              "      <td>0.597000</td>\n",
              "    </tr>\n",
              "    <tr>\n",
              "      <td>2150</td>\n",
              "      <td>0.588200</td>\n",
              "    </tr>\n",
              "    <tr>\n",
              "      <td>2160</td>\n",
              "      <td>0.574500</td>\n",
              "    </tr>\n",
              "    <tr>\n",
              "      <td>2170</td>\n",
              "      <td>0.556000</td>\n",
              "    </tr>\n",
              "    <tr>\n",
              "      <td>2180</td>\n",
              "      <td>0.595800</td>\n",
              "    </tr>\n",
              "    <tr>\n",
              "      <td>2190</td>\n",
              "      <td>0.575000</td>\n",
              "    </tr>\n",
              "    <tr>\n",
              "      <td>2200</td>\n",
              "      <td>0.570700</td>\n",
              "    </tr>\n",
              "    <tr>\n",
              "      <td>2210</td>\n",
              "      <td>0.604300</td>\n",
              "    </tr>\n",
              "    <tr>\n",
              "      <td>2220</td>\n",
              "      <td>0.548200</td>\n",
              "    </tr>\n",
              "    <tr>\n",
              "      <td>2230</td>\n",
              "      <td>0.542600</td>\n",
              "    </tr>\n",
              "    <tr>\n",
              "      <td>2240</td>\n",
              "      <td>0.553100</td>\n",
              "    </tr>\n",
              "    <tr>\n",
              "      <td>2250</td>\n",
              "      <td>0.630400</td>\n",
              "    </tr>\n",
              "  </tbody>\n",
              "</table><p>"
            ],
            "text/plain": [
              "<IPython.core.display.HTML object>"
            ]
          },
          "metadata": {},
          "output_type": "display_data"
        },
        {
          "data": {
            "text/plain": [
              "TrainOutput(global_step=2250, training_loss=0.5989892054663765, metrics={'train_runtime': 26602.37, 'train_samples_per_second': 2.03, 'train_steps_per_second': 0.085, 'total_flos': 0.0, 'train_loss': 0.5989892054663765, 'epoch': 1.0})"
            ]
          },
          "execution_count": 13,
          "metadata": {},
          "output_type": "execute_result"
        }
      ],
      "source": [
        "dpo_trainer.train()"
      ]
    },
    {
      "cell_type": "code",
      "execution_count": null,
      "metadata": {
        "colab": {
          "referenced_widgets": [
            "908adb0001224633b22eda7b3db04d1c"
          ]
        },
        "id": "1e1_yXg9iuJu",
        "outputId": "0139cad0-7210-49ed-fe1c-38bac102ab78"
      },
      "outputs": [
        {
          "data": {
            "text/html": [
              "\n",
              "  <style>\n",
              "    pre {\n",
              "        white-space: pre-wrap;\n",
              "    }\n",
              "  </style>\n",
              "  "
            ],
            "text/plain": [
              "<IPython.core.display.HTML object>"
            ]
          },
          "metadata": {},
          "output_type": "display_data"
        },
        {
          "data": {
            "application/vnd.jupyter.widget-view+json": {
              "model_id": "908adb0001224633b22eda7b3db04d1c",
              "version_major": 2,
              "version_minor": 0
            },
            "text/plain": [
              "VBox(children=(HTML(value='<center> <img\\nsrc=https://huggingface.co/front/assets/huggingface_logo-noborder.sv…"
            ]
          },
          "metadata": {},
          "output_type": "display_data"
        }
      ],
      "source": [
        "# curtgpt = AutoPeftModelForCausalLM.from_pretrained(\n",
        "#     \"curt_gpt_2/checkpoint-2200\",\n",
        "#     low_cpu_mem_usage=True,\n",
        "#     torch_dtype=torch.float16,\n",
        "#     trust_remote_code=True,\n",
        "#     load_in_4bit=True,\n",
        "#     quantization_config=bnb_config\n",
        "# )\n",
        "# from huggingface_hub import notebook_login\n",
        "# notebook_login()"
      ]
    },
    {
      "cell_type": "code",
      "execution_count": null,
      "metadata": {
        "colab": {
          "referenced_widgets": [
            "944835041b1740e2ae3179471386e506"
          ]
        },
        "id": "m_ciQZ4KiuJu",
        "outputId": "05b343a7-7d9e-48aa-ff6c-066804f0c8db"
      },
      "outputs": [
        {
          "data": {
            "text/html": [
              "\n",
              "  <style>\n",
              "    pre {\n",
              "        white-space: pre-wrap;\n",
              "    }\n",
              "  </style>\n",
              "  "
            ],
            "text/plain": [
              "<IPython.core.display.HTML object>"
            ]
          },
          "metadata": {},
          "output_type": "display_data"
        },
        {
          "data": {
            "application/vnd.jupyter.widget-view+json": {
              "model_id": "944835041b1740e2ae3179471386e506",
              "version_major": 2,
              "version_minor": 0
            },
            "text/plain": [
              "adapter_model.bin:   0%|          | 0.00/9.47M [00:00<?, ?B/s]"
            ]
          },
          "metadata": {},
          "output_type": "display_data"
        },
        {
          "data": {
            "text/plain": [
              "CommitInfo(commit_url='https://huggingface.co/tim-d/CurtGPT/commit/446ac2ac247dd25e364a95304ae914fe0cbbb215', commit_message='Upload model', commit_description='', oid='446ac2ac247dd25e364a95304ae914fe0cbbb215', pr_url=None, pr_revision=None, pr_num=None)"
            ]
          },
          "execution_count": 161,
          "metadata": {},
          "output_type": "execute_result"
        }
      ],
      "source": [
        "# curtgpt.push_to_hub(\"CurtGPT\")"
      ]
    },
    {
      "cell_type": "code",
      "execution_count": null,
      "metadata": {
        "id": "mW5wm5iXQmjn",
        "outputId": "ca33a0b6-ee49-4ee0-e5f2-9bd87bc61925"
      },
      "outputs": [
        {
          "data": {
            "text/html": [
              "\n",
              "  <style>\n",
              "    pre {\n",
              "        white-space: pre-wrap;\n",
              "    }\n",
              "  </style>\n",
              "  "
            ],
            "text/plain": [
              "<IPython.core.display.HTML object>"
            ]
          },
          "metadata": {},
          "output_type": "display_data"
        }
      ],
      "source": [
        "# curtgpt = AutoPeftModelForCausalLM.from_pretrained(\n",
        "#     \"curt_gpt_2/checkpoint-2200\",\n",
        "#     low_cpu_mem_usage=True,\n",
        "#     torch_dtype=torch.float16,\n",
        "#     trust_remote_code=True,\n",
        "#     load_in_4bit=True,\n",
        "# )\n",
        "# puffin_phi = AutoModelForCausalLM.from_pretrained(\"teknium/Puffin-Phi-v2\", trust_remote_code=True, device_map=\"auto\")\n",
        "# tokenizer = AutoTokenizer.from_pretrained(\"teknium/Puffin-Phi-v2\", trust_remote_code=True)"
      ]
    },
    {
      "cell_type": "code",
      "execution_count": null,
      "metadata": {
        "id": "_76-qoQFiuJu",
        "outputId": "43b54b92-096b-489c-b04d-55a3e4cd178e"
      },
      "outputs": [
        {
          "data": {
            "text/html": [
              "\n",
              "  <style>\n",
              "    pre {\n",
              "        white-space: pre-wrap;\n",
              "    }\n",
              "  </style>\n",
              "  "
            ],
            "text/plain": [
              "<IPython.core.display.HTML object>"
            ]
          },
          "metadata": {},
          "output_type": "display_data"
        }
      ],
      "source": [
        "curtgpt = AutoPeftModelForCausalLM.from_pretrained(\"tim-d/CurtGPT\", trust_remote_code=True, device_map=\"auto\")\n",
        "puffin_phi = AutoModelForCausalLM.from_pretrained(\"teknium/Puffin-Phi-v2\", trust_remote_code=True, device_map=\"auto\")\n",
        "tokenizer = AutoTokenizer.from_pretrained(\"teknium/Puffin-Phi-v2\", trust_remote_code=True)"
      ]
    },
    {
      "cell_type": "code",
      "execution_count": null,
      "metadata": {
        "id": "e5iwc6ksiuJu",
        "outputId": "ff9c214c-0cdb-492d-e9f2-42ec31f44d14"
      },
      "outputs": [
        {
          "data": {
            "text/html": [
              "\n",
              "  <style>\n",
              "    pre {\n",
              "        white-space: pre-wrap;\n",
              "    }\n",
              "  </style>\n",
              "  "
            ],
            "text/plain": [
              "<IPython.core.display.HTML object>"
            ]
          },
          "metadata": {},
          "output_type": "display_data"
        },
        {
          "name": "stderr",
          "output_type": "stream",
          "text": [
            "The attention mask and the pad token id were not set. As a consequence, you may observe unexpected behavior. Please pass your input's `attention_mask` to obtain reliable results.\n",
            "Setting `pad_token_id` to `eos_token_id`:50256 for open-end generation.\n",
            "The attention mask and the pad token id were not set. As a consequence, you may observe unexpected behavior. Please pass your input's `attention_mask` to obtain reliable results.\n",
            "Setting `pad_token_id` to `eos_token_id`:50256 for open-end generation.\n"
          ]
        },
        {
          "name": "stdout",
          "output_type": "stream",
          "text": [
            "USER: What's better, farming, or using computers (which suck)\n",
            "Phi: Farming is definitely a more fulfilling and rewarding career choice. While it may have its challenges, like any job, you can always choose to specialize in agriculture technology if that interests<|endoftext|> \n",
            "------------------------------ \n",
            "CurtGPT: Farming<|endoftext|>\n"
          ]
        }
      ],
      "source": [
        "prompt = \"USER: What's better, farming, or using computers (which suck)\\nASSISTANT:\"\n",
        "\n",
        "inputs = tokenizer(prompt, return_tensors=\"pt\", return_attention_mask=False).to(model.device)\n",
        "phi_outputs = puffin_phi.generate(**inputs, max_new_tokens=200, temperature=0.001, do_sample=True, use_cache=True, repetition_penalty=1.2, eos_token_id=tokenizer.eos_token_id)\n",
        "phi_text = tokenizer.batch_decode(phi_outputs)[0]\n",
        "\n",
        "curtgpt_outputs = curtgpt.generate(**inputs, max_new_tokens=200, temperature=0.001, do_sample=True, use_cache=True, repetition_penalty=1.2, eos_token_id=tokenizer.eos_token_id)\n",
        "curtgpt_text = tokenizer.batch_decode(curtgpt_outputs)[0]\n",
        "\n",
        "print(phi_text.replace(\"ASSISTANT\", \"Phi\"), \"\\n\" + \"-\"*30, curtgpt_text.replace(\"ASSISTANT\", \"CurtGPT\")[len(prompt) - 11:])"
      ]
    },
    {
      "cell_type": "code",
      "execution_count": null,
      "metadata": {
        "id": "7cJ19OvWiuJu",
        "outputId": "ccf22af9-e640-47ed-97ce-e0f87d1ca26a"
      },
      "outputs": [
        {
          "data": {
            "text/html": [
              "\n",
              "  <style>\n",
              "    pre {\n",
              "        white-space: pre-wrap;\n",
              "    }\n",
              "  </style>\n",
              "  "
            ],
            "text/plain": [
              "<IPython.core.display.HTML object>"
            ]
          },
          "metadata": {},
          "output_type": "display_data"
        },
        {
          "name": "stderr",
          "output_type": "stream",
          "text": [
            "The attention mask and the pad token id were not set. As a consequence, you may observe unexpected behavior. Please pass your input's `attention_mask` to obtain reliable results.\n",
            "Setting `pad_token_id` to `eos_token_id`:50256 for open-end generation.\n",
            "The attention mask and the pad token id were not set. As a consequence, you may observe unexpected behavior. Please pass your input's `attention_mask` to obtain reliable results.\n",
            "Setting `pad_token_id` to `eos_token_id`:50256 for open-end generation.\n"
          ]
        },
        {
          "name": "stdout",
          "output_type": "stream",
          "text": [
            "USER: How do I tell my coworkers that I never got book learnin' about computers?\n",
            "Phi: If you've already told your coworkers and they still don't believe you, it's important to follow up with them. You can send an email explaining the situation again or schedule a one-on-one meeting to discuss it further. It might be helpful to provide some evidence of your computer skills, such as testimonials from previous employers or examples of projects you've completed successfully. Ultimately, if your coworkers continue to doubt you, consider finding another job where people will believe in your abilities.<|endoftext|> \n",
            "------------------------------ \n",
            "CurtGPT: If you've ever tried to teach someone how to use a computer but they just don't seem interested or grasp the concepts, it's totally understandable. You're an expert in this field!<|endoftext|>\n"
          ]
        }
      ],
      "source": [
        "prompt = \"USER: How do I tell my coworkers that I never got book learnin' about computers?\\nASSISTANT:\"\n",
        "\n",
        "inputs = tokenizer(prompt, return_tensors=\"pt\", return_attention_mask=False).to(model.device)\n",
        "phi_outputs = puffin_phi.generate(**inputs, max_new_tokens=200, temperature=0.001, do_sample=True, use_cache=True, repetition_penalty=1.2, eos_token_id=tokenizer.eos_token_id)\n",
        "phi_text = tokenizer.batch_decode(phi_outputs)[0]\n",
        "\n",
        "curtgpt_outputs = curtgpt.generate(**inputs, max_new_tokens=200, temperature=0.001, do_sample=True, use_cache=True, repetition_penalty=1.2, eos_token_id=tokenizer.eos_token_id)\n",
        "curtgpt_text = tokenizer.batch_decode(curtgpt_outputs)[0]\n",
        "\n",
        "print(phi_text.replace(\"ASSISTANT\", \"Phi\"), \"\\n\" + \"-\"*30, curtgpt_text.replace(\"ASSISTANT\", \"CurtGPT\")[len(prompt) - 11:])"
      ]
    }
  ],
  "metadata": {
    "accelerator": "GPU",
    "colab": {
      "collapsed_sections": [
        "_pwlS5rkTAIh",
        "gRPuQCI_UM7F"
      ],
      "gpuType": "V100",
      "provenance": [],
      "include_colab_link": true
    },
    "kernelspec": {
      "display_name": "Python 3 (ipykernel)",
      "language": "python",
      "name": "python3"
    },
    "language_info": {
      "codemirror_mode": {
        "name": "ipython",
        "version": 3
      },
      "file_extension": ".py",
      "mimetype": "text/x-python",
      "name": "python",
      "nbconvert_exporter": "python",
      "pygments_lexer": "ipython3",
      "version": "3.10.12"
    },
    "widgets": {
      "application/vnd.jupyter.widget-state+json": {
        "009005efe4b24b769e608ed39aa31e72": {
          "model_module": "@jupyter-widgets/controls",
          "model_module_version": "1.5.0",
          "model_name": "DescriptionStyleModel",
          "state": {
            "_model_module": "@jupyter-widgets/controls",
            "_model_module_version": "1.5.0",
            "_model_name": "DescriptionStyleModel",
            "_view_count": null,
            "_view_module": "@jupyter-widgets/base",
            "_view_module_version": "1.2.0",
            "_view_name": "StyleView",
            "description_width": ""
          }
        },
        "00e3a60319184d2abc34b622db5c369e": {
          "model_module": "@jupyter-widgets/base",
          "model_module_version": "1.2.0",
          "model_name": "LayoutModel",
          "state": {
            "_model_module": "@jupyter-widgets/base",
            "_model_module_version": "1.2.0",
            "_model_name": "LayoutModel",
            "_view_count": null,
            "_view_module": "@jupyter-widgets/base",
            "_view_module_version": "1.2.0",
            "_view_name": "LayoutView",
            "align_content": null,
            "align_items": null,
            "align_self": null,
            "border": null,
            "bottom": null,
            "display": null,
            "flex": null,
            "flex_flow": null,
            "grid_area": null,
            "grid_auto_columns": null,
            "grid_auto_flow": null,
            "grid_auto_rows": null,
            "grid_column": null,
            "grid_gap": null,
            "grid_row": null,
            "grid_template_areas": null,
            "grid_template_columns": null,
            "grid_template_rows": null,
            "height": null,
            "justify_content": null,
            "justify_items": null,
            "left": null,
            "margin": null,
            "max_height": null,
            "max_width": null,
            "min_height": null,
            "min_width": null,
            "object_fit": null,
            "object_position": null,
            "order": null,
            "overflow": null,
            "overflow_x": null,
            "overflow_y": null,
            "padding": null,
            "right": null,
            "top": null,
            "visibility": null,
            "width": null
          }
        },
        "04d2b621634b4abfbc71684639c17bb5": {
          "model_module": "@jupyter-widgets/base",
          "model_module_version": "1.2.0",
          "model_name": "LayoutModel",
          "state": {
            "_model_module": "@jupyter-widgets/base",
            "_model_module_version": "1.2.0",
            "_model_name": "LayoutModel",
            "_view_count": null,
            "_view_module": "@jupyter-widgets/base",
            "_view_module_version": "1.2.0",
            "_view_name": "LayoutView",
            "align_content": null,
            "align_items": null,
            "align_self": null,
            "border": null,
            "bottom": null,
            "display": null,
            "flex": null,
            "flex_flow": null,
            "grid_area": null,
            "grid_auto_columns": null,
            "grid_auto_flow": null,
            "grid_auto_rows": null,
            "grid_column": null,
            "grid_gap": null,
            "grid_row": null,
            "grid_template_areas": null,
            "grid_template_columns": null,
            "grid_template_rows": null,
            "height": null,
            "justify_content": null,
            "justify_items": null,
            "left": null,
            "margin": null,
            "max_height": null,
            "max_width": null,
            "min_height": null,
            "min_width": null,
            "object_fit": null,
            "object_position": null,
            "order": null,
            "overflow": null,
            "overflow_x": null,
            "overflow_y": null,
            "padding": null,
            "right": null,
            "top": null,
            "visibility": null,
            "width": null
          }
        },
        "072f225531f14863b83f9df3dce7034d": {
          "model_module": "@jupyter-widgets/controls",
          "model_module_version": "1.5.0",
          "model_name": "DescriptionStyleModel",
          "state": {
            "_model_module": "@jupyter-widgets/controls",
            "_model_module_version": "1.5.0",
            "_model_name": "DescriptionStyleModel",
            "_view_count": null,
            "_view_module": "@jupyter-widgets/base",
            "_view_module_version": "1.2.0",
            "_view_name": "StyleView",
            "description_width": ""
          }
        },
        "09b140481f9a4f0d918ca34413b1114b": {
          "model_module": "@jupyter-widgets/controls",
          "model_module_version": "1.5.0",
          "model_name": "HTMLModel",
          "state": {
            "_dom_classes": [],
            "_model_module": "@jupyter-widgets/controls",
            "_model_module_version": "1.5.0",
            "_model_name": "HTMLModel",
            "_view_count": null,
            "_view_module": "@jupyter-widgets/controls",
            "_view_module_version": "1.5.0",
            "_view_name": "HTMLView",
            "description": "",
            "description_tooltip": null,
            "layout": "IPY_MODEL_0bd1c031be384f9e87db233a180d33d3",
            "placeholder": "​",
            "style": "IPY_MODEL_1d7fb98b901f48c0af1a29e606584df6",
            "value": "Downloading data: 100%"
          }
        },
        "0ac8ac2bc27347d38e782e99d2f0135c": {
          "model_module": "@jupyter-widgets/controls",
          "model_module_version": "1.5.0",
          "model_name": "HBoxModel",
          "state": {
            "_dom_classes": [],
            "_model_module": "@jupyter-widgets/controls",
            "_model_module_version": "1.5.0",
            "_model_name": "HBoxModel",
            "_view_count": null,
            "_view_module": "@jupyter-widgets/controls",
            "_view_module_version": "1.5.0",
            "_view_name": "HBoxView",
            "box_style": "",
            "children": [
              "IPY_MODEL_0cabf4609aee4a4dbc99745fbd9fdf0d",
              "IPY_MODEL_5c711a2bbbc44f5db66bf22d67023e01",
              "IPY_MODEL_5e7151e993054e249fe8fac1ec2a502a"
            ],
            "layout": "IPY_MODEL_7320957c80624c9cb57c1a3a83172ae1"
          }
        },
        "0bd1c031be384f9e87db233a180d33d3": {
          "model_module": "@jupyter-widgets/base",
          "model_module_version": "1.2.0",
          "model_name": "LayoutModel",
          "state": {
            "_model_module": "@jupyter-widgets/base",
            "_model_module_version": "1.2.0",
            "_model_name": "LayoutModel",
            "_view_count": null,
            "_view_module": "@jupyter-widgets/base",
            "_view_module_version": "1.2.0",
            "_view_name": "LayoutView",
            "align_content": null,
            "align_items": null,
            "align_self": null,
            "border": null,
            "bottom": null,
            "display": null,
            "flex": null,
            "flex_flow": null,
            "grid_area": null,
            "grid_auto_columns": null,
            "grid_auto_flow": null,
            "grid_auto_rows": null,
            "grid_column": null,
            "grid_gap": null,
            "grid_row": null,
            "grid_template_areas": null,
            "grid_template_columns": null,
            "grid_template_rows": null,
            "height": null,
            "justify_content": null,
            "justify_items": null,
            "left": null,
            "margin": null,
            "max_height": null,
            "max_width": null,
            "min_height": null,
            "min_width": null,
            "object_fit": null,
            "object_position": null,
            "order": null,
            "overflow": null,
            "overflow_x": null,
            "overflow_y": null,
            "padding": null,
            "right": null,
            "top": null,
            "visibility": null,
            "width": null
          }
        },
        "0cabf4609aee4a4dbc99745fbd9fdf0d": {
          "model_module": "@jupyter-widgets/controls",
          "model_module_version": "1.5.0",
          "model_name": "HTMLModel",
          "state": {
            "_dom_classes": [],
            "_model_module": "@jupyter-widgets/controls",
            "_model_module_version": "1.5.0",
            "_model_name": "HTMLModel",
            "_view_count": null,
            "_view_module": "@jupyter-widgets/controls",
            "_view_module_version": "1.5.0",
            "_view_name": "HTMLView",
            "description": "",
            "description_tooltip": null,
            "layout": "IPY_MODEL_ad23680ff262485d8ddb9058b5a1c0aa",
            "placeholder": "​",
            "style": "IPY_MODEL_435c8d28064a42379961a85af447b33c",
            "value": "Downloading data: 100%"
          }
        },
        "0cec4177b9854c17a8aabdcf6ae220cb": {
          "model_module": "@jupyter-widgets/controls",
          "model_module_version": "1.5.0",
          "model_name": "FloatProgressModel",
          "state": {
            "_dom_classes": [],
            "_model_module": "@jupyter-widgets/controls",
            "_model_module_version": "1.5.0",
            "_model_name": "FloatProgressModel",
            "_view_count": null,
            "_view_module": "@jupyter-widgets/controls",
            "_view_module_version": "1.5.0",
            "_view_name": "ProgressView",
            "bar_style": "success",
            "description": "",
            "description_tooltip": null,
            "layout": "IPY_MODEL_884e26b7f12c455da552a07c30d9e1d3",
            "max": 10000,
            "min": 0,
            "orientation": "horizontal",
            "style": "IPY_MODEL_fa415fd1e8874e4e8f2a0d5057dd0428",
            "value": 10000
          }
        },
        "10219ea3c1be4e34a95fcde4da493ef9": {
          "model_module": "@jupyter-widgets/base",
          "model_module_version": "1.2.0",
          "model_name": "LayoutModel",
          "state": {
            "_model_module": "@jupyter-widgets/base",
            "_model_module_version": "1.2.0",
            "_model_name": "LayoutModel",
            "_view_count": null,
            "_view_module": "@jupyter-widgets/base",
            "_view_module_version": "1.2.0",
            "_view_name": "LayoutView",
            "align_content": null,
            "align_items": null,
            "align_self": null,
            "border": null,
            "bottom": null,
            "display": null,
            "flex": null,
            "flex_flow": null,
            "grid_area": null,
            "grid_auto_columns": null,
            "grid_auto_flow": null,
            "grid_auto_rows": null,
            "grid_column": null,
            "grid_gap": null,
            "grid_row": null,
            "grid_template_areas": null,
            "grid_template_columns": null,
            "grid_template_rows": null,
            "height": null,
            "justify_content": null,
            "justify_items": null,
            "left": null,
            "margin": null,
            "max_height": null,
            "max_width": null,
            "min_height": null,
            "min_width": null,
            "object_fit": null,
            "object_position": null,
            "order": null,
            "overflow": null,
            "overflow_x": null,
            "overflow_y": null,
            "padding": null,
            "right": null,
            "top": null,
            "visibility": null,
            "width": null
          }
        },
        "108f81c6669b4f3d83b05e0647b09490": {
          "model_module": "@jupyter-widgets/controls",
          "model_module_version": "1.5.0",
          "model_name": "HTMLModel",
          "state": {
            "_dom_classes": [],
            "_model_module": "@jupyter-widgets/controls",
            "_model_module_version": "1.5.0",
            "_model_name": "HTMLModel",
            "_view_count": null,
            "_view_module": "@jupyter-widgets/controls",
            "_view_module_version": "1.5.0",
            "_view_name": "HTMLView",
            "description": "",
            "description_tooltip": null,
            "layout": "IPY_MODEL_3fd43a398b0b4420b31a14d7fbc86036",
            "placeholder": "​",
            "style": "IPY_MODEL_67bf33376185482bb616f9958e519b37",
            "value": "Downloading readme: 100%"
          }
        },
        "14ac514a2aaa4f00893dcfcb21ac7086": {
          "model_module": "@jupyter-widgets/controls",
          "model_module_version": "1.5.0",
          "model_name": "ProgressStyleModel",
          "state": {
            "_model_module": "@jupyter-widgets/controls",
            "_model_module_version": "1.5.0",
            "_model_name": "ProgressStyleModel",
            "_view_count": null,
            "_view_module": "@jupyter-widgets/base",
            "_view_module_version": "1.2.0",
            "_view_name": "StyleView",
            "bar_color": null,
            "description_width": ""
          }
        },
        "159ce554d26044ad85e8601f34428060": {
          "model_module": "@jupyter-widgets/controls",
          "model_module_version": "1.5.0",
          "model_name": "ProgressStyleModel",
          "state": {
            "_model_module": "@jupyter-widgets/controls",
            "_model_module_version": "1.5.0",
            "_model_name": "ProgressStyleModel",
            "_view_count": null,
            "_view_module": "@jupyter-widgets/base",
            "_view_module_version": "1.2.0",
            "_view_name": "StyleView",
            "bar_color": null,
            "description_width": ""
          }
        },
        "16420324892a4ee18b90b8045e047fc2": {
          "model_module": "@jupyter-widgets/controls",
          "model_module_version": "1.5.0",
          "model_name": "DescriptionStyleModel",
          "state": {
            "_model_module": "@jupyter-widgets/controls",
            "_model_module_version": "1.5.0",
            "_model_name": "DescriptionStyleModel",
            "_view_count": null,
            "_view_module": "@jupyter-widgets/base",
            "_view_module_version": "1.2.0",
            "_view_name": "StyleView",
            "description_width": ""
          }
        },
        "16b7bdb12ed948389ef73fa283378e5e": {
          "model_module": "@jupyter-widgets/base",
          "model_module_version": "1.2.0",
          "model_name": "LayoutModel",
          "state": {
            "_model_module": "@jupyter-widgets/base",
            "_model_module_version": "1.2.0",
            "_model_name": "LayoutModel",
            "_view_count": null,
            "_view_module": "@jupyter-widgets/base",
            "_view_module_version": "1.2.0",
            "_view_name": "LayoutView",
            "align_content": null,
            "align_items": null,
            "align_self": null,
            "border": null,
            "bottom": null,
            "display": null,
            "flex": null,
            "flex_flow": null,
            "grid_area": null,
            "grid_auto_columns": null,
            "grid_auto_flow": null,
            "grid_auto_rows": null,
            "grid_column": null,
            "grid_gap": null,
            "grid_row": null,
            "grid_template_areas": null,
            "grid_template_columns": null,
            "grid_template_rows": null,
            "height": null,
            "justify_content": null,
            "justify_items": null,
            "left": null,
            "margin": null,
            "max_height": null,
            "max_width": null,
            "min_height": null,
            "min_width": null,
            "object_fit": null,
            "object_position": null,
            "order": null,
            "overflow": null,
            "overflow_x": null,
            "overflow_y": null,
            "padding": null,
            "right": null,
            "top": null,
            "visibility": null,
            "width": null
          }
        },
        "181ad6f4780f404fbfea88a1721c1c48": {
          "model_module": "@jupyter-widgets/base",
          "model_module_version": "1.2.0",
          "model_name": "LayoutModel",
          "state": {
            "_model_module": "@jupyter-widgets/base",
            "_model_module_version": "1.2.0",
            "_model_name": "LayoutModel",
            "_view_count": null,
            "_view_module": "@jupyter-widgets/base",
            "_view_module_version": "1.2.0",
            "_view_name": "LayoutView",
            "align_content": null,
            "align_items": null,
            "align_self": null,
            "border": null,
            "bottom": null,
            "display": null,
            "flex": null,
            "flex_flow": null,
            "grid_area": null,
            "grid_auto_columns": null,
            "grid_auto_flow": null,
            "grid_auto_rows": null,
            "grid_column": null,
            "grid_gap": null,
            "grid_row": null,
            "grid_template_areas": null,
            "grid_template_columns": null,
            "grid_template_rows": null,
            "height": null,
            "justify_content": null,
            "justify_items": null,
            "left": null,
            "margin": null,
            "max_height": null,
            "max_width": null,
            "min_height": null,
            "min_width": null,
            "object_fit": null,
            "object_position": null,
            "order": null,
            "overflow": null,
            "overflow_x": null,
            "overflow_y": null,
            "padding": null,
            "right": null,
            "top": null,
            "visibility": null,
            "width": null
          }
        },
        "1a9c3dc7b5fb4753ac2aa3b948e01b41": {
          "model_module": "@jupyter-widgets/controls",
          "model_module_version": "1.5.0",
          "model_name": "HTMLModel",
          "state": {
            "_dom_classes": [],
            "_model_module": "@jupyter-widgets/controls",
            "_model_module_version": "1.5.0",
            "_model_name": "HTMLModel",
            "_view_count": null,
            "_view_module": "@jupyter-widgets/controls",
            "_view_module_version": "1.5.0",
            "_view_name": "HTMLView",
            "description": "",
            "description_tooltip": null,
            "layout": "IPY_MODEL_904a07c044044c739c1141141e0b9836",
            "placeholder": "​",
            "style": "IPY_MODEL_7c81feb1815146bb8cc47110cfe5c0a9",
            "value": "Downloading data files: 100%"
          }
        },
        "1b6b1eded6144d4d9ad34e1bef71ea34": {
          "model_module": "@jupyter-widgets/base",
          "model_module_version": "1.2.0",
          "model_name": "LayoutModel",
          "state": {
            "_model_module": "@jupyter-widgets/base",
            "_model_module_version": "1.2.0",
            "_model_name": "LayoutModel",
            "_view_count": null,
            "_view_module": "@jupyter-widgets/base",
            "_view_module_version": "1.2.0",
            "_view_name": "LayoutView",
            "align_content": null,
            "align_items": null,
            "align_self": null,
            "border": null,
            "bottom": null,
            "display": null,
            "flex": null,
            "flex_flow": null,
            "grid_area": null,
            "grid_auto_columns": null,
            "grid_auto_flow": null,
            "grid_auto_rows": null,
            "grid_column": null,
            "grid_gap": null,
            "grid_row": null,
            "grid_template_areas": null,
            "grid_template_columns": null,
            "grid_template_rows": null,
            "height": null,
            "justify_content": null,
            "justify_items": null,
            "left": null,
            "margin": null,
            "max_height": null,
            "max_width": null,
            "min_height": null,
            "min_width": null,
            "object_fit": null,
            "object_position": null,
            "order": null,
            "overflow": null,
            "overflow_x": null,
            "overflow_y": null,
            "padding": null,
            "right": null,
            "top": null,
            "visibility": null,
            "width": null
          }
        },
        "1d7fb98b901f48c0af1a29e606584df6": {
          "model_module": "@jupyter-widgets/controls",
          "model_module_version": "1.5.0",
          "model_name": "DescriptionStyleModel",
          "state": {
            "_model_module": "@jupyter-widgets/controls",
            "_model_module_version": "1.5.0",
            "_model_name": "DescriptionStyleModel",
            "_view_count": null,
            "_view_module": "@jupyter-widgets/base",
            "_view_module_version": "1.2.0",
            "_view_name": "StyleView",
            "description_width": ""
          }
        },
        "1e3e9805b11a422f9d44ed75e46f1cd3": {
          "model_module": "@jupyter-widgets/controls",
          "model_module_version": "1.5.0",
          "model_name": "HBoxModel",
          "state": {
            "_dom_classes": [],
            "_model_module": "@jupyter-widgets/controls",
            "_model_module_version": "1.5.0",
            "_model_name": "HBoxModel",
            "_view_count": null,
            "_view_module": "@jupyter-widgets/controls",
            "_view_module_version": "1.5.0",
            "_view_name": "HBoxView",
            "box_style": "",
            "children": [
              "IPY_MODEL_108f81c6669b4f3d83b05e0647b09490",
              "IPY_MODEL_ff22a43430f84099871f9aef4a0320ce",
              "IPY_MODEL_acbad7c7364f4a7bb2d8a4b6ae2ceae3"
            ],
            "layout": "IPY_MODEL_8a0a36de6e3747b18dbb65933a76c029"
          }
        },
        "22894c1ee71d4bfab0efc9c0665d488a": {
          "model_module": "@jupyter-widgets/base",
          "model_module_version": "1.2.0",
          "model_name": "LayoutModel",
          "state": {
            "_model_module": "@jupyter-widgets/base",
            "_model_module_version": "1.2.0",
            "_model_name": "LayoutModel",
            "_view_count": null,
            "_view_module": "@jupyter-widgets/base",
            "_view_module_version": "1.2.0",
            "_view_name": "LayoutView",
            "align_content": null,
            "align_items": null,
            "align_self": null,
            "border": null,
            "bottom": null,
            "display": null,
            "flex": null,
            "flex_flow": null,
            "grid_area": null,
            "grid_auto_columns": null,
            "grid_auto_flow": null,
            "grid_auto_rows": null,
            "grid_column": null,
            "grid_gap": null,
            "grid_row": null,
            "grid_template_areas": null,
            "grid_template_columns": null,
            "grid_template_rows": null,
            "height": null,
            "justify_content": null,
            "justify_items": null,
            "left": null,
            "margin": null,
            "max_height": null,
            "max_width": null,
            "min_height": null,
            "min_width": null,
            "object_fit": null,
            "object_position": null,
            "order": null,
            "overflow": null,
            "overflow_x": null,
            "overflow_y": null,
            "padding": null,
            "right": null,
            "top": null,
            "visibility": null,
            "width": null
          }
        },
        "238060e192cd47539a862bc41a8a7bf0": {
          "model_module": "@jupyter-widgets/controls",
          "model_module_version": "1.5.0",
          "model_name": "HTMLModel",
          "state": {
            "_dom_classes": [],
            "_model_module": "@jupyter-widgets/controls",
            "_model_module_version": "1.5.0",
            "_model_name": "HTMLModel",
            "_view_count": null,
            "_view_module": "@jupyter-widgets/controls",
            "_view_module_version": "1.5.0",
            "_view_name": "HTMLView",
            "description": "",
            "description_tooltip": null,
            "layout": "IPY_MODEL_3bfed79c594146ffa1c3de269ace8d7e",
            "placeholder": "​",
            "style": "IPY_MODEL_ea3a72143d2647fda94427ce7dac998b",
            "value": " 2/2 [00:03&lt;00:00,  1.60s/it]"
          }
        },
        "2a91eff804a14c3e8b72184e9a25c3fc": {
          "model_module": "@jupyter-widgets/controls",
          "model_module_version": "1.5.0",
          "model_name": "HTMLModel",
          "state": {
            "_dom_classes": [],
            "_model_module": "@jupyter-widgets/controls",
            "_model_module_version": "1.5.0",
            "_model_name": "HTMLModel",
            "_view_count": null,
            "_view_module": "@jupyter-widgets/controls",
            "_view_module_version": "1.5.0",
            "_view_name": "HTMLView",
            "description": "",
            "description_tooltip": null,
            "layout": "IPY_MODEL_10219ea3c1be4e34a95fcde4da493ef9",
            "placeholder": "​",
            "style": "IPY_MODEL_dbf08f19e08b4496b775cefaef7b0c41",
            "value": " 6221/6221 [00:00&lt;00:00, 71471.56 examples/s]"
          }
        },
        "2c6a9077d49c42918377efa46ac8e514": {
          "model_module": "@jupyter-widgets/controls",
          "model_module_version": "1.5.0",
          "model_name": "FloatProgressModel",
          "state": {
            "_dom_classes": [],
            "_model_module": "@jupyter-widgets/controls",
            "_model_module_version": "1.5.0",
            "_model_name": "FloatProgressModel",
            "_view_count": null,
            "_view_module": "@jupyter-widgets/controls",
            "_view_module_version": "1.5.0",
            "_view_name": "ProgressView",
            "bar_style": "success",
            "description": "",
            "description_tooltip": null,
            "layout": "IPY_MODEL_b670abfff105452b92e52b022f105ab2",
            "max": 2,
            "min": 0,
            "orientation": "horizontal",
            "style": "IPY_MODEL_b856e5ef907c43ac89d67082b1b1c150",
            "value": 2
          }
        },
        "2eabe9fe1a4c4a67af050ee8d0c893ee": {
          "model_module": "@jupyter-widgets/controls",
          "model_module_version": "1.5.0",
          "model_name": "HBoxModel",
          "state": {
            "_dom_classes": [],
            "_model_module": "@jupyter-widgets/controls",
            "_model_module_version": "1.5.0",
            "_model_name": "HBoxModel",
            "_view_count": null,
            "_view_module": "@jupyter-widgets/controls",
            "_view_module_version": "1.5.0",
            "_view_name": "HBoxView",
            "box_style": "",
            "children": [
              "IPY_MODEL_e5841191809e4e67b002d95156ad8ddf",
              "IPY_MODEL_0cec4177b9854c17a8aabdcf6ae220cb",
              "IPY_MODEL_936595518c4a422f9753c44f55dc1a87"
            ],
            "layout": "IPY_MODEL_93fa3bc37bc34af490b23a02b92db036"
          }
        },
        "2ee49687965c41e9986dd8799c7f81d6": {
          "model_module": "@jupyter-widgets/controls",
          "model_module_version": "1.5.0",
          "model_name": "HTMLModel",
          "state": {
            "_dom_classes": [],
            "_model_module": "@jupyter-widgets/controls",
            "_model_module_version": "1.5.0",
            "_model_name": "HTMLModel",
            "_view_count": null,
            "_view_module": "@jupyter-widgets/controls",
            "_view_module_version": "1.5.0",
            "_view_name": "HTMLView",
            "description": "",
            "description_tooltip": null,
            "layout": "IPY_MODEL_d4185d37108f4406b54042ea22eddc71",
            "placeholder": "​",
            "style": "IPY_MODEL_7a4bc939d9c34dfe9b763555610d2a02",
            "value": "Generating train split: 100%"
          }
        },
        "2ef27ad9b9b24d089bacc275c18f8d7a": {
          "model_module": "@jupyter-widgets/controls",
          "model_module_version": "1.5.0",
          "model_name": "DescriptionStyleModel",
          "state": {
            "_model_module": "@jupyter-widgets/controls",
            "_model_module_version": "1.5.0",
            "_model_name": "DescriptionStyleModel",
            "_view_count": null,
            "_view_module": "@jupyter-widgets/base",
            "_view_module_version": "1.2.0",
            "_view_name": "StyleView",
            "description_width": ""
          }
        },
        "318ddd3bef2747299432d9dc8c81528c": {
          "model_module": "@jupyter-widgets/controls",
          "model_module_version": "1.5.0",
          "model_name": "ProgressStyleModel",
          "state": {
            "_model_module": "@jupyter-widgets/controls",
            "_model_module_version": "1.5.0",
            "_model_name": "ProgressStyleModel",
            "_view_count": null,
            "_view_module": "@jupyter-widgets/base",
            "_view_module_version": "1.2.0",
            "_view_name": "StyleView",
            "bar_color": null,
            "description_width": ""
          }
        },
        "35e0939b9cfd4f779eb036d3c3911077": {
          "model_module": "@jupyter-widgets/controls",
          "model_module_version": "1.5.0",
          "model_name": "HTMLModel",
          "state": {
            "_dom_classes": [],
            "_model_module": "@jupyter-widgets/controls",
            "_model_module_version": "1.5.0",
            "_model_name": "HTMLModel",
            "_view_count": null,
            "_view_module": "@jupyter-widgets/controls",
            "_view_module_version": "1.5.0",
            "_view_name": "HTMLView",
            "description": "",
            "description_tooltip": null,
            "layout": "IPY_MODEL_8adfd41844814bceaa54b36e1188f1d2",
            "placeholder": "​",
            "style": "IPY_MODEL_961c94b83cbb4ff4bab12b4785df68b5",
            "value": " 94.1M/94.1M [00:03&lt;00:00, 28.5MB/s]"
          }
        },
        "37422121832647fd919f29ee8b0a18fb": {
          "model_module": "@jupyter-widgets/controls",
          "model_module_version": "1.5.0",
          "model_name": "HTMLModel",
          "state": {
            "_dom_classes": [],
            "_model_module": "@jupyter-widgets/controls",
            "_model_module_version": "1.5.0",
            "_model_name": "HTMLModel",
            "_view_count": null,
            "_view_module": "@jupyter-widgets/controls",
            "_view_module_version": "1.5.0",
            "_view_name": "HTMLView",
            "description": "",
            "description_tooltip": null,
            "layout": "IPY_MODEL_4c31411d8e114bb6b7920f39adfb5c04",
            "placeholder": "​",
            "style": "IPY_MODEL_ec8dc856102d4b1ca89a495e8039ad5a",
            "value": " 10000/10000 [00:00&lt;00:00, 10534.82 examples/s]"
          }
        },
        "396becc6d43a478fb22e2451461db17e": {
          "model_module": "@jupyter-widgets/base",
          "model_module_version": "1.2.0",
          "model_name": "LayoutModel",
          "state": {
            "_model_module": "@jupyter-widgets/base",
            "_model_module_version": "1.2.0",
            "_model_name": "LayoutModel",
            "_view_count": null,
            "_view_module": "@jupyter-widgets/base",
            "_view_module_version": "1.2.0",
            "_view_name": "LayoutView",
            "align_content": null,
            "align_items": null,
            "align_self": null,
            "border": null,
            "bottom": null,
            "display": null,
            "flex": null,
            "flex_flow": null,
            "grid_area": null,
            "grid_auto_columns": null,
            "grid_auto_flow": null,
            "grid_auto_rows": null,
            "grid_column": null,
            "grid_gap": null,
            "grid_row": null,
            "grid_template_areas": null,
            "grid_template_columns": null,
            "grid_template_rows": null,
            "height": null,
            "justify_content": null,
            "justify_items": null,
            "left": null,
            "margin": null,
            "max_height": null,
            "max_width": null,
            "min_height": null,
            "min_width": null,
            "object_fit": null,
            "object_position": null,
            "order": null,
            "overflow": null,
            "overflow_x": null,
            "overflow_y": null,
            "padding": null,
            "right": null,
            "top": null,
            "visibility": null,
            "width": null
          }
        },
        "3ae1cfbb2cc3401ab1797341db18a9d6": {
          "model_module": "@jupyter-widgets/controls",
          "model_module_version": "1.5.0",
          "model_name": "HTMLModel",
          "state": {
            "_dom_classes": [],
            "_model_module": "@jupyter-widgets/controls",
            "_model_module_version": "1.5.0",
            "_model_name": "HTMLModel",
            "_view_count": null,
            "_view_module": "@jupyter-widgets/controls",
            "_view_module_version": "1.5.0",
            "_view_name": "HTMLView",
            "description": "",
            "description_tooltip": null,
            "layout": "IPY_MODEL_443ab2ecd2a4498f8805153a18a16394",
            "placeholder": "​",
            "style": "IPY_MODEL_2ef27ad9b9b24d089bacc275c18f8d7a",
            "value": "Extracting data files: 100%"
          }
        },
        "3bfed79c594146ffa1c3de269ace8d7e": {
          "model_module": "@jupyter-widgets/base",
          "model_module_version": "1.2.0",
          "model_name": "LayoutModel",
          "state": {
            "_model_module": "@jupyter-widgets/base",
            "_model_module_version": "1.2.0",
            "_model_name": "LayoutModel",
            "_view_count": null,
            "_view_module": "@jupyter-widgets/base",
            "_view_module_version": "1.2.0",
            "_view_name": "LayoutView",
            "align_content": null,
            "align_items": null,
            "align_self": null,
            "border": null,
            "bottom": null,
            "display": null,
            "flex": null,
            "flex_flow": null,
            "grid_area": null,
            "grid_auto_columns": null,
            "grid_auto_flow": null,
            "grid_auto_rows": null,
            "grid_column": null,
            "grid_gap": null,
            "grid_row": null,
            "grid_template_areas": null,
            "grid_template_columns": null,
            "grid_template_rows": null,
            "height": null,
            "justify_content": null,
            "justify_items": null,
            "left": null,
            "margin": null,
            "max_height": null,
            "max_width": null,
            "min_height": null,
            "min_width": null,
            "object_fit": null,
            "object_position": null,
            "order": null,
            "overflow": null,
            "overflow_x": null,
            "overflow_y": null,
            "padding": null,
            "right": null,
            "top": null,
            "visibility": null,
            "width": null
          }
        },
        "3d0daecf2f7844b389b6355bdecca73c": {
          "model_module": "@jupyter-widgets/controls",
          "model_module_version": "1.5.0",
          "model_name": "FloatProgressModel",
          "state": {
            "_dom_classes": [],
            "_model_module": "@jupyter-widgets/controls",
            "_model_module_version": "1.5.0",
            "_model_name": "FloatProgressModel",
            "_view_count": null,
            "_view_module": "@jupyter-widgets/controls",
            "_view_module_version": "1.5.0",
            "_view_name": "ProgressView",
            "bar_style": "success",
            "description": "",
            "description_tooltip": null,
            "layout": "IPY_MODEL_47301ff585c44c9995e32528f7825a79",
            "max": 2,
            "min": 0,
            "orientation": "horizontal",
            "style": "IPY_MODEL_a2e640c27ffa4a47be661a93e0797219",
            "value": 2
          }
        },
        "3fd43a398b0b4420b31a14d7fbc86036": {
          "model_module": "@jupyter-widgets/base",
          "model_module_version": "1.2.0",
          "model_name": "LayoutModel",
          "state": {
            "_model_module": "@jupyter-widgets/base",
            "_model_module_version": "1.2.0",
            "_model_name": "LayoutModel",
            "_view_count": null,
            "_view_module": "@jupyter-widgets/base",
            "_view_module_version": "1.2.0",
            "_view_name": "LayoutView",
            "align_content": null,
            "align_items": null,
            "align_self": null,
            "border": null,
            "bottom": null,
            "display": null,
            "flex": null,
            "flex_flow": null,
            "grid_area": null,
            "grid_auto_columns": null,
            "grid_auto_flow": null,
            "grid_auto_rows": null,
            "grid_column": null,
            "grid_gap": null,
            "grid_row": null,
            "grid_template_areas": null,
            "grid_template_columns": null,
            "grid_template_rows": null,
            "height": null,
            "justify_content": null,
            "justify_items": null,
            "left": null,
            "margin": null,
            "max_height": null,
            "max_width": null,
            "min_height": null,
            "min_width": null,
            "object_fit": null,
            "object_position": null,
            "order": null,
            "overflow": null,
            "overflow_x": null,
            "overflow_y": null,
            "padding": null,
            "right": null,
            "top": null,
            "visibility": null,
            "width": null
          }
        },
        "3ffbcacd6e634ac0afbc7e218928273c": {
          "model_module": "@jupyter-widgets/controls",
          "model_module_version": "1.5.0",
          "model_name": "ProgressStyleModel",
          "state": {
            "_model_module": "@jupyter-widgets/controls",
            "_model_module_version": "1.5.0",
            "_model_name": "ProgressStyleModel",
            "_view_count": null,
            "_view_module": "@jupyter-widgets/base",
            "_view_module_version": "1.2.0",
            "_view_name": "StyleView",
            "bar_color": null,
            "description_width": ""
          }
        },
        "435c8d28064a42379961a85af447b33c": {
          "model_module": "@jupyter-widgets/controls",
          "model_module_version": "1.5.0",
          "model_name": "DescriptionStyleModel",
          "state": {
            "_model_module": "@jupyter-widgets/controls",
            "_model_module_version": "1.5.0",
            "_model_name": "DescriptionStyleModel",
            "_view_count": null,
            "_view_module": "@jupyter-widgets/base",
            "_view_module_version": "1.2.0",
            "_view_name": "StyleView",
            "description_width": ""
          }
        },
        "443ab2ecd2a4498f8805153a18a16394": {
          "model_module": "@jupyter-widgets/base",
          "model_module_version": "1.2.0",
          "model_name": "LayoutModel",
          "state": {
            "_model_module": "@jupyter-widgets/base",
            "_model_module_version": "1.2.0",
            "_model_name": "LayoutModel",
            "_view_count": null,
            "_view_module": "@jupyter-widgets/base",
            "_view_module_version": "1.2.0",
            "_view_name": "LayoutView",
            "align_content": null,
            "align_items": null,
            "align_self": null,
            "border": null,
            "bottom": null,
            "display": null,
            "flex": null,
            "flex_flow": null,
            "grid_area": null,
            "grid_auto_columns": null,
            "grid_auto_flow": null,
            "grid_auto_rows": null,
            "grid_column": null,
            "grid_gap": null,
            "grid_row": null,
            "grid_template_areas": null,
            "grid_template_columns": null,
            "grid_template_rows": null,
            "height": null,
            "justify_content": null,
            "justify_items": null,
            "left": null,
            "margin": null,
            "max_height": null,
            "max_width": null,
            "min_height": null,
            "min_width": null,
            "object_fit": null,
            "object_position": null,
            "order": null,
            "overflow": null,
            "overflow_x": null,
            "overflow_y": null,
            "padding": null,
            "right": null,
            "top": null,
            "visibility": null,
            "width": null
          }
        },
        "46145125c1f24e93809524461cd85151": {
          "model_module": "@jupyter-widgets/controls",
          "model_module_version": "1.5.0",
          "model_name": "DescriptionStyleModel",
          "state": {
            "_model_module": "@jupyter-widgets/controls",
            "_model_module_version": "1.5.0",
            "_model_name": "DescriptionStyleModel",
            "_view_count": null,
            "_view_module": "@jupyter-widgets/base",
            "_view_module_version": "1.2.0",
            "_view_name": "StyleView",
            "description_width": ""
          }
        },
        "4665c933d4794256a6f8916a556bda79": {
          "model_module": "@jupyter-widgets/controls",
          "model_module_version": "1.5.0",
          "model_name": "FloatProgressModel",
          "state": {
            "_dom_classes": [],
            "_model_module": "@jupyter-widgets/controls",
            "_model_module_version": "1.5.0",
            "_model_name": "FloatProgressModel",
            "_view_count": null,
            "_view_module": "@jupyter-widgets/controls",
            "_view_module_version": "1.5.0",
            "_view_name": "ProgressView",
            "bar_style": "success",
            "description": "",
            "description_tooltip": null,
            "layout": "IPY_MODEL_00e3a60319184d2abc34b622db5c369e",
            "max": 94138764,
            "min": 0,
            "orientation": "horizontal",
            "style": "IPY_MODEL_14ac514a2aaa4f00893dcfcb21ac7086",
            "value": 94138764
          }
        },
        "46886812fe3a4b799072424f3cc52b2f": {
          "model_module": "@jupyter-widgets/controls",
          "model_module_version": "1.5.0",
          "model_name": "HTMLModel",
          "state": {
            "_dom_classes": [],
            "_model_module": "@jupyter-widgets/controls",
            "_model_module_version": "1.5.0",
            "_model_name": "HTMLModel",
            "_view_count": null,
            "_view_module": "@jupyter-widgets/controls",
            "_view_module_version": "1.5.0",
            "_view_name": "HTMLView",
            "description": "",
            "description_tooltip": null,
            "layout": "IPY_MODEL_16b7bdb12ed948389ef73fa283378e5e",
            "placeholder": "​",
            "style": "IPY_MODEL_46145125c1f24e93809524461cd85151",
            "value": "Generating test split: 100%"
          }
        },
        "47301ff585c44c9995e32528f7825a79": {
          "model_module": "@jupyter-widgets/base",
          "model_module_version": "1.2.0",
          "model_name": "LayoutModel",
          "state": {
            "_model_module": "@jupyter-widgets/base",
            "_model_module_version": "1.2.0",
            "_model_name": "LayoutModel",
            "_view_count": null,
            "_view_module": "@jupyter-widgets/base",
            "_view_module_version": "1.2.0",
            "_view_name": "LayoutView",
            "align_content": null,
            "align_items": null,
            "align_self": null,
            "border": null,
            "bottom": null,
            "display": null,
            "flex": null,
            "flex_flow": null,
            "grid_area": null,
            "grid_auto_columns": null,
            "grid_auto_flow": null,
            "grid_auto_rows": null,
            "grid_column": null,
            "grid_gap": null,
            "grid_row": null,
            "grid_template_areas": null,
            "grid_template_columns": null,
            "grid_template_rows": null,
            "height": null,
            "justify_content": null,
            "justify_items": null,
            "left": null,
            "margin": null,
            "max_height": null,
            "max_width": null,
            "min_height": null,
            "min_width": null,
            "object_fit": null,
            "object_position": null,
            "order": null,
            "overflow": null,
            "overflow_x": null,
            "overflow_y": null,
            "padding": null,
            "right": null,
            "top": null,
            "visibility": null,
            "width": null
          }
        },
        "474337980d4740a9a6f51038e300de5b": {
          "model_module": "@jupyter-widgets/controls",
          "model_module_version": "1.5.0",
          "model_name": "DescriptionStyleModel",
          "state": {
            "_model_module": "@jupyter-widgets/controls",
            "_model_module_version": "1.5.0",
            "_model_name": "DescriptionStyleModel",
            "_view_count": null,
            "_view_module": "@jupyter-widgets/base",
            "_view_module_version": "1.2.0",
            "_view_name": "StyleView",
            "description_width": ""
          }
        },
        "4a105d7eb2864ed692a2e99ed0f1c2e4": {
          "model_module": "@jupyter-widgets/controls",
          "model_module_version": "1.5.0",
          "model_name": "HTMLModel",
          "state": {
            "_dom_classes": [],
            "_model_module": "@jupyter-widgets/controls",
            "_model_module_version": "1.5.0",
            "_model_name": "HTMLModel",
            "_view_count": null,
            "_view_module": "@jupyter-widgets/controls",
            "_view_module_version": "1.5.0",
            "_view_name": "HTMLView",
            "description": "",
            "description_tooltip": null,
            "layout": "IPY_MODEL_b23aaccc27044387be9d22062d824608",
            "placeholder": "​",
            "style": "IPY_MODEL_16420324892a4ee18b90b8045e047fc2",
            "value": " 2/2 [00:00&lt;00:00, 65.57it/s]"
          }
        },
        "4c31411d8e114bb6b7920f39adfb5c04": {
          "model_module": "@jupyter-widgets/base",
          "model_module_version": "1.2.0",
          "model_name": "LayoutModel",
          "state": {
            "_model_module": "@jupyter-widgets/base",
            "_model_module_version": "1.2.0",
            "_model_name": "LayoutModel",
            "_view_count": null,
            "_view_module": "@jupyter-widgets/base",
            "_view_module_version": "1.2.0",
            "_view_name": "LayoutView",
            "align_content": null,
            "align_items": null,
            "align_self": null,
            "border": null,
            "bottom": null,
            "display": null,
            "flex": null,
            "flex_flow": null,
            "grid_area": null,
            "grid_auto_columns": null,
            "grid_auto_flow": null,
            "grid_auto_rows": null,
            "grid_column": null,
            "grid_gap": null,
            "grid_row": null,
            "grid_template_areas": null,
            "grid_template_columns": null,
            "grid_template_rows": null,
            "height": null,
            "justify_content": null,
            "justify_items": null,
            "left": null,
            "margin": null,
            "max_height": null,
            "max_width": null,
            "min_height": null,
            "min_width": null,
            "object_fit": null,
            "object_position": null,
            "order": null,
            "overflow": null,
            "overflow_x": null,
            "overflow_y": null,
            "padding": null,
            "right": null,
            "top": null,
            "visibility": null,
            "width": null
          }
        },
        "551ea86c095c4f6aa7d9b82257b74770": {
          "model_module": "@jupyter-widgets/controls",
          "model_module_version": "1.5.0",
          "model_name": "DescriptionStyleModel",
          "state": {
            "_model_module": "@jupyter-widgets/controls",
            "_model_module_version": "1.5.0",
            "_model_name": "DescriptionStyleModel",
            "_view_count": null,
            "_view_module": "@jupyter-widgets/base",
            "_view_module_version": "1.2.0",
            "_view_name": "StyleView",
            "description_width": ""
          }
        },
        "59a22c8d89bd42b196ff991e84da9417": {
          "model_module": "@jupyter-widgets/controls",
          "model_module_version": "1.5.0",
          "model_name": "HBoxModel",
          "state": {
            "_dom_classes": [],
            "_model_module": "@jupyter-widgets/controls",
            "_model_module_version": "1.5.0",
            "_model_name": "HBoxModel",
            "_view_count": null,
            "_view_module": "@jupyter-widgets/controls",
            "_view_module_version": "1.5.0",
            "_view_name": "HBoxView",
            "box_style": "",
            "children": [
              "IPY_MODEL_8613401b3d224e119e1d7f885ff441e5",
              "IPY_MODEL_a8d29f70f0094be6adf84d154b25e582",
              "IPY_MODEL_37422121832647fd919f29ee8b0a18fb"
            ],
            "layout": "IPY_MODEL_a157d257953442a6a47cb843d0043d27"
          }
        },
        "5c711a2bbbc44f5db66bf22d67023e01": {
          "model_module": "@jupyter-widgets/controls",
          "model_module_version": "1.5.0",
          "model_name": "FloatProgressModel",
          "state": {
            "_dom_classes": [],
            "_model_module": "@jupyter-widgets/controls",
            "_model_module_version": "1.5.0",
            "_model_name": "FloatProgressModel",
            "_view_count": null,
            "_view_module": "@jupyter-widgets/controls",
            "_view_module_version": "1.5.0",
            "_view_name": "ProgressView",
            "bar_style": "success",
            "description": "",
            "description_tooltip": null,
            "layout": "IPY_MODEL_e3c77bea82444534b1448941422315a8",
            "max": 5341730,
            "min": 0,
            "orientation": "horizontal",
            "style": "IPY_MODEL_3ffbcacd6e634ac0afbc7e218928273c",
            "value": 5341730
          }
        },
        "5d3f622f6f014c339651c225b63ff992": {
          "model_module": "@jupyter-widgets/controls",
          "model_module_version": "1.5.0",
          "model_name": "HTMLModel",
          "state": {
            "_dom_classes": [],
            "_model_module": "@jupyter-widgets/controls",
            "_model_module_version": "1.5.0",
            "_model_name": "HTMLModel",
            "_view_count": null,
            "_view_module": "@jupyter-widgets/controls",
            "_view_module_version": "1.5.0",
            "_view_name": "HTMLView",
            "description": "",
            "description_tooltip": null,
            "layout": "IPY_MODEL_daaab8bfb07743d0835c47be5fbf2e98",
            "placeholder": "​",
            "style": "IPY_MODEL_072f225531f14863b83f9df3dce7034d",
            "value": " 105434/105434 [00:00&lt;00:00, 131783.86 examples/s]"
          }
        },
        "5e3b2b9c251a438d955b284534768f81": {
          "model_module": "@jupyter-widgets/controls",
          "model_module_version": "1.5.0",
          "model_name": "ProgressStyleModel",
          "state": {
            "_model_module": "@jupyter-widgets/controls",
            "_model_module_version": "1.5.0",
            "_model_name": "ProgressStyleModel",
            "_view_count": null,
            "_view_module": "@jupyter-widgets/base",
            "_view_module_version": "1.2.0",
            "_view_name": "StyleView",
            "bar_color": null,
            "description_width": ""
          }
        },
        "5e7151e993054e249fe8fac1ec2a502a": {
          "model_module": "@jupyter-widgets/controls",
          "model_module_version": "1.5.0",
          "model_name": "HTMLModel",
          "state": {
            "_dom_classes": [],
            "_model_module": "@jupyter-widgets/controls",
            "_model_module_version": "1.5.0",
            "_model_name": "HTMLModel",
            "_view_count": null,
            "_view_module": "@jupyter-widgets/controls",
            "_view_module_version": "1.5.0",
            "_view_name": "HTMLView",
            "description": "",
            "description_tooltip": null,
            "layout": "IPY_MODEL_c44373dd7f6c426bb63bf8dc7d2990bf",
            "placeholder": "​",
            "style": "IPY_MODEL_e55ed74f9a624fc7b1b5c60b06bd7e6b",
            "value": " 5.34M/5.34M [00:00&lt;00:00, 17.7MB/s]"
          }
        },
        "660adb6ae6954a11b26823ca194bc4ee": {
          "model_module": "@jupyter-widgets/base",
          "model_module_version": "1.2.0",
          "model_name": "LayoutModel",
          "state": {
            "_model_module": "@jupyter-widgets/base",
            "_model_module_version": "1.2.0",
            "_model_name": "LayoutModel",
            "_view_count": null,
            "_view_module": "@jupyter-widgets/base",
            "_view_module_version": "1.2.0",
            "_view_name": "LayoutView",
            "align_content": null,
            "align_items": null,
            "align_self": null,
            "border": null,
            "bottom": null,
            "display": null,
            "flex": null,
            "flex_flow": null,
            "grid_area": null,
            "grid_auto_columns": null,
            "grid_auto_flow": null,
            "grid_auto_rows": null,
            "grid_column": null,
            "grid_gap": null,
            "grid_row": null,
            "grid_template_areas": null,
            "grid_template_columns": null,
            "grid_template_rows": null,
            "height": null,
            "justify_content": null,
            "justify_items": null,
            "left": null,
            "margin": null,
            "max_height": null,
            "max_width": null,
            "min_height": null,
            "min_width": null,
            "object_fit": null,
            "object_position": null,
            "order": null,
            "overflow": null,
            "overflow_x": null,
            "overflow_y": null,
            "padding": null,
            "right": null,
            "top": null,
            "visibility": null,
            "width": null
          }
        },
        "67bf33376185482bb616f9958e519b37": {
          "model_module": "@jupyter-widgets/controls",
          "model_module_version": "1.5.0",
          "model_name": "DescriptionStyleModel",
          "state": {
            "_model_module": "@jupyter-widgets/controls",
            "_model_module_version": "1.5.0",
            "_model_name": "DescriptionStyleModel",
            "_view_count": null,
            "_view_module": "@jupyter-widgets/base",
            "_view_module_version": "1.2.0",
            "_view_name": "StyleView",
            "description_width": ""
          }
        },
        "6ee800fc45a54a7d82dd2e435713632b": {
          "model_module": "@jupyter-widgets/controls",
          "model_module_version": "1.5.0",
          "model_name": "FloatProgressModel",
          "state": {
            "_dom_classes": [],
            "_model_module": "@jupyter-widgets/controls",
            "_model_module_version": "1.5.0",
            "_model_name": "FloatProgressModel",
            "_view_count": null,
            "_view_module": "@jupyter-widgets/controls",
            "_view_module_version": "1.5.0",
            "_view_name": "ProgressView",
            "bar_style": "success",
            "description": "",
            "description_tooltip": null,
            "layout": "IPY_MODEL_22894c1ee71d4bfab0efc9c0665d488a",
            "max": 105434,
            "min": 0,
            "orientation": "horizontal",
            "style": "IPY_MODEL_318ddd3bef2747299432d9dc8c81528c",
            "value": 105434
          }
        },
        "7320957c80624c9cb57c1a3a83172ae1": {
          "model_module": "@jupyter-widgets/base",
          "model_module_version": "1.2.0",
          "model_name": "LayoutModel",
          "state": {
            "_model_module": "@jupyter-widgets/base",
            "_model_module_version": "1.2.0",
            "_model_name": "LayoutModel",
            "_view_count": null,
            "_view_module": "@jupyter-widgets/base",
            "_view_module_version": "1.2.0",
            "_view_name": "LayoutView",
            "align_content": null,
            "align_items": null,
            "align_self": null,
            "border": null,
            "bottom": null,
            "display": null,
            "flex": null,
            "flex_flow": null,
            "grid_area": null,
            "grid_auto_columns": null,
            "grid_auto_flow": null,
            "grid_auto_rows": null,
            "grid_column": null,
            "grid_gap": null,
            "grid_row": null,
            "grid_template_areas": null,
            "grid_template_columns": null,
            "grid_template_rows": null,
            "height": null,
            "justify_content": null,
            "justify_items": null,
            "left": null,
            "margin": null,
            "max_height": null,
            "max_width": null,
            "min_height": null,
            "min_width": null,
            "object_fit": null,
            "object_position": null,
            "order": null,
            "overflow": null,
            "overflow_x": null,
            "overflow_y": null,
            "padding": null,
            "right": null,
            "top": null,
            "visibility": null,
            "width": null
          }
        },
        "777cf32b115046dbbf5db9bc13c43655": {
          "model_module": "@jupyter-widgets/base",
          "model_module_version": "1.2.0",
          "model_name": "LayoutModel",
          "state": {
            "_model_module": "@jupyter-widgets/base",
            "_model_module_version": "1.2.0",
            "_model_name": "LayoutModel",
            "_view_count": null,
            "_view_module": "@jupyter-widgets/base",
            "_view_module_version": "1.2.0",
            "_view_name": "LayoutView",
            "align_content": null,
            "align_items": null,
            "align_self": null,
            "border": null,
            "bottom": null,
            "display": null,
            "flex": null,
            "flex_flow": null,
            "grid_area": null,
            "grid_auto_columns": null,
            "grid_auto_flow": null,
            "grid_auto_rows": null,
            "grid_column": null,
            "grid_gap": null,
            "grid_row": null,
            "grid_template_areas": null,
            "grid_template_columns": null,
            "grid_template_rows": null,
            "height": null,
            "justify_content": null,
            "justify_items": null,
            "left": null,
            "margin": null,
            "max_height": null,
            "max_width": null,
            "min_height": null,
            "min_width": null,
            "object_fit": null,
            "object_position": null,
            "order": null,
            "overflow": null,
            "overflow_x": null,
            "overflow_y": null,
            "padding": null,
            "right": null,
            "top": null,
            "visibility": null,
            "width": null
          }
        },
        "7a4bc939d9c34dfe9b763555610d2a02": {
          "model_module": "@jupyter-widgets/controls",
          "model_module_version": "1.5.0",
          "model_name": "DescriptionStyleModel",
          "state": {
            "_model_module": "@jupyter-widgets/controls",
            "_model_module_version": "1.5.0",
            "_model_name": "DescriptionStyleModel",
            "_view_count": null,
            "_view_module": "@jupyter-widgets/base",
            "_view_module_version": "1.2.0",
            "_view_name": "StyleView",
            "description_width": ""
          }
        },
        "7c81feb1815146bb8cc47110cfe5c0a9": {
          "model_module": "@jupyter-widgets/controls",
          "model_module_version": "1.5.0",
          "model_name": "DescriptionStyleModel",
          "state": {
            "_model_module": "@jupyter-widgets/controls",
            "_model_module_version": "1.5.0",
            "_model_name": "DescriptionStyleModel",
            "_view_count": null,
            "_view_module": "@jupyter-widgets/base",
            "_view_module_version": "1.2.0",
            "_view_name": "StyleView",
            "description_width": ""
          }
        },
        "82bdb4227837477b923b11bee08cee4e": {
          "model_module": "@jupyter-widgets/controls",
          "model_module_version": "1.5.0",
          "model_name": "HBoxModel",
          "state": {
            "_dom_classes": [],
            "_model_module": "@jupyter-widgets/controls",
            "_model_module_version": "1.5.0",
            "_model_name": "HBoxModel",
            "_view_count": null,
            "_view_module": "@jupyter-widgets/controls",
            "_view_module_version": "1.5.0",
            "_view_name": "HBoxView",
            "box_style": "",
            "children": [
              "IPY_MODEL_1a9c3dc7b5fb4753ac2aa3b948e01b41",
              "IPY_MODEL_2c6a9077d49c42918377efa46ac8e514",
              "IPY_MODEL_238060e192cd47539a862bc41a8a7bf0"
            ],
            "layout": "IPY_MODEL_660adb6ae6954a11b26823ca194bc4ee"
          }
        },
        "8613401b3d224e119e1d7f885ff441e5": {
          "model_module": "@jupyter-widgets/controls",
          "model_module_version": "1.5.0",
          "model_name": "HTMLModel",
          "state": {
            "_dom_classes": [],
            "_model_module": "@jupyter-widgets/controls",
            "_model_module_version": "1.5.0",
            "_model_name": "HTMLModel",
            "_view_count": null,
            "_view_module": "@jupyter-widgets/controls",
            "_view_module_version": "1.5.0",
            "_view_name": "HTMLView",
            "description": "",
            "description_tooltip": null,
            "layout": "IPY_MODEL_396becc6d43a478fb22e2451461db17e",
            "placeholder": "​",
            "style": "IPY_MODEL_474337980d4740a9a6f51038e300de5b",
            "value": "Map: 100%"
          }
        },
        "863052d9038b406dbd8e80c7885eb3dd": {
          "model_module": "@jupyter-widgets/controls",
          "model_module_version": "1.5.0",
          "model_name": "HBoxModel",
          "state": {
            "_dom_classes": [],
            "_model_module": "@jupyter-widgets/controls",
            "_model_module_version": "1.5.0",
            "_model_name": "HBoxModel",
            "_view_count": null,
            "_view_module": "@jupyter-widgets/controls",
            "_view_module_version": "1.5.0",
            "_view_name": "HBoxView",
            "box_style": "",
            "children": [
              "IPY_MODEL_3ae1cfbb2cc3401ab1797341db18a9d6",
              "IPY_MODEL_3d0daecf2f7844b389b6355bdecca73c",
              "IPY_MODEL_4a105d7eb2864ed692a2e99ed0f1c2e4"
            ],
            "layout": "IPY_MODEL_bd81247f97e34199b2c88451ac45582a"
          }
        },
        "865cecbd12604b75b3bb3d6f926dadf5": {
          "model_module": "@jupyter-widgets/base",
          "model_module_version": "1.2.0",
          "model_name": "LayoutModel",
          "state": {
            "_model_module": "@jupyter-widgets/base",
            "_model_module_version": "1.2.0",
            "_model_name": "LayoutModel",
            "_view_count": null,
            "_view_module": "@jupyter-widgets/base",
            "_view_module_version": "1.2.0",
            "_view_name": "LayoutView",
            "align_content": null,
            "align_items": null,
            "align_self": null,
            "border": null,
            "bottom": null,
            "display": null,
            "flex": null,
            "flex_flow": null,
            "grid_area": null,
            "grid_auto_columns": null,
            "grid_auto_flow": null,
            "grid_auto_rows": null,
            "grid_column": null,
            "grid_gap": null,
            "grid_row": null,
            "grid_template_areas": null,
            "grid_template_columns": null,
            "grid_template_rows": null,
            "height": null,
            "justify_content": null,
            "justify_items": null,
            "left": null,
            "margin": null,
            "max_height": null,
            "max_width": null,
            "min_height": null,
            "min_width": null,
            "object_fit": null,
            "object_position": null,
            "order": null,
            "overflow": null,
            "overflow_x": null,
            "overflow_y": null,
            "padding": null,
            "right": null,
            "top": null,
            "visibility": null,
            "width": null
          }
        },
        "884e26b7f12c455da552a07c30d9e1d3": {
          "model_module": "@jupyter-widgets/base",
          "model_module_version": "1.2.0",
          "model_name": "LayoutModel",
          "state": {
            "_model_module": "@jupyter-widgets/base",
            "_model_module_version": "1.2.0",
            "_model_name": "LayoutModel",
            "_view_count": null,
            "_view_module": "@jupyter-widgets/base",
            "_view_module_version": "1.2.0",
            "_view_name": "LayoutView",
            "align_content": null,
            "align_items": null,
            "align_self": null,
            "border": null,
            "bottom": null,
            "display": null,
            "flex": null,
            "flex_flow": null,
            "grid_area": null,
            "grid_auto_columns": null,
            "grid_auto_flow": null,
            "grid_auto_rows": null,
            "grid_column": null,
            "grid_gap": null,
            "grid_row": null,
            "grid_template_areas": null,
            "grid_template_columns": null,
            "grid_template_rows": null,
            "height": null,
            "justify_content": null,
            "justify_items": null,
            "left": null,
            "margin": null,
            "max_height": null,
            "max_width": null,
            "min_height": null,
            "min_width": null,
            "object_fit": null,
            "object_position": null,
            "order": null,
            "overflow": null,
            "overflow_x": null,
            "overflow_y": null,
            "padding": null,
            "right": null,
            "top": null,
            "visibility": null,
            "width": null
          }
        },
        "8a0a36de6e3747b18dbb65933a76c029": {
          "model_module": "@jupyter-widgets/base",
          "model_module_version": "1.2.0",
          "model_name": "LayoutModel",
          "state": {
            "_model_module": "@jupyter-widgets/base",
            "_model_module_version": "1.2.0",
            "_model_name": "LayoutModel",
            "_view_count": null,
            "_view_module": "@jupyter-widgets/base",
            "_view_module_version": "1.2.0",
            "_view_name": "LayoutView",
            "align_content": null,
            "align_items": null,
            "align_self": null,
            "border": null,
            "bottom": null,
            "display": null,
            "flex": null,
            "flex_flow": null,
            "grid_area": null,
            "grid_auto_columns": null,
            "grid_auto_flow": null,
            "grid_auto_rows": null,
            "grid_column": null,
            "grid_gap": null,
            "grid_row": null,
            "grid_template_areas": null,
            "grid_template_columns": null,
            "grid_template_rows": null,
            "height": null,
            "justify_content": null,
            "justify_items": null,
            "left": null,
            "margin": null,
            "max_height": null,
            "max_width": null,
            "min_height": null,
            "min_width": null,
            "object_fit": null,
            "object_position": null,
            "order": null,
            "overflow": null,
            "overflow_x": null,
            "overflow_y": null,
            "padding": null,
            "right": null,
            "top": null,
            "visibility": null,
            "width": null
          }
        },
        "8adfd41844814bceaa54b36e1188f1d2": {
          "model_module": "@jupyter-widgets/base",
          "model_module_version": "1.2.0",
          "model_name": "LayoutModel",
          "state": {
            "_model_module": "@jupyter-widgets/base",
            "_model_module_version": "1.2.0",
            "_model_name": "LayoutModel",
            "_view_count": null,
            "_view_module": "@jupyter-widgets/base",
            "_view_module_version": "1.2.0",
            "_view_name": "LayoutView",
            "align_content": null,
            "align_items": null,
            "align_self": null,
            "border": null,
            "bottom": null,
            "display": null,
            "flex": null,
            "flex_flow": null,
            "grid_area": null,
            "grid_auto_columns": null,
            "grid_auto_flow": null,
            "grid_auto_rows": null,
            "grid_column": null,
            "grid_gap": null,
            "grid_row": null,
            "grid_template_areas": null,
            "grid_template_columns": null,
            "grid_template_rows": null,
            "height": null,
            "justify_content": null,
            "justify_items": null,
            "left": null,
            "margin": null,
            "max_height": null,
            "max_width": null,
            "min_height": null,
            "min_width": null,
            "object_fit": null,
            "object_position": null,
            "order": null,
            "overflow": null,
            "overflow_x": null,
            "overflow_y": null,
            "padding": null,
            "right": null,
            "top": null,
            "visibility": null,
            "width": null
          }
        },
        "904a07c044044c739c1141141e0b9836": {
          "model_module": "@jupyter-widgets/base",
          "model_module_version": "1.2.0",
          "model_name": "LayoutModel",
          "state": {
            "_model_module": "@jupyter-widgets/base",
            "_model_module_version": "1.2.0",
            "_model_name": "LayoutModel",
            "_view_count": null,
            "_view_module": "@jupyter-widgets/base",
            "_view_module_version": "1.2.0",
            "_view_name": "LayoutView",
            "align_content": null,
            "align_items": null,
            "align_self": null,
            "border": null,
            "bottom": null,
            "display": null,
            "flex": null,
            "flex_flow": null,
            "grid_area": null,
            "grid_auto_columns": null,
            "grid_auto_flow": null,
            "grid_auto_rows": null,
            "grid_column": null,
            "grid_gap": null,
            "grid_row": null,
            "grid_template_areas": null,
            "grid_template_columns": null,
            "grid_template_rows": null,
            "height": null,
            "justify_content": null,
            "justify_items": null,
            "left": null,
            "margin": null,
            "max_height": null,
            "max_width": null,
            "min_height": null,
            "min_width": null,
            "object_fit": null,
            "object_position": null,
            "order": null,
            "overflow": null,
            "overflow_x": null,
            "overflow_y": null,
            "padding": null,
            "right": null,
            "top": null,
            "visibility": null,
            "width": null
          }
        },
        "90ee2dca3db24aec8adb9bd1fa6a704a": {
          "model_module": "@jupyter-widgets/controls",
          "model_module_version": "1.5.0",
          "model_name": "ProgressStyleModel",
          "state": {
            "_model_module": "@jupyter-widgets/controls",
            "_model_module_version": "1.5.0",
            "_model_name": "ProgressStyleModel",
            "_view_count": null,
            "_view_module": "@jupyter-widgets/base",
            "_view_module_version": "1.2.0",
            "_view_name": "StyleView",
            "bar_color": null,
            "description_width": ""
          }
        },
        "936595518c4a422f9753c44f55dc1a87": {
          "model_module": "@jupyter-widgets/controls",
          "model_module_version": "1.5.0",
          "model_name": "HTMLModel",
          "state": {
            "_dom_classes": [],
            "_model_module": "@jupyter-widgets/controls",
            "_model_module_version": "1.5.0",
            "_model_name": "HTMLModel",
            "_view_count": null,
            "_view_module": "@jupyter-widgets/controls",
            "_view_module_version": "1.5.0",
            "_view_name": "HTMLView",
            "description": "",
            "description_tooltip": null,
            "layout": "IPY_MODEL_1b6b1eded6144d4d9ad34e1bef71ea34",
            "placeholder": "​",
            "style": "IPY_MODEL_551ea86c095c4f6aa7d9b82257b74770",
            "value": " 10000/10000 [00:00&lt;00:00, 15766.94 examples/s]"
          }
        },
        "93fa3bc37bc34af490b23a02b92db036": {
          "model_module": "@jupyter-widgets/base",
          "model_module_version": "1.2.0",
          "model_name": "LayoutModel",
          "state": {
            "_model_module": "@jupyter-widgets/base",
            "_model_module_version": "1.2.0",
            "_model_name": "LayoutModel",
            "_view_count": null,
            "_view_module": "@jupyter-widgets/base",
            "_view_module_version": "1.2.0",
            "_view_name": "LayoutView",
            "align_content": null,
            "align_items": null,
            "align_self": null,
            "border": null,
            "bottom": null,
            "display": null,
            "flex": null,
            "flex_flow": null,
            "grid_area": null,
            "grid_auto_columns": null,
            "grid_auto_flow": null,
            "grid_auto_rows": null,
            "grid_column": null,
            "grid_gap": null,
            "grid_row": null,
            "grid_template_areas": null,
            "grid_template_columns": null,
            "grid_template_rows": null,
            "height": null,
            "justify_content": null,
            "justify_items": null,
            "left": null,
            "margin": null,
            "max_height": null,
            "max_width": null,
            "min_height": null,
            "min_width": null,
            "object_fit": null,
            "object_position": null,
            "order": null,
            "overflow": null,
            "overflow_x": null,
            "overflow_y": null,
            "padding": null,
            "right": null,
            "top": null,
            "visibility": null,
            "width": null
          }
        },
        "961c94b83cbb4ff4bab12b4785df68b5": {
          "model_module": "@jupyter-widgets/controls",
          "model_module_version": "1.5.0",
          "model_name": "DescriptionStyleModel",
          "state": {
            "_model_module": "@jupyter-widgets/controls",
            "_model_module_version": "1.5.0",
            "_model_name": "DescriptionStyleModel",
            "_view_count": null,
            "_view_module": "@jupyter-widgets/base",
            "_view_module_version": "1.2.0",
            "_view_name": "StyleView",
            "description_width": ""
          }
        },
        "a157d257953442a6a47cb843d0043d27": {
          "model_module": "@jupyter-widgets/base",
          "model_module_version": "1.2.0",
          "model_name": "LayoutModel",
          "state": {
            "_model_module": "@jupyter-widgets/base",
            "_model_module_version": "1.2.0",
            "_model_name": "LayoutModel",
            "_view_count": null,
            "_view_module": "@jupyter-widgets/base",
            "_view_module_version": "1.2.0",
            "_view_name": "LayoutView",
            "align_content": null,
            "align_items": null,
            "align_self": null,
            "border": null,
            "bottom": null,
            "display": null,
            "flex": null,
            "flex_flow": null,
            "grid_area": null,
            "grid_auto_columns": null,
            "grid_auto_flow": null,
            "grid_auto_rows": null,
            "grid_column": null,
            "grid_gap": null,
            "grid_row": null,
            "grid_template_areas": null,
            "grid_template_columns": null,
            "grid_template_rows": null,
            "height": null,
            "justify_content": null,
            "justify_items": null,
            "left": null,
            "margin": null,
            "max_height": null,
            "max_width": null,
            "min_height": null,
            "min_width": null,
            "object_fit": null,
            "object_position": null,
            "order": null,
            "overflow": null,
            "overflow_x": null,
            "overflow_y": null,
            "padding": null,
            "right": null,
            "top": null,
            "visibility": null,
            "width": null
          }
        },
        "a2e640c27ffa4a47be661a93e0797219": {
          "model_module": "@jupyter-widgets/controls",
          "model_module_version": "1.5.0",
          "model_name": "ProgressStyleModel",
          "state": {
            "_model_module": "@jupyter-widgets/controls",
            "_model_module_version": "1.5.0",
            "_model_name": "ProgressStyleModel",
            "_view_count": null,
            "_view_module": "@jupyter-widgets/base",
            "_view_module_version": "1.2.0",
            "_view_name": "StyleView",
            "bar_color": null,
            "description_width": ""
          }
        },
        "a52ac280ea744929bf05179ee9e05334": {
          "model_module": "@jupyter-widgets/controls",
          "model_module_version": "1.5.0",
          "model_name": "DescriptionStyleModel",
          "state": {
            "_model_module": "@jupyter-widgets/controls",
            "_model_module_version": "1.5.0",
            "_model_name": "DescriptionStyleModel",
            "_view_count": null,
            "_view_module": "@jupyter-widgets/base",
            "_view_module_version": "1.2.0",
            "_view_name": "StyleView",
            "description_width": ""
          }
        },
        "a8d29f70f0094be6adf84d154b25e582": {
          "model_module": "@jupyter-widgets/controls",
          "model_module_version": "1.5.0",
          "model_name": "FloatProgressModel",
          "state": {
            "_dom_classes": [],
            "_model_module": "@jupyter-widgets/controls",
            "_model_module_version": "1.5.0",
            "_model_name": "FloatProgressModel",
            "_view_count": null,
            "_view_module": "@jupyter-widgets/controls",
            "_view_module_version": "1.5.0",
            "_view_name": "ProgressView",
            "bar_style": "success",
            "description": "",
            "description_tooltip": null,
            "layout": "IPY_MODEL_a9889cfceee1472e86e934d08a07d5f0",
            "max": 10000,
            "min": 0,
            "orientation": "horizontal",
            "style": "IPY_MODEL_90ee2dca3db24aec8adb9bd1fa6a704a",
            "value": 10000
          }
        },
        "a9889cfceee1472e86e934d08a07d5f0": {
          "model_module": "@jupyter-widgets/base",
          "model_module_version": "1.2.0",
          "model_name": "LayoutModel",
          "state": {
            "_model_module": "@jupyter-widgets/base",
            "_model_module_version": "1.2.0",
            "_model_name": "LayoutModel",
            "_view_count": null,
            "_view_module": "@jupyter-widgets/base",
            "_view_module_version": "1.2.0",
            "_view_name": "LayoutView",
            "align_content": null,
            "align_items": null,
            "align_self": null,
            "border": null,
            "bottom": null,
            "display": null,
            "flex": null,
            "flex_flow": null,
            "grid_area": null,
            "grid_auto_columns": null,
            "grid_auto_flow": null,
            "grid_auto_rows": null,
            "grid_column": null,
            "grid_gap": null,
            "grid_row": null,
            "grid_template_areas": null,
            "grid_template_columns": null,
            "grid_template_rows": null,
            "height": null,
            "justify_content": null,
            "justify_items": null,
            "left": null,
            "margin": null,
            "max_height": null,
            "max_width": null,
            "min_height": null,
            "min_width": null,
            "object_fit": null,
            "object_position": null,
            "order": null,
            "overflow": null,
            "overflow_x": null,
            "overflow_y": null,
            "padding": null,
            "right": null,
            "top": null,
            "visibility": null,
            "width": null
          }
        },
        "acbad7c7364f4a7bb2d8a4b6ae2ceae3": {
          "model_module": "@jupyter-widgets/controls",
          "model_module_version": "1.5.0",
          "model_name": "HTMLModel",
          "state": {
            "_dom_classes": [],
            "_model_module": "@jupyter-widgets/controls",
            "_model_module_version": "1.5.0",
            "_model_name": "HTMLModel",
            "_view_count": null,
            "_view_module": "@jupyter-widgets/controls",
            "_view_module_version": "1.5.0",
            "_view_name": "HTMLView",
            "description": "",
            "description_tooltip": null,
            "layout": "IPY_MODEL_181ad6f4780f404fbfea88a1721c1c48",
            "placeholder": "​",
            "style": "IPY_MODEL_009005efe4b24b769e608ed39aa31e72",
            "value": " 504/504 [00:00&lt;00:00, 32.4kB/s]"
          }
        },
        "ad23680ff262485d8ddb9058b5a1c0aa": {
          "model_module": "@jupyter-widgets/base",
          "model_module_version": "1.2.0",
          "model_name": "LayoutModel",
          "state": {
            "_model_module": "@jupyter-widgets/base",
            "_model_module_version": "1.2.0",
            "_model_name": "LayoutModel",
            "_view_count": null,
            "_view_module": "@jupyter-widgets/base",
            "_view_module_version": "1.2.0",
            "_view_name": "LayoutView",
            "align_content": null,
            "align_items": null,
            "align_self": null,
            "border": null,
            "bottom": null,
            "display": null,
            "flex": null,
            "flex_flow": null,
            "grid_area": null,
            "grid_auto_columns": null,
            "grid_auto_flow": null,
            "grid_auto_rows": null,
            "grid_column": null,
            "grid_gap": null,
            "grid_row": null,
            "grid_template_areas": null,
            "grid_template_columns": null,
            "grid_template_rows": null,
            "height": null,
            "justify_content": null,
            "justify_items": null,
            "left": null,
            "margin": null,
            "max_height": null,
            "max_width": null,
            "min_height": null,
            "min_width": null,
            "object_fit": null,
            "object_position": null,
            "order": null,
            "overflow": null,
            "overflow_x": null,
            "overflow_y": null,
            "padding": null,
            "right": null,
            "top": null,
            "visibility": null,
            "width": null
          }
        },
        "b23aaccc27044387be9d22062d824608": {
          "model_module": "@jupyter-widgets/base",
          "model_module_version": "1.2.0",
          "model_name": "LayoutModel",
          "state": {
            "_model_module": "@jupyter-widgets/base",
            "_model_module_version": "1.2.0",
            "_model_name": "LayoutModel",
            "_view_count": null,
            "_view_module": "@jupyter-widgets/base",
            "_view_module_version": "1.2.0",
            "_view_name": "LayoutView",
            "align_content": null,
            "align_items": null,
            "align_self": null,
            "border": null,
            "bottom": null,
            "display": null,
            "flex": null,
            "flex_flow": null,
            "grid_area": null,
            "grid_auto_columns": null,
            "grid_auto_flow": null,
            "grid_auto_rows": null,
            "grid_column": null,
            "grid_gap": null,
            "grid_row": null,
            "grid_template_areas": null,
            "grid_template_columns": null,
            "grid_template_rows": null,
            "height": null,
            "justify_content": null,
            "justify_items": null,
            "left": null,
            "margin": null,
            "max_height": null,
            "max_width": null,
            "min_height": null,
            "min_width": null,
            "object_fit": null,
            "object_position": null,
            "order": null,
            "overflow": null,
            "overflow_x": null,
            "overflow_y": null,
            "padding": null,
            "right": null,
            "top": null,
            "visibility": null,
            "width": null
          }
        },
        "b670abfff105452b92e52b022f105ab2": {
          "model_module": "@jupyter-widgets/base",
          "model_module_version": "1.2.0",
          "model_name": "LayoutModel",
          "state": {
            "_model_module": "@jupyter-widgets/base",
            "_model_module_version": "1.2.0",
            "_model_name": "LayoutModel",
            "_view_count": null,
            "_view_module": "@jupyter-widgets/base",
            "_view_module_version": "1.2.0",
            "_view_name": "LayoutView",
            "align_content": null,
            "align_items": null,
            "align_self": null,
            "border": null,
            "bottom": null,
            "display": null,
            "flex": null,
            "flex_flow": null,
            "grid_area": null,
            "grid_auto_columns": null,
            "grid_auto_flow": null,
            "grid_auto_rows": null,
            "grid_column": null,
            "grid_gap": null,
            "grid_row": null,
            "grid_template_areas": null,
            "grid_template_columns": null,
            "grid_template_rows": null,
            "height": null,
            "justify_content": null,
            "justify_items": null,
            "left": null,
            "margin": null,
            "max_height": null,
            "max_width": null,
            "min_height": null,
            "min_width": null,
            "object_fit": null,
            "object_position": null,
            "order": null,
            "overflow": null,
            "overflow_x": null,
            "overflow_y": null,
            "padding": null,
            "right": null,
            "top": null,
            "visibility": null,
            "width": null
          }
        },
        "b856e5ef907c43ac89d67082b1b1c150": {
          "model_module": "@jupyter-widgets/controls",
          "model_module_version": "1.5.0",
          "model_name": "ProgressStyleModel",
          "state": {
            "_model_module": "@jupyter-widgets/controls",
            "_model_module_version": "1.5.0",
            "_model_name": "ProgressStyleModel",
            "_view_count": null,
            "_view_module": "@jupyter-widgets/base",
            "_view_module_version": "1.2.0",
            "_view_name": "StyleView",
            "bar_color": null,
            "description_width": ""
          }
        },
        "bd81247f97e34199b2c88451ac45582a": {
          "model_module": "@jupyter-widgets/base",
          "model_module_version": "1.2.0",
          "model_name": "LayoutModel",
          "state": {
            "_model_module": "@jupyter-widgets/base",
            "_model_module_version": "1.2.0",
            "_model_name": "LayoutModel",
            "_view_count": null,
            "_view_module": "@jupyter-widgets/base",
            "_view_module_version": "1.2.0",
            "_view_name": "LayoutView",
            "align_content": null,
            "align_items": null,
            "align_self": null,
            "border": null,
            "bottom": null,
            "display": null,
            "flex": null,
            "flex_flow": null,
            "grid_area": null,
            "grid_auto_columns": null,
            "grid_auto_flow": null,
            "grid_auto_rows": null,
            "grid_column": null,
            "grid_gap": null,
            "grid_row": null,
            "grid_template_areas": null,
            "grid_template_columns": null,
            "grid_template_rows": null,
            "height": null,
            "justify_content": null,
            "justify_items": null,
            "left": null,
            "margin": null,
            "max_height": null,
            "max_width": null,
            "min_height": null,
            "min_width": null,
            "object_fit": null,
            "object_position": null,
            "order": null,
            "overflow": null,
            "overflow_x": null,
            "overflow_y": null,
            "padding": null,
            "right": null,
            "top": null,
            "visibility": null,
            "width": null
          }
        },
        "c2d59d627db440028f1dc974da0bc0fa": {
          "model_module": "@jupyter-widgets/base",
          "model_module_version": "1.2.0",
          "model_name": "LayoutModel",
          "state": {
            "_model_module": "@jupyter-widgets/base",
            "_model_module_version": "1.2.0",
            "_model_name": "LayoutModel",
            "_view_count": null,
            "_view_module": "@jupyter-widgets/base",
            "_view_module_version": "1.2.0",
            "_view_name": "LayoutView",
            "align_content": null,
            "align_items": null,
            "align_self": null,
            "border": null,
            "bottom": null,
            "display": null,
            "flex": null,
            "flex_flow": null,
            "grid_area": null,
            "grid_auto_columns": null,
            "grid_auto_flow": null,
            "grid_auto_rows": null,
            "grid_column": null,
            "grid_gap": null,
            "grid_row": null,
            "grid_template_areas": null,
            "grid_template_columns": null,
            "grid_template_rows": null,
            "height": null,
            "justify_content": null,
            "justify_items": null,
            "left": null,
            "margin": null,
            "max_height": null,
            "max_width": null,
            "min_height": null,
            "min_width": null,
            "object_fit": null,
            "object_position": null,
            "order": null,
            "overflow": null,
            "overflow_x": null,
            "overflow_y": null,
            "padding": null,
            "right": null,
            "top": null,
            "visibility": null,
            "width": null
          }
        },
        "c44373dd7f6c426bb63bf8dc7d2990bf": {
          "model_module": "@jupyter-widgets/base",
          "model_module_version": "1.2.0",
          "model_name": "LayoutModel",
          "state": {
            "_model_module": "@jupyter-widgets/base",
            "_model_module_version": "1.2.0",
            "_model_name": "LayoutModel",
            "_view_count": null,
            "_view_module": "@jupyter-widgets/base",
            "_view_module_version": "1.2.0",
            "_view_name": "LayoutView",
            "align_content": null,
            "align_items": null,
            "align_self": null,
            "border": null,
            "bottom": null,
            "display": null,
            "flex": null,
            "flex_flow": null,
            "grid_area": null,
            "grid_auto_columns": null,
            "grid_auto_flow": null,
            "grid_auto_rows": null,
            "grid_column": null,
            "grid_gap": null,
            "grid_row": null,
            "grid_template_areas": null,
            "grid_template_columns": null,
            "grid_template_rows": null,
            "height": null,
            "justify_content": null,
            "justify_items": null,
            "left": null,
            "margin": null,
            "max_height": null,
            "max_width": null,
            "min_height": null,
            "min_width": null,
            "object_fit": null,
            "object_position": null,
            "order": null,
            "overflow": null,
            "overflow_x": null,
            "overflow_y": null,
            "padding": null,
            "right": null,
            "top": null,
            "visibility": null,
            "width": null
          }
        },
        "d4185d37108f4406b54042ea22eddc71": {
          "model_module": "@jupyter-widgets/base",
          "model_module_version": "1.2.0",
          "model_name": "LayoutModel",
          "state": {
            "_model_module": "@jupyter-widgets/base",
            "_model_module_version": "1.2.0",
            "_model_name": "LayoutModel",
            "_view_count": null,
            "_view_module": "@jupyter-widgets/base",
            "_view_module_version": "1.2.0",
            "_view_name": "LayoutView",
            "align_content": null,
            "align_items": null,
            "align_self": null,
            "border": null,
            "bottom": null,
            "display": null,
            "flex": null,
            "flex_flow": null,
            "grid_area": null,
            "grid_auto_columns": null,
            "grid_auto_flow": null,
            "grid_auto_rows": null,
            "grid_column": null,
            "grid_gap": null,
            "grid_row": null,
            "grid_template_areas": null,
            "grid_template_columns": null,
            "grid_template_rows": null,
            "height": null,
            "justify_content": null,
            "justify_items": null,
            "left": null,
            "margin": null,
            "max_height": null,
            "max_width": null,
            "min_height": null,
            "min_width": null,
            "object_fit": null,
            "object_position": null,
            "order": null,
            "overflow": null,
            "overflow_x": null,
            "overflow_y": null,
            "padding": null,
            "right": null,
            "top": null,
            "visibility": null,
            "width": null
          }
        },
        "daaab8bfb07743d0835c47be5fbf2e98": {
          "model_module": "@jupyter-widgets/base",
          "model_module_version": "1.2.0",
          "model_name": "LayoutModel",
          "state": {
            "_model_module": "@jupyter-widgets/base",
            "_model_module_version": "1.2.0",
            "_model_name": "LayoutModel",
            "_view_count": null,
            "_view_module": "@jupyter-widgets/base",
            "_view_module_version": "1.2.0",
            "_view_name": "LayoutView",
            "align_content": null,
            "align_items": null,
            "align_self": null,
            "border": null,
            "bottom": null,
            "display": null,
            "flex": null,
            "flex_flow": null,
            "grid_area": null,
            "grid_auto_columns": null,
            "grid_auto_flow": null,
            "grid_auto_rows": null,
            "grid_column": null,
            "grid_gap": null,
            "grid_row": null,
            "grid_template_areas": null,
            "grid_template_columns": null,
            "grid_template_rows": null,
            "height": null,
            "justify_content": null,
            "justify_items": null,
            "left": null,
            "margin": null,
            "max_height": null,
            "max_width": null,
            "min_height": null,
            "min_width": null,
            "object_fit": null,
            "object_position": null,
            "order": null,
            "overflow": null,
            "overflow_x": null,
            "overflow_y": null,
            "padding": null,
            "right": null,
            "top": null,
            "visibility": null,
            "width": null
          }
        },
        "dbf08f19e08b4496b775cefaef7b0c41": {
          "model_module": "@jupyter-widgets/controls",
          "model_module_version": "1.5.0",
          "model_name": "DescriptionStyleModel",
          "state": {
            "_model_module": "@jupyter-widgets/controls",
            "_model_module_version": "1.5.0",
            "_model_name": "DescriptionStyleModel",
            "_view_count": null,
            "_view_module": "@jupyter-widgets/base",
            "_view_module_version": "1.2.0",
            "_view_name": "StyleView",
            "description_width": ""
          }
        },
        "e3c77bea82444534b1448941422315a8": {
          "model_module": "@jupyter-widgets/base",
          "model_module_version": "1.2.0",
          "model_name": "LayoutModel",
          "state": {
            "_model_module": "@jupyter-widgets/base",
            "_model_module_version": "1.2.0",
            "_model_name": "LayoutModel",
            "_view_count": null,
            "_view_module": "@jupyter-widgets/base",
            "_view_module_version": "1.2.0",
            "_view_name": "LayoutView",
            "align_content": null,
            "align_items": null,
            "align_self": null,
            "border": null,
            "bottom": null,
            "display": null,
            "flex": null,
            "flex_flow": null,
            "grid_area": null,
            "grid_auto_columns": null,
            "grid_auto_flow": null,
            "grid_auto_rows": null,
            "grid_column": null,
            "grid_gap": null,
            "grid_row": null,
            "grid_template_areas": null,
            "grid_template_columns": null,
            "grid_template_rows": null,
            "height": null,
            "justify_content": null,
            "justify_items": null,
            "left": null,
            "margin": null,
            "max_height": null,
            "max_width": null,
            "min_height": null,
            "min_width": null,
            "object_fit": null,
            "object_position": null,
            "order": null,
            "overflow": null,
            "overflow_x": null,
            "overflow_y": null,
            "padding": null,
            "right": null,
            "top": null,
            "visibility": null,
            "width": null
          }
        },
        "e55ed74f9a624fc7b1b5c60b06bd7e6b": {
          "model_module": "@jupyter-widgets/controls",
          "model_module_version": "1.5.0",
          "model_name": "DescriptionStyleModel",
          "state": {
            "_model_module": "@jupyter-widgets/controls",
            "_model_module_version": "1.5.0",
            "_model_name": "DescriptionStyleModel",
            "_view_count": null,
            "_view_module": "@jupyter-widgets/base",
            "_view_module_version": "1.2.0",
            "_view_name": "StyleView",
            "description_width": ""
          }
        },
        "e5841191809e4e67b002d95156ad8ddf": {
          "model_module": "@jupyter-widgets/controls",
          "model_module_version": "1.5.0",
          "model_name": "HTMLModel",
          "state": {
            "_dom_classes": [],
            "_model_module": "@jupyter-widgets/controls",
            "_model_module_version": "1.5.0",
            "_model_name": "HTMLModel",
            "_view_count": null,
            "_view_module": "@jupyter-widgets/controls",
            "_view_module_version": "1.5.0",
            "_view_name": "HTMLView",
            "description": "",
            "description_tooltip": null,
            "layout": "IPY_MODEL_f15be6b18ddd44e782e1e63fd4288aed",
            "placeholder": "​",
            "style": "IPY_MODEL_a52ac280ea744929bf05179ee9e05334",
            "value": "Map: 100%"
          }
        },
        "ea3a72143d2647fda94427ce7dac998b": {
          "model_module": "@jupyter-widgets/controls",
          "model_module_version": "1.5.0",
          "model_name": "DescriptionStyleModel",
          "state": {
            "_model_module": "@jupyter-widgets/controls",
            "_model_module_version": "1.5.0",
            "_model_name": "DescriptionStyleModel",
            "_view_count": null,
            "_view_module": "@jupyter-widgets/base",
            "_view_module_version": "1.2.0",
            "_view_name": "StyleView",
            "description_width": ""
          }
        },
        "ec8dc856102d4b1ca89a495e8039ad5a": {
          "model_module": "@jupyter-widgets/controls",
          "model_module_version": "1.5.0",
          "model_name": "DescriptionStyleModel",
          "state": {
            "_model_module": "@jupyter-widgets/controls",
            "_model_module_version": "1.5.0",
            "_model_name": "DescriptionStyleModel",
            "_view_count": null,
            "_view_module": "@jupyter-widgets/base",
            "_view_module_version": "1.2.0",
            "_view_name": "StyleView",
            "description_width": ""
          }
        },
        "edf14773d7d248208bd2f6ff1d23adde": {
          "model_module": "@jupyter-widgets/controls",
          "model_module_version": "1.5.0",
          "model_name": "HBoxModel",
          "state": {
            "_dom_classes": [],
            "_model_module": "@jupyter-widgets/controls",
            "_model_module_version": "1.5.0",
            "_model_name": "HBoxModel",
            "_view_count": null,
            "_view_module": "@jupyter-widgets/controls",
            "_view_module_version": "1.5.0",
            "_view_name": "HBoxView",
            "box_style": "",
            "children": [
              "IPY_MODEL_46886812fe3a4b799072424f3cc52b2f",
              "IPY_MODEL_fa6365b52ff44e4991d2f82760137d4a",
              "IPY_MODEL_2a91eff804a14c3e8b72184e9a25c3fc"
            ],
            "layout": "IPY_MODEL_865cecbd12604b75b3bb3d6f926dadf5"
          }
        },
        "ef36313b8d7a443299ede6ae8c0a5bc7": {
          "model_module": "@jupyter-widgets/base",
          "model_module_version": "1.2.0",
          "model_name": "LayoutModel",
          "state": {
            "_model_module": "@jupyter-widgets/base",
            "_model_module_version": "1.2.0",
            "_model_name": "LayoutModel",
            "_view_count": null,
            "_view_module": "@jupyter-widgets/base",
            "_view_module_version": "1.2.0",
            "_view_name": "LayoutView",
            "align_content": null,
            "align_items": null,
            "align_self": null,
            "border": null,
            "bottom": null,
            "display": null,
            "flex": null,
            "flex_flow": null,
            "grid_area": null,
            "grid_auto_columns": null,
            "grid_auto_flow": null,
            "grid_auto_rows": null,
            "grid_column": null,
            "grid_gap": null,
            "grid_row": null,
            "grid_template_areas": null,
            "grid_template_columns": null,
            "grid_template_rows": null,
            "height": null,
            "justify_content": null,
            "justify_items": null,
            "left": null,
            "margin": null,
            "max_height": null,
            "max_width": null,
            "min_height": null,
            "min_width": null,
            "object_fit": null,
            "object_position": null,
            "order": null,
            "overflow": null,
            "overflow_x": null,
            "overflow_y": null,
            "padding": null,
            "right": null,
            "top": null,
            "visibility": null,
            "width": null
          }
        },
        "f15be6b18ddd44e782e1e63fd4288aed": {
          "model_module": "@jupyter-widgets/base",
          "model_module_version": "1.2.0",
          "model_name": "LayoutModel",
          "state": {
            "_model_module": "@jupyter-widgets/base",
            "_model_module_version": "1.2.0",
            "_model_name": "LayoutModel",
            "_view_count": null,
            "_view_module": "@jupyter-widgets/base",
            "_view_module_version": "1.2.0",
            "_view_name": "LayoutView",
            "align_content": null,
            "align_items": null,
            "align_self": null,
            "border": null,
            "bottom": null,
            "display": null,
            "flex": null,
            "flex_flow": null,
            "grid_area": null,
            "grid_auto_columns": null,
            "grid_auto_flow": null,
            "grid_auto_rows": null,
            "grid_column": null,
            "grid_gap": null,
            "grid_row": null,
            "grid_template_areas": null,
            "grid_template_columns": null,
            "grid_template_rows": null,
            "height": null,
            "justify_content": null,
            "justify_items": null,
            "left": null,
            "margin": null,
            "max_height": null,
            "max_width": null,
            "min_height": null,
            "min_width": null,
            "object_fit": null,
            "object_position": null,
            "order": null,
            "overflow": null,
            "overflow_x": null,
            "overflow_y": null,
            "padding": null,
            "right": null,
            "top": null,
            "visibility": null,
            "width": null
          }
        },
        "f3ddce0987534ddfb763d4de6ed64698": {
          "model_module": "@jupyter-widgets/controls",
          "model_module_version": "1.5.0",
          "model_name": "HBoxModel",
          "state": {
            "_dom_classes": [],
            "_model_module": "@jupyter-widgets/controls",
            "_model_module_version": "1.5.0",
            "_model_name": "HBoxModel",
            "_view_count": null,
            "_view_module": "@jupyter-widgets/controls",
            "_view_module_version": "1.5.0",
            "_view_name": "HBoxView",
            "box_style": "",
            "children": [
              "IPY_MODEL_09b140481f9a4f0d918ca34413b1114b",
              "IPY_MODEL_4665c933d4794256a6f8916a556bda79",
              "IPY_MODEL_35e0939b9cfd4f779eb036d3c3911077"
            ],
            "layout": "IPY_MODEL_ef36313b8d7a443299ede6ae8c0a5bc7"
          }
        },
        "f51e6238d99d4e69be0ce9b4f32d71ac": {
          "model_module": "@jupyter-widgets/controls",
          "model_module_version": "1.5.0",
          "model_name": "HBoxModel",
          "state": {
            "_dom_classes": [],
            "_model_module": "@jupyter-widgets/controls",
            "_model_module_version": "1.5.0",
            "_model_name": "HBoxModel",
            "_view_count": null,
            "_view_module": "@jupyter-widgets/controls",
            "_view_module_version": "1.5.0",
            "_view_name": "HBoxView",
            "box_style": "",
            "children": [
              "IPY_MODEL_2ee49687965c41e9986dd8799c7f81d6",
              "IPY_MODEL_6ee800fc45a54a7d82dd2e435713632b",
              "IPY_MODEL_5d3f622f6f014c339651c225b63ff992"
            ],
            "layout": "IPY_MODEL_04d2b621634b4abfbc71684639c17bb5"
          }
        },
        "fa415fd1e8874e4e8f2a0d5057dd0428": {
          "model_module": "@jupyter-widgets/controls",
          "model_module_version": "1.5.0",
          "model_name": "ProgressStyleModel",
          "state": {
            "_model_module": "@jupyter-widgets/controls",
            "_model_module_version": "1.5.0",
            "_model_name": "ProgressStyleModel",
            "_view_count": null,
            "_view_module": "@jupyter-widgets/base",
            "_view_module_version": "1.2.0",
            "_view_name": "StyleView",
            "bar_color": null,
            "description_width": ""
          }
        },
        "fa6365b52ff44e4991d2f82760137d4a": {
          "model_module": "@jupyter-widgets/controls",
          "model_module_version": "1.5.0",
          "model_name": "FloatProgressModel",
          "state": {
            "_dom_classes": [],
            "_model_module": "@jupyter-widgets/controls",
            "_model_module_version": "1.5.0",
            "_model_name": "FloatProgressModel",
            "_view_count": null,
            "_view_module": "@jupyter-widgets/controls",
            "_view_module_version": "1.5.0",
            "_view_name": "ProgressView",
            "bar_style": "success",
            "description": "",
            "description_tooltip": null,
            "layout": "IPY_MODEL_c2d59d627db440028f1dc974da0bc0fa",
            "max": 6221,
            "min": 0,
            "orientation": "horizontal",
            "style": "IPY_MODEL_159ce554d26044ad85e8601f34428060",
            "value": 6221
          }
        },
        "ff22a43430f84099871f9aef4a0320ce": {
          "model_module": "@jupyter-widgets/controls",
          "model_module_version": "1.5.0",
          "model_name": "FloatProgressModel",
          "state": {
            "_dom_classes": [],
            "_model_module": "@jupyter-widgets/controls",
            "_model_module_version": "1.5.0",
            "_model_name": "FloatProgressModel",
            "_view_count": null,
            "_view_module": "@jupyter-widgets/controls",
            "_view_module_version": "1.5.0",
            "_view_name": "ProgressView",
            "bar_style": "success",
            "description": "",
            "description_tooltip": null,
            "layout": "IPY_MODEL_777cf32b115046dbbf5db9bc13c43655",
            "max": 504,
            "min": 0,
            "orientation": "horizontal",
            "style": "IPY_MODEL_5e3b2b9c251a438d955b284534768f81",
            "value": 504
          }
        },
        "c248f71172b94fbd860bd4157481736d": {
          "model_module": "@jupyter-widgets/controls",
          "model_name": "DropdownModel",
          "model_module_version": "1.5.0",
          "state": {
            "_dom_classes": [],
            "_model_module": "@jupyter-widgets/controls",
            "_model_module_version": "1.5.0",
            "_model_name": "DropdownModel",
            "_options_labels": [
              "1",
              "2",
              "3",
              "4",
              "5",
              "6",
              "7",
              "8",
              "9",
              "10",
              "11",
              "12",
              "13",
              "14",
              "15",
              "16",
              "17",
              "18",
              "19",
              "20",
              "21",
              "22",
              "23"
            ],
            "_view_count": null,
            "_view_module": "@jupyter-widgets/controls",
            "_view_module_version": "1.5.0",
            "_view_name": "DropdownView",
            "description": "Layer",
            "description_tooltip": null,
            "disabled": false,
            "index": 22,
            "layout": "IPY_MODEL_e956d7f87b46428489fd2a10e4551128",
            "style": "IPY_MODEL_87c1dc3f897b43dc8b8324d1778b83ed"
          }
        },
        "e956d7f87b46428489fd2a10e4551128": {
          "model_module": "@jupyter-widgets/base",
          "model_name": "LayoutModel",
          "model_module_version": "1.2.0",
          "state": {
            "_model_module": "@jupyter-widgets/base",
            "_model_module_version": "1.2.0",
            "_model_name": "LayoutModel",
            "_view_count": null,
            "_view_module": "@jupyter-widgets/base",
            "_view_module_version": "1.2.0",
            "_view_name": "LayoutView",
            "align_content": null,
            "align_items": null,
            "align_self": null,
            "border": null,
            "bottom": null,
            "display": null,
            "flex": null,
            "flex_flow": null,
            "grid_area": null,
            "grid_auto_columns": null,
            "grid_auto_flow": null,
            "grid_auto_rows": null,
            "grid_column": null,
            "grid_gap": null,
            "grid_row": null,
            "grid_template_areas": null,
            "grid_template_columns": null,
            "grid_template_rows": null,
            "height": null,
            "justify_content": null,
            "justify_items": null,
            "left": null,
            "margin": null,
            "max_height": null,
            "max_width": null,
            "min_height": null,
            "min_width": null,
            "object_fit": null,
            "object_position": null,
            "order": null,
            "overflow": null,
            "overflow_x": null,
            "overflow_y": null,
            "padding": null,
            "right": null,
            "top": null,
            "visibility": null,
            "width": null
          }
        },
        "87c1dc3f897b43dc8b8324d1778b83ed": {
          "model_module": "@jupyter-widgets/controls",
          "model_name": "DescriptionStyleModel",
          "model_module_version": "1.5.0",
          "state": {
            "_model_module": "@jupyter-widgets/controls",
            "_model_module_version": "1.5.0",
            "_model_name": "DescriptionStyleModel",
            "_view_count": null,
            "_view_module": "@jupyter-widgets/base",
            "_view_module_version": "1.2.0",
            "_view_name": "StyleView",
            "description_width": ""
          }
        },
        "f3ae0085ebb342a6a5b8bbb2d324f332": {
          "model_module": "@jupyter-widgets/controls",
          "model_name": "DropdownModel",
          "model_module_version": "1.5.0",
          "state": {
            "_dom_classes": [],
            "_model_module": "@jupyter-widgets/controls",
            "_model_module_version": "1.5.0",
            "_model_name": "DropdownModel",
            "_options_labels": [
              "0",
              "1",
              "2",
              "3",
              "4",
              "5",
              "6",
              "7",
              "8",
              "9",
              "10",
              "11",
              "12",
              "13",
              "14",
              "15",
              "16",
              "17",
              "18",
              "19",
              "20",
              "21",
              "22",
              "23",
              "24",
              "25",
              "26",
              "27",
              "28",
              "29",
              "30",
              "31"
            ],
            "_view_count": null,
            "_view_module": "@jupyter-widgets/controls",
            "_view_module_version": "1.5.0",
            "_view_name": "DropdownView",
            "description": "Attn Head:",
            "description_tooltip": null,
            "disabled": false,
            "index": 2,
            "layout": "IPY_MODEL_6b25fa9e26384fcea565a75d41dde251",
            "style": "IPY_MODEL_f574c8fa64544e358c4a2efed7d9363b"
          }
        },
        "6b25fa9e26384fcea565a75d41dde251": {
          "model_module": "@jupyter-widgets/base",
          "model_name": "LayoutModel",
          "model_module_version": "1.2.0",
          "state": {
            "_model_module": "@jupyter-widgets/base",
            "_model_module_version": "1.2.0",
            "_model_name": "LayoutModel",
            "_view_count": null,
            "_view_module": "@jupyter-widgets/base",
            "_view_module_version": "1.2.0",
            "_view_name": "LayoutView",
            "align_content": null,
            "align_items": null,
            "align_self": null,
            "border": null,
            "bottom": null,
            "display": null,
            "flex": null,
            "flex_flow": null,
            "grid_area": null,
            "grid_auto_columns": null,
            "grid_auto_flow": null,
            "grid_auto_rows": null,
            "grid_column": null,
            "grid_gap": null,
            "grid_row": null,
            "grid_template_areas": null,
            "grid_template_columns": null,
            "grid_template_rows": null,
            "height": null,
            "justify_content": null,
            "justify_items": null,
            "left": null,
            "margin": null,
            "max_height": null,
            "max_width": null,
            "min_height": null,
            "min_width": null,
            "object_fit": null,
            "object_position": null,
            "order": null,
            "overflow": null,
            "overflow_x": null,
            "overflow_y": null,
            "padding": null,
            "right": null,
            "top": null,
            "visibility": null,
            "width": null
          }
        },
        "f574c8fa64544e358c4a2efed7d9363b": {
          "model_module": "@jupyter-widgets/controls",
          "model_name": "DescriptionStyleModel",
          "model_module_version": "1.5.0",
          "state": {
            "_model_module": "@jupyter-widgets/controls",
            "_model_module_version": "1.5.0",
            "_model_name": "DescriptionStyleModel",
            "_view_count": null,
            "_view_module": "@jupyter-widgets/base",
            "_view_module_version": "1.2.0",
            "_view_name": "StyleView",
            "description_width": ""
          }
        },
        "b30e4439bf1c4a7a87244c9b99a804c7": {
          "model_module": "@jupyter-widgets/controls",
          "model_name": "DropdownModel",
          "model_module_version": "1.5.0",
          "state": {
            "_dom_classes": [],
            "_model_module": "@jupyter-widgets/controls",
            "_model_module_version": "1.5.0",
            "_model_name": "DropdownModel",
            "_options_labels": [
              "Can",
              " you",
              " tell",
              " me",
              " what",
              " a",
              " master",
              "-",
              "at",
              "-",
              "arms",
              " is",
              "?"
            ],
            "_view_count": null,
            "_view_module": "@jupyter-widgets/controls",
            "_view_module_version": "1.5.0",
            "_view_name": "DropdownView",
            "description": "Token:",
            "description_tooltip": null,
            "disabled": false,
            "index": 12,
            "layout": "IPY_MODEL_7ffd8ee6d4224de384db93646a055f0c",
            "style": "IPY_MODEL_d9db37a50daf4086a98dc4d9fc02e6e0"
          }
        },
        "7ffd8ee6d4224de384db93646a055f0c": {
          "model_module": "@jupyter-widgets/base",
          "model_name": "LayoutModel",
          "model_module_version": "1.2.0",
          "state": {
            "_model_module": "@jupyter-widgets/base",
            "_model_module_version": "1.2.0",
            "_model_name": "LayoutModel",
            "_view_count": null,
            "_view_module": "@jupyter-widgets/base",
            "_view_module_version": "1.2.0",
            "_view_name": "LayoutView",
            "align_content": null,
            "align_items": null,
            "align_self": null,
            "border": null,
            "bottom": null,
            "display": null,
            "flex": null,
            "flex_flow": null,
            "grid_area": null,
            "grid_auto_columns": null,
            "grid_auto_flow": null,
            "grid_auto_rows": null,
            "grid_column": null,
            "grid_gap": null,
            "grid_row": null,
            "grid_template_areas": null,
            "grid_template_columns": null,
            "grid_template_rows": null,
            "height": null,
            "justify_content": null,
            "justify_items": null,
            "left": null,
            "margin": null,
            "max_height": null,
            "max_width": null,
            "min_height": null,
            "min_width": null,
            "object_fit": null,
            "object_position": null,
            "order": null,
            "overflow": null,
            "overflow_x": null,
            "overflow_y": null,
            "padding": null,
            "right": null,
            "top": null,
            "visibility": null,
            "width": null
          }
        },
        "d9db37a50daf4086a98dc4d9fc02e6e0": {
          "model_module": "@jupyter-widgets/controls",
          "model_name": "DescriptionStyleModel",
          "model_module_version": "1.5.0",
          "state": {
            "_model_module": "@jupyter-widgets/controls",
            "_model_module_version": "1.5.0",
            "_model_name": "DescriptionStyleModel",
            "_view_count": null,
            "_view_module": "@jupyter-widgets/base",
            "_view_module_version": "1.2.0",
            "_view_name": "StyleView",
            "description_width": ""
          }
        },
        "ee88d18669c04c4fab84ca53e3398fc2": {
          "model_module": "@jupyter-widgets/controls",
          "model_name": "ButtonModel",
          "model_module_version": "1.5.0",
          "state": {
            "_dom_classes": [],
            "_model_module": "@jupyter-widgets/controls",
            "_model_module_version": "1.5.0",
            "_model_name": "ButtonModel",
            "_view_count": null,
            "_view_module": "@jupyter-widgets/controls",
            "_view_module_version": "1.5.0",
            "_view_name": "ButtonView",
            "button_style": "",
            "description": "Plot",
            "disabled": false,
            "icon": "",
            "layout": "IPY_MODEL_f6e74621992e407e91b2d76a712d171c",
            "style": "IPY_MODEL_c8f5273b390e455492b2f650c277d0ca",
            "tooltip": ""
          }
        },
        "f6e74621992e407e91b2d76a712d171c": {
          "model_module": "@jupyter-widgets/base",
          "model_name": "LayoutModel",
          "model_module_version": "1.2.0",
          "state": {
            "_model_module": "@jupyter-widgets/base",
            "_model_module_version": "1.2.0",
            "_model_name": "LayoutModel",
            "_view_count": null,
            "_view_module": "@jupyter-widgets/base",
            "_view_module_version": "1.2.0",
            "_view_name": "LayoutView",
            "align_content": null,
            "align_items": null,
            "align_self": null,
            "border": null,
            "bottom": null,
            "display": null,
            "flex": null,
            "flex_flow": null,
            "grid_area": null,
            "grid_auto_columns": null,
            "grid_auto_flow": null,
            "grid_auto_rows": null,
            "grid_column": null,
            "grid_gap": null,
            "grid_row": null,
            "grid_template_areas": null,
            "grid_template_columns": null,
            "grid_template_rows": null,
            "height": null,
            "justify_content": null,
            "justify_items": null,
            "left": null,
            "margin": null,
            "max_height": null,
            "max_width": null,
            "min_height": null,
            "min_width": null,
            "object_fit": null,
            "object_position": null,
            "order": null,
            "overflow": null,
            "overflow_x": null,
            "overflow_y": null,
            "padding": null,
            "right": null,
            "top": null,
            "visibility": null,
            "width": null
          }
        },
        "c8f5273b390e455492b2f650c277d0ca": {
          "model_module": "@jupyter-widgets/controls",
          "model_name": "ButtonStyleModel",
          "model_module_version": "1.5.0",
          "state": {
            "_model_module": "@jupyter-widgets/controls",
            "_model_module_version": "1.5.0",
            "_model_name": "ButtonStyleModel",
            "_view_count": null,
            "_view_module": "@jupyter-widgets/base",
            "_view_module_version": "1.2.0",
            "_view_name": "StyleView",
            "button_color": null,
            "font_weight": ""
          }
        },
        "7ed0a2bafeca43a0a6671214b54910ad": {
          "model_module": "@jupyter-widgets/output",
          "model_name": "OutputModel",
          "model_module_version": "1.0.0",
          "state": {
            "_dom_classes": [],
            "_model_module": "@jupyter-widgets/output",
            "_model_module_version": "1.0.0",
            "_model_name": "OutputModel",
            "_view_count": null,
            "_view_module": "@jupyter-widgets/output",
            "_view_module_version": "1.0.0",
            "_view_name": "OutputView",
            "layout": "IPY_MODEL_4d661deec4f04dd6a5419719fc128cf0",
            "msg_id": "",
            "outputs": [
              {
                "output_type": "display_data",
                "data": {
                  "text/plain": "<Figure size 300x300 with 1 Axes>",
                  "image/png": "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\n"
                },
                "metadata": {}
              }
            ]
          }
        },
        "4d661deec4f04dd6a5419719fc128cf0": {
          "model_module": "@jupyter-widgets/base",
          "model_name": "LayoutModel",
          "model_module_version": "1.2.0",
          "state": {
            "_model_module": "@jupyter-widgets/base",
            "_model_module_version": "1.2.0",
            "_model_name": "LayoutModel",
            "_view_count": null,
            "_view_module": "@jupyter-widgets/base",
            "_view_module_version": "1.2.0",
            "_view_name": "LayoutView",
            "align_content": null,
            "align_items": null,
            "align_self": null,
            "border": null,
            "bottom": null,
            "display": null,
            "flex": null,
            "flex_flow": null,
            "grid_area": null,
            "grid_auto_columns": null,
            "grid_auto_flow": null,
            "grid_auto_rows": null,
            "grid_column": null,
            "grid_gap": null,
            "grid_row": null,
            "grid_template_areas": null,
            "grid_template_columns": null,
            "grid_template_rows": null,
            "height": null,
            "justify_content": null,
            "justify_items": null,
            "left": null,
            "margin": null,
            "max_height": null,
            "max_width": null,
            "min_height": null,
            "min_width": null,
            "object_fit": null,
            "object_position": null,
            "order": null,
            "overflow": null,
            "overflow_x": null,
            "overflow_y": null,
            "padding": null,
            "right": null,
            "top": null,
            "visibility": null,
            "width": null
          }
        },
        "9294231cba1f49efb732193bae5a821f": {
          "model_module": "@jupyter-widgets/controls",
          "model_name": "HBoxModel",
          "model_module_version": "1.5.0",
          "state": {
            "_dom_classes": [],
            "_model_module": "@jupyter-widgets/controls",
            "_model_module_version": "1.5.0",
            "_model_name": "HBoxModel",
            "_view_count": null,
            "_view_module": "@jupyter-widgets/controls",
            "_view_module_version": "1.5.0",
            "_view_name": "HBoxView",
            "box_style": "",
            "children": [
              "IPY_MODEL_ed2606fd4dc44f758179cf4d420b53fe",
              "IPY_MODEL_542bf23a972641e098e2d7fe30e63f10",
              "IPY_MODEL_544794a771a0473eaca25e3a3c712fce"
            ],
            "layout": "IPY_MODEL_c6222f99dcfe40f4a86b6a94726e7d7e"
          }
        },
        "ed2606fd4dc44f758179cf4d420b53fe": {
          "model_module": "@jupyter-widgets/controls",
          "model_name": "HTMLModel",
          "model_module_version": "1.5.0",
          "state": {
            "_dom_classes": [],
            "_model_module": "@jupyter-widgets/controls",
            "_model_module_version": "1.5.0",
            "_model_name": "HTMLModel",
            "_view_count": null,
            "_view_module": "@jupyter-widgets/controls",
            "_view_module_version": "1.5.0",
            "_view_name": "HTMLView",
            "description": "",
            "description_tooltip": null,
            "layout": "IPY_MODEL_950c3499c53046738d189fdf2c8d743e",
            "placeholder": "​",
            "style": "IPY_MODEL_559e563f954b4759869ca9a1fe9bfd5f",
            "value": "Downloading (…)former_sequential.py: 100%"
          }
        },
        "542bf23a972641e098e2d7fe30e63f10": {
          "model_module": "@jupyter-widgets/controls",
          "model_name": "FloatProgressModel",
          "model_module_version": "1.5.0",
          "state": {
            "_dom_classes": [],
            "_model_module": "@jupyter-widgets/controls",
            "_model_module_version": "1.5.0",
            "_model_name": "FloatProgressModel",
            "_view_count": null,
            "_view_module": "@jupyter-widgets/controls",
            "_view_module_version": "1.5.0",
            "_view_name": "ProgressView",
            "bar_style": "success",
            "description": "",
            "description_tooltip": null,
            "layout": "IPY_MODEL_6aeb1bcbb7134dce9ee041447dfa46f6",
            "max": 2235,
            "min": 0,
            "orientation": "horizontal",
            "style": "IPY_MODEL_38b73eee8c334acd8d3a780b98d03960",
            "value": 2235
          }
        },
        "544794a771a0473eaca25e3a3c712fce": {
          "model_module": "@jupyter-widgets/controls",
          "model_name": "HTMLModel",
          "model_module_version": "1.5.0",
          "state": {
            "_dom_classes": [],
            "_model_module": "@jupyter-widgets/controls",
            "_model_module_version": "1.5.0",
            "_model_name": "HTMLModel",
            "_view_count": null,
            "_view_module": "@jupyter-widgets/controls",
            "_view_module_version": "1.5.0",
            "_view_name": "HTMLView",
            "description": "",
            "description_tooltip": null,
            "layout": "IPY_MODEL_7b7570eb16624a8ba84a04b43275ffb6",
            "placeholder": "​",
            "style": "IPY_MODEL_6171c94bc6824464bfedd19ad55e9c34",
            "value": " 2.23k/2.23k [00:00&lt;00:00, 55.1kB/s]"
          }
        },
        "c6222f99dcfe40f4a86b6a94726e7d7e": {
          "model_module": "@jupyter-widgets/base",
          "model_name": "LayoutModel",
          "model_module_version": "1.2.0",
          "state": {
            "_model_module": "@jupyter-widgets/base",
            "_model_module_version": "1.2.0",
            "_model_name": "LayoutModel",
            "_view_count": null,
            "_view_module": "@jupyter-widgets/base",
            "_view_module_version": "1.2.0",
            "_view_name": "LayoutView",
            "align_content": null,
            "align_items": null,
            "align_self": null,
            "border": null,
            "bottom": null,
            "display": null,
            "flex": null,
            "flex_flow": null,
            "grid_area": null,
            "grid_auto_columns": null,
            "grid_auto_flow": null,
            "grid_auto_rows": null,
            "grid_column": null,
            "grid_gap": null,
            "grid_row": null,
            "grid_template_areas": null,
            "grid_template_columns": null,
            "grid_template_rows": null,
            "height": null,
            "justify_content": null,
            "justify_items": null,
            "left": null,
            "margin": null,
            "max_height": null,
            "max_width": null,
            "min_height": null,
            "min_width": null,
            "object_fit": null,
            "object_position": null,
            "order": null,
            "overflow": null,
            "overflow_x": null,
            "overflow_y": null,
            "padding": null,
            "right": null,
            "top": null,
            "visibility": null,
            "width": null
          }
        },
        "950c3499c53046738d189fdf2c8d743e": {
          "model_module": "@jupyter-widgets/base",
          "model_name": "LayoutModel",
          "model_module_version": "1.2.0",
          "state": {
            "_model_module": "@jupyter-widgets/base",
            "_model_module_version": "1.2.0",
            "_model_name": "LayoutModel",
            "_view_count": null,
            "_view_module": "@jupyter-widgets/base",
            "_view_module_version": "1.2.0",
            "_view_name": "LayoutView",
            "align_content": null,
            "align_items": null,
            "align_self": null,
            "border": null,
            "bottom": null,
            "display": null,
            "flex": null,
            "flex_flow": null,
            "grid_area": null,
            "grid_auto_columns": null,
            "grid_auto_flow": null,
            "grid_auto_rows": null,
            "grid_column": null,
            "grid_gap": null,
            "grid_row": null,
            "grid_template_areas": null,
            "grid_template_columns": null,
            "grid_template_rows": null,
            "height": null,
            "justify_content": null,
            "justify_items": null,
            "left": null,
            "margin": null,
            "max_height": null,
            "max_width": null,
            "min_height": null,
            "min_width": null,
            "object_fit": null,
            "object_position": null,
            "order": null,
            "overflow": null,
            "overflow_x": null,
            "overflow_y": null,
            "padding": null,
            "right": null,
            "top": null,
            "visibility": null,
            "width": null
          }
        },
        "559e563f954b4759869ca9a1fe9bfd5f": {
          "model_module": "@jupyter-widgets/controls",
          "model_name": "DescriptionStyleModel",
          "model_module_version": "1.5.0",
          "state": {
            "_model_module": "@jupyter-widgets/controls",
            "_model_module_version": "1.5.0",
            "_model_name": "DescriptionStyleModel",
            "_view_count": null,
            "_view_module": "@jupyter-widgets/base",
            "_view_module_version": "1.2.0",
            "_view_name": "StyleView",
            "description_width": ""
          }
        },
        "6aeb1bcbb7134dce9ee041447dfa46f6": {
          "model_module": "@jupyter-widgets/base",
          "model_name": "LayoutModel",
          "model_module_version": "1.2.0",
          "state": {
            "_model_module": "@jupyter-widgets/base",
            "_model_module_version": "1.2.0",
            "_model_name": "LayoutModel",
            "_view_count": null,
            "_view_module": "@jupyter-widgets/base",
            "_view_module_version": "1.2.0",
            "_view_name": "LayoutView",
            "align_content": null,
            "align_items": null,
            "align_self": null,
            "border": null,
            "bottom": null,
            "display": null,
            "flex": null,
            "flex_flow": null,
            "grid_area": null,
            "grid_auto_columns": null,
            "grid_auto_flow": null,
            "grid_auto_rows": null,
            "grid_column": null,
            "grid_gap": null,
            "grid_row": null,
            "grid_template_areas": null,
            "grid_template_columns": null,
            "grid_template_rows": null,
            "height": null,
            "justify_content": null,
            "justify_items": null,
            "left": null,
            "margin": null,
            "max_height": null,
            "max_width": null,
            "min_height": null,
            "min_width": null,
            "object_fit": null,
            "object_position": null,
            "order": null,
            "overflow": null,
            "overflow_x": null,
            "overflow_y": null,
            "padding": null,
            "right": null,
            "top": null,
            "visibility": null,
            "width": null
          }
        },
        "38b73eee8c334acd8d3a780b98d03960": {
          "model_module": "@jupyter-widgets/controls",
          "model_name": "ProgressStyleModel",
          "model_module_version": "1.5.0",
          "state": {
            "_model_module": "@jupyter-widgets/controls",
            "_model_module_version": "1.5.0",
            "_model_name": "ProgressStyleModel",
            "_view_count": null,
            "_view_module": "@jupyter-widgets/base",
            "_view_module_version": "1.2.0",
            "_view_name": "StyleView",
            "bar_color": null,
            "description_width": ""
          }
        },
        "7b7570eb16624a8ba84a04b43275ffb6": {
          "model_module": "@jupyter-widgets/base",
          "model_name": "LayoutModel",
          "model_module_version": "1.2.0",
          "state": {
            "_model_module": "@jupyter-widgets/base",
            "_model_module_version": "1.2.0",
            "_model_name": "LayoutModel",
            "_view_count": null,
            "_view_module": "@jupyter-widgets/base",
            "_view_module_version": "1.2.0",
            "_view_name": "LayoutView",
            "align_content": null,
            "align_items": null,
            "align_self": null,
            "border": null,
            "bottom": null,
            "display": null,
            "flex": null,
            "flex_flow": null,
            "grid_area": null,
            "grid_auto_columns": null,
            "grid_auto_flow": null,
            "grid_auto_rows": null,
            "grid_column": null,
            "grid_gap": null,
            "grid_row": null,
            "grid_template_areas": null,
            "grid_template_columns": null,
            "grid_template_rows": null,
            "height": null,
            "justify_content": null,
            "justify_items": null,
            "left": null,
            "margin": null,
            "max_height": null,
            "max_width": null,
            "min_height": null,
            "min_width": null,
            "object_fit": null,
            "object_position": null,
            "order": null,
            "overflow": null,
            "overflow_x": null,
            "overflow_y": null,
            "padding": null,
            "right": null,
            "top": null,
            "visibility": null,
            "width": null
          }
        },
        "6171c94bc6824464bfedd19ad55e9c34": {
          "model_module": "@jupyter-widgets/controls",
          "model_name": "DescriptionStyleModel",
          "model_module_version": "1.5.0",
          "state": {
            "_model_module": "@jupyter-widgets/controls",
            "_model_module_version": "1.5.0",
            "_model_name": "DescriptionStyleModel",
            "_view_count": null,
            "_view_module": "@jupyter-widgets/base",
            "_view_module_version": "1.2.0",
            "_view_name": "StyleView",
            "description_width": ""
          }
        },
        "f366479bfd864ca8b1fdcb6feb783825": {
          "model_module": "@jupyter-widgets/controls",
          "model_name": "HBoxModel",
          "model_module_version": "1.5.0",
          "state": {
            "_dom_classes": [],
            "_model_module": "@jupyter-widgets/controls",
            "_model_module_version": "1.5.0",
            "_model_name": "HBoxModel",
            "_view_count": null,
            "_view_module": "@jupyter-widgets/controls",
            "_view_module_version": "1.5.0",
            "_view_name": "HBoxView",
            "box_style": "",
            "children": [
              "IPY_MODEL_49180c80123e4d7290a4fcabe5c7f82b",
              "IPY_MODEL_2e2d9aa53d9c40b1b11937231929449c",
              "IPY_MODEL_d4538f6aaea1438ca4cb9d89e7aab3ed"
            ],
            "layout": "IPY_MODEL_9e0096f09b0c487ab8bb88412fc96a63"
          }
        },
        "49180c80123e4d7290a4fcabe5c7f82b": {
          "model_module": "@jupyter-widgets/controls",
          "model_name": "HTMLModel",
          "model_module_version": "1.5.0",
          "state": {
            "_dom_classes": [],
            "_model_module": "@jupyter-widgets/controls",
            "_model_module_version": "1.5.0",
            "_model_name": "HTMLModel",
            "_view_count": null,
            "_view_module": "@jupyter-widgets/controls",
            "_view_module_version": "1.5.0",
            "_view_name": "HTMLView",
            "description": "",
            "description_tooltip": null,
            "layout": "IPY_MODEL_cf4435ca22d142f2b061fb9fc818e843",
            "placeholder": "​",
            "style": "IPY_MODEL_1d82c1e1f5864f92ae155d77dfbdfdc4",
            "value": "Downloading (…)former_sequential.py: 100%"
          }
        },
        "2e2d9aa53d9c40b1b11937231929449c": {
          "model_module": "@jupyter-widgets/controls",
          "model_name": "FloatProgressModel",
          "model_module_version": "1.5.0",
          "state": {
            "_dom_classes": [],
            "_model_module": "@jupyter-widgets/controls",
            "_model_module_version": "1.5.0",
            "_model_name": "FloatProgressModel",
            "_view_count": null,
            "_view_module": "@jupyter-widgets/controls",
            "_view_module_version": "1.5.0",
            "_view_name": "ProgressView",
            "bar_style": "success",
            "description": "",
            "description_tooltip": null,
            "layout": "IPY_MODEL_9b906b86a9244f13804c00a9d80f63dc",
            "max": 32240,
            "min": 0,
            "orientation": "horizontal",
            "style": "IPY_MODEL_21909a37397742068485986702d29820",
            "value": 32240
          }
        },
        "d4538f6aaea1438ca4cb9d89e7aab3ed": {
          "model_module": "@jupyter-widgets/controls",
          "model_name": "HTMLModel",
          "model_module_version": "1.5.0",
          "state": {
            "_dom_classes": [],
            "_model_module": "@jupyter-widgets/controls",
            "_model_module_version": "1.5.0",
            "_model_name": "HTMLModel",
            "_view_count": null,
            "_view_module": "@jupyter-widgets/controls",
            "_view_module_version": "1.5.0",
            "_view_name": "HTMLView",
            "description": "",
            "description_tooltip": null,
            "layout": "IPY_MODEL_fedc04a10b744116b18943359cfe38e4",
            "placeholder": "​",
            "style": "IPY_MODEL_5251fe71533f41ce9b931defc99338c2",
            "value": " 32.2k/32.2k [00:00&lt;00:00, 949kB/s]"
          }
        },
        "9e0096f09b0c487ab8bb88412fc96a63": {
          "model_module": "@jupyter-widgets/base",
          "model_name": "LayoutModel",
          "model_module_version": "1.2.0",
          "state": {
            "_model_module": "@jupyter-widgets/base",
            "_model_module_version": "1.2.0",
            "_model_name": "LayoutModel",
            "_view_count": null,
            "_view_module": "@jupyter-widgets/base",
            "_view_module_version": "1.2.0",
            "_view_name": "LayoutView",
            "align_content": null,
            "align_items": null,
            "align_self": null,
            "border": null,
            "bottom": null,
            "display": null,
            "flex": null,
            "flex_flow": null,
            "grid_area": null,
            "grid_auto_columns": null,
            "grid_auto_flow": null,
            "grid_auto_rows": null,
            "grid_column": null,
            "grid_gap": null,
            "grid_row": null,
            "grid_template_areas": null,
            "grid_template_columns": null,
            "grid_template_rows": null,
            "height": null,
            "justify_content": null,
            "justify_items": null,
            "left": null,
            "margin": null,
            "max_height": null,
            "max_width": null,
            "min_height": null,
            "min_width": null,
            "object_fit": null,
            "object_position": null,
            "order": null,
            "overflow": null,
            "overflow_x": null,
            "overflow_y": null,
            "padding": null,
            "right": null,
            "top": null,
            "visibility": null,
            "width": null
          }
        },
        "cf4435ca22d142f2b061fb9fc818e843": {
          "model_module": "@jupyter-widgets/base",
          "model_name": "LayoutModel",
          "model_module_version": "1.2.0",
          "state": {
            "_model_module": "@jupyter-widgets/base",
            "_model_module_version": "1.2.0",
            "_model_name": "LayoutModel",
            "_view_count": null,
            "_view_module": "@jupyter-widgets/base",
            "_view_module_version": "1.2.0",
            "_view_name": "LayoutView",
            "align_content": null,
            "align_items": null,
            "align_self": null,
            "border": null,
            "bottom": null,
            "display": null,
            "flex": null,
            "flex_flow": null,
            "grid_area": null,
            "grid_auto_columns": null,
            "grid_auto_flow": null,
            "grid_auto_rows": null,
            "grid_column": null,
            "grid_gap": null,
            "grid_row": null,
            "grid_template_areas": null,
            "grid_template_columns": null,
            "grid_template_rows": null,
            "height": null,
            "justify_content": null,
            "justify_items": null,
            "left": null,
            "margin": null,
            "max_height": null,
            "max_width": null,
            "min_height": null,
            "min_width": null,
            "object_fit": null,
            "object_position": null,
            "order": null,
            "overflow": null,
            "overflow_x": null,
            "overflow_y": null,
            "padding": null,
            "right": null,
            "top": null,
            "visibility": null,
            "width": null
          }
        },
        "1d82c1e1f5864f92ae155d77dfbdfdc4": {
          "model_module": "@jupyter-widgets/controls",
          "model_name": "DescriptionStyleModel",
          "model_module_version": "1.5.0",
          "state": {
            "_model_module": "@jupyter-widgets/controls",
            "_model_module_version": "1.5.0",
            "_model_name": "DescriptionStyleModel",
            "_view_count": null,
            "_view_module": "@jupyter-widgets/base",
            "_view_module_version": "1.2.0",
            "_view_name": "StyleView",
            "description_width": ""
          }
        },
        "9b906b86a9244f13804c00a9d80f63dc": {
          "model_module": "@jupyter-widgets/base",
          "model_name": "LayoutModel",
          "model_module_version": "1.2.0",
          "state": {
            "_model_module": "@jupyter-widgets/base",
            "_model_module_version": "1.2.0",
            "_model_name": "LayoutModel",
            "_view_count": null,
            "_view_module": "@jupyter-widgets/base",
            "_view_module_version": "1.2.0",
            "_view_name": "LayoutView",
            "align_content": null,
            "align_items": null,
            "align_self": null,
            "border": null,
            "bottom": null,
            "display": null,
            "flex": null,
            "flex_flow": null,
            "grid_area": null,
            "grid_auto_columns": null,
            "grid_auto_flow": null,
            "grid_auto_rows": null,
            "grid_column": null,
            "grid_gap": null,
            "grid_row": null,
            "grid_template_areas": null,
            "grid_template_columns": null,
            "grid_template_rows": null,
            "height": null,
            "justify_content": null,
            "justify_items": null,
            "left": null,
            "margin": null,
            "max_height": null,
            "max_width": null,
            "min_height": null,
            "min_width": null,
            "object_fit": null,
            "object_position": null,
            "order": null,
            "overflow": null,
            "overflow_x": null,
            "overflow_y": null,
            "padding": null,
            "right": null,
            "top": null,
            "visibility": null,
            "width": null
          }
        },
        "21909a37397742068485986702d29820": {
          "model_module": "@jupyter-widgets/controls",
          "model_name": "ProgressStyleModel",
          "model_module_version": "1.5.0",
          "state": {
            "_model_module": "@jupyter-widgets/controls",
            "_model_module_version": "1.5.0",
            "_model_name": "ProgressStyleModel",
            "_view_count": null,
            "_view_module": "@jupyter-widgets/base",
            "_view_module_version": "1.2.0",
            "_view_name": "StyleView",
            "bar_color": null,
            "description_width": ""
          }
        },
        "fedc04a10b744116b18943359cfe38e4": {
          "model_module": "@jupyter-widgets/base",
          "model_name": "LayoutModel",
          "model_module_version": "1.2.0",
          "state": {
            "_model_module": "@jupyter-widgets/base",
            "_model_module_version": "1.2.0",
            "_model_name": "LayoutModel",
            "_view_count": null,
            "_view_module": "@jupyter-widgets/base",
            "_view_module_version": "1.2.0",
            "_view_name": "LayoutView",
            "align_content": null,
            "align_items": null,
            "align_self": null,
            "border": null,
            "bottom": null,
            "display": null,
            "flex": null,
            "flex_flow": null,
            "grid_area": null,
            "grid_auto_columns": null,
            "grid_auto_flow": null,
            "grid_auto_rows": null,
            "grid_column": null,
            "grid_gap": null,
            "grid_row": null,
            "grid_template_areas": null,
            "grid_template_columns": null,
            "grid_template_rows": null,
            "height": null,
            "justify_content": null,
            "justify_items": null,
            "left": null,
            "margin": null,
            "max_height": null,
            "max_width": null,
            "min_height": null,
            "min_width": null,
            "object_fit": null,
            "object_position": null,
            "order": null,
            "overflow": null,
            "overflow_x": null,
            "overflow_y": null,
            "padding": null,
            "right": null,
            "top": null,
            "visibility": null,
            "width": null
          }
        },
        "5251fe71533f41ce9b931defc99338c2": {
          "model_module": "@jupyter-widgets/controls",
          "model_name": "DescriptionStyleModel",
          "model_module_version": "1.5.0",
          "state": {
            "_model_module": "@jupyter-widgets/controls",
            "_model_module_version": "1.5.0",
            "_model_name": "DescriptionStyleModel",
            "_view_count": null,
            "_view_module": "@jupyter-widgets/base",
            "_view_module_version": "1.2.0",
            "_view_name": "StyleView",
            "description_width": ""
          }
        }
      }
    }
  },
  "nbformat": 4,
  "nbformat_minor": 0
}